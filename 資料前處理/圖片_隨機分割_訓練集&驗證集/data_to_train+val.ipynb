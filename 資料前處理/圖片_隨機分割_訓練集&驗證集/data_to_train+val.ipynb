{
 "cells": [
  {
   "cell_type": "markdown",
   "id": "6acc192f",
   "metadata": {},
   "source": [
    "## 準備:\n",
    "- 資料夾結構：\n",
    "        |-- ori_photo\n",
    "            |-- class_0\n",
    "            |-- class_1\n",
    "            |-- class_2\n",
    "            |-- class_3\n",
    "        |-- data_to_train+val.ipynb\n",
    "\n",
    "## 結果:\n",
    "- 生成的資料夾:\n",
    "        |-- data\n",
    "            |-- train\n",
    "                |-- class_0\n",
    "                |-- class_1\n",
    "                |-- class_2\n",
    "                |-- class_3\n",
    "            |-- val\n",
    "                |-- class_0\n",
    "                |-- class_1\n",
    "                |-- class_2\n",
    "                |-- class_3"
   ]
  },
  {
   "cell_type": "code",
   "execution_count": 1,
   "id": "9069aa44",
   "metadata": {},
   "outputs": [],
   "source": [
    "import os\n",
    "from shutil import copy, rmtree\n",
    "import random\n",
    "\n",
    "\n",
    "def make_dir(file_path):\n",
    "    if os.path.exists(file_path):\n",
    "        # 如果文件夾存在，則先刪除原文件夾再創建\n",
    "        rmtree(file_path)\n",
    "    os.makedirs(file_path)\n",
    "\n",
    "\n",
    "def split_data(input_file_path, output_file_path, split_rate, seed='random'):\n",
    "    if seed == 'fixed':\n",
    "        random.seed(0)\n",
    "    else:\n",
    "        random.seed()\n",
    "    # 獲取當前文件路徑\n",
    "    cwd = os.getcwd()\n",
    "    input_dataset_path = os.path.join(cwd, input_file_path)\n",
    "    output_dataset_path = os.path.join(cwd, output_file_path)\n",
    "    assert os.path.exists(input_dataset_path), f\"path '{input_dataset_path}' does not exist.\"\n",
    "\n",
    "    dataset_classes = [dataset_class for dataset_class in os.listdir(input_dataset_path) if\n",
    "                       os.path.isdir(os.path.join(input_dataset_path, dataset_class))]\n",
    "    # 訓練集\n",
    "    train_path = os.path.join(output_dataset_path, 'train')\n",
    "    make_dir(train_path)\n",
    "    for dataset_class in dataset_classes:\n",
    "        make_dir(os.path.join(train_path, dataset_class))\n",
    "    # 驗證集\n",
    "    val_path = os.path.join(output_dataset_path, 'val')\n",
    "    make_dir(val_path)\n",
    "    for dataset_class in dataset_classes:\n",
    "        make_dir(os.path.join(val_path, dataset_class))\n",
    "\n",
    "    for dataset_class in dataset_classes:\n",
    "        input_dataset_class_path = os.path.join(input_dataset_path, dataset_class)\n",
    "        images = os.listdir(input_dataset_class_path)\n",
    "        images_num = len(images)\n",
    "        # 隨機選取驗證集\n",
    "        val_images = random.sample(images, k=int(images_num * split_rate))\n",
    "        for index, image in enumerate(images):\n",
    "            # 獲取圖像路徑\n",
    "            image_path = os.path.join(input_dataset_class_path, image)\n",
    "            if image in val_images:\n",
    "                # 將圖像文件copy到驗證集對應路徑\n",
    "                copy(image_path, os.path.join(val_path, dataset_class))\n",
    "            else:\n",
    "                copy(image_path, os.path.join(train_path, dataset_class))\n",
    "            #print(f'[{dataset_class}] is processing: {index + 1}/{images_num}')  # 查看分割進度用\n",
    "    print('Process Finished.')\n"
   ]
  },
  {
   "cell_type": "code",
   "execution_count": 2,
   "id": "00283c7f",
   "metadata": {},
   "outputs": [
    {
     "name": "stdout",
     "output_type": "stream",
     "text": [
      "Process Finished.\n"
     ]
    }
   ],
   "source": [
    "if __name__ == '__main__':\n",
    "    original_data_file_path = 'ori_photo'\n",
    "    spilit_data_file_path = 'data'\n",
    "    split_rate = 0.2\n",
    "    split_data(original_data_file_path, spilit_data_file_path, split_rate)"
   ]
  }
 ],
 "metadata": {
  "kernelspec": {
   "display_name": "Python 3 (ipykernel)",
   "language": "python",
   "name": "python3"
  },
  "language_info": {
   "codemirror_mode": {
    "name": "ipython",
    "version": 3
   },
   "file_extension": ".py",
   "mimetype": "text/x-python",
   "name": "python",
   "nbconvert_exporter": "python",
   "pygments_lexer": "ipython3",
   "version": "3.7.13"
  }
 },
 "nbformat": 4,
 "nbformat_minor": 5
}
