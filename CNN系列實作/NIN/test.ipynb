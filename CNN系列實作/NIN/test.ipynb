{
 "cells": [
  {
   "cell_type": "markdown",
   "id": "5fbe89c5",
   "metadata": {},
   "source": [
    "## 測試model性能(適應能力)"
   ]
  },
  {
   "cell_type": "code",
   "execution_count": 1,
   "id": "649f9d2b",
   "metadata": {},
   "outputs": [],
   "source": [
    "import os\n",
    "import torch\n",
    "from torchvision import datasets, transforms\n",
    "from torch.utils.data import DataLoader\n",
    "import matplotlib.pyplot as plt\n",
    "from torch.autograd import Variable\n",
    "\n",
    "from NIN_v1_model import NIN_v1  # 載入我的model\n",
    "from NIN_v2_model import NIN_v2\n",
    "from InceptionV3_model import Inception"
   ]
  },
  {
   "cell_type": "code",
   "execution_count": 2,
   "id": "59b43f60",
   "metadata": {},
   "outputs": [],
   "source": [
    "# test_function\n",
    "def test(testloader, model, use_GPU, loss_func):\n",
    "    model.eval()\n",
    "    val_loss = 0\n",
    "    val_correct_num = 0\n",
    "    with torch.no_grad():\n",
    "        for i, (data, target) in enumerate(testloader):\n",
    "            if use_GPU == True:\n",
    "                data, target = data.cuda(), target.cuda()\n",
    "            \n",
    "            output = model(data)\n",
    "            \n",
    "            # 算acc方法1:\n",
    "            print(\"正確class = \",target.data)\n",
    "            val_loss += loss_func(output, target).item()  # sum up batch loss\n",
    "            pred = output.data.max(1, keepdim=True)[1]  # get the index of the max log-probability\n",
    "            print(\"預測class = \",pred)\n",
    "            print(\"預測output = \",output,\"\\n\")\n",
    "            val_correct_num += pred.eq(target.data.view_as(pred)).cpu().sum()\n",
    "            # 算acc方法2:\n",
    "            #_, idx = torch.max(output.data, dim=1)\n",
    "            #val_correct_num += torch.sum(idx == target)\n",
    "\n",
    "        val_loss /= len(testloader)\n",
    "\n",
    "\n",
    "        val_correct_rate = 100. * val_correct_num / len(testloader.dataset)\n",
    "        result = 'Val set -> Average loss: {:.4f}, Accuracy: {}/{} ({:.3f}%)'.format(\n",
    "            val_loss, val_correct_num, len(testloader.dataset), val_correct_rate) \n",
    "        print(result)\n",
    "    return val_correct_rate, val_loss"
   ]
  },
  {
   "cell_type": "code",
   "execution_count": 3,
   "id": "02391408",
   "metadata": {},
   "outputs": [
    {
     "name": "stdout",
     "output_type": "stream",
     "text": [
      "test_data資料夾，圖片有 6 張\n",
      "\n",
      "正確class =  tensor([0], device='cuda:0')\n",
      "預測class =  tensor([[2]], device='cuda:0')\n",
      "預測output =  tensor([[-0.2875, -0.4370,  0.7049]], device='cuda:0') \n",
      "\n",
      "正確class =  tensor([0], device='cuda:0')\n",
      "預測class =  tensor([[2]], device='cuda:0')\n",
      "預測output =  tensor([[-0.6164, -0.9542,  1.6220]], device='cuda:0') \n",
      "\n",
      "正確class =  tensor([1], device='cuda:0')\n",
      "預測class =  tensor([[1]], device='cuda:0')\n",
      "預測output =  tensor([[-0.0192,  0.6983, -0.7980]], device='cuda:0') \n",
      "\n",
      "正確class =  tensor([1], device='cuda:0')\n",
      "預測class =  tensor([[2]], device='cuda:0')\n",
      "預測output =  tensor([[-0.7337, -0.2566,  1.0025]], device='cuda:0') \n",
      "\n",
      "正確class =  tensor([2], device='cuda:0')\n",
      "預測class =  tensor([[2]], device='cuda:0')\n",
      "預測output =  tensor([[-0.8271, -0.3096,  1.1503]], device='cuda:0') \n",
      "\n",
      "正確class =  tensor([2], device='cuda:0')\n",
      "預測class =  tensor([[2]], device='cuda:0')\n",
      "預測output =  tensor([[-1.0314, -0.6792,  1.7354]], device='cuda:0') \n",
      "\n",
      "Val set -> Average loss: 1.0926, Accuracy: 3/6 (50.000%)\n"
     ]
    }
   ],
   "source": [
    "# 參數設定\n",
    "use_GPU = True\n",
    "loss_func = torch.nn.CrossEntropyLoss() \n",
    "img_size = 224\n",
    "\n",
    "# 資料前處理\n",
    "normalize = transforms.Normalize(\n",
    "    mean=[0.485, 0.456, 0.406],\n",
    "    std=[0.229, 0.224, 0.225]\n",
    ")\n",
    "transform_test = transforms.Compose([\n",
    "    transforms.Resize((img_size,img_size)), #長=256 寬=等比例縮小\n",
    "    #transforms.CenterCrop(img_size),\n",
    "    transforms.ToTensor(),\n",
    "    normalize\n",
    "])\n",
    "\n",
    "\n",
    "test_data = datasets.ImageFolder('test_data/', transform=transform_test)\n",
    "testloader = DataLoader(dataset=test_data, batch_size=1, shuffle=False)\n",
    "print(\"test_data資料夾，圖片有\", len(testloader.dataset), \"張\\n\")\n",
    "\n",
    "# 加載訓練好的模型\n",
    "best_model = torch.load('best_model.pth')\n",
    "    \n",
    "test_acc, test_loss = test(testloader, best_model, use_GPU, loss_func)"
   ]
  }
 ],
 "metadata": {
  "kernelspec": {
   "display_name": "Python 3 (ipykernel)",
   "language": "python",
   "name": "python3"
  },
  "language_info": {
   "codemirror_mode": {
    "name": "ipython",
    "version": 3
   },
   "file_extension": ".py",
   "mimetype": "text/x-python",
   "name": "python",
   "nbconvert_exporter": "python",
   "pygments_lexer": "ipython3",
   "version": "3.7.13"
  }
 },
 "nbformat": 4,
 "nbformat_minor": 5
}
