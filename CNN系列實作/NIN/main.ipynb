{
 "cells": [
  {
   "cell_type": "markdown",
   "id": "c36f817e",
   "metadata": {},
   "source": [
    "# 學習日期: 2022/6/2開始\n",
    "## 目標: 使用指定的backbone論文，進行口罩辨識\n",
    "## Backbone論文: Network in Network\n",
    "- **參考資料1:** https://hackmd.io/@shaoeChen/HJ19NfW4U\n",
    "- **參考資料2:** https://github.com/jiecaoyu/pytorch-nin-cifar10\n",
    "- **長青自製-口罩數據集:** https://drive.google.com/drive/folders/1lC_BVKHzEbtMEy8tibXAsJdrAs6fWuz5?usp=sharing\n",
    "\n",
    "v2新增:\n",
    "k-folder, 初始化model權重(每次F5執行，都應該要先初始化上次model權重), tqdm訓練進度條, 查看model參數量, Gradient Accumulation(提高batch_size方法), 兩種optim"
   ]
  },
  {
   "cell_type": "markdown",
   "id": "b3745475",
   "metadata": {},
   "source": [
    "## 0_修改程式 (傳送門)\n",
    "- [1_設定參數](#1_設定參數)\n",
    "\n",
    "\n",
    "- [2.1_資料前處理-transform](#2.1_資料前處理-transform)\n",
    "\n",
    "\n",
    "- [2.2_資料前處理-資料分割方式](#2.2_資料前處理-資料分割方式)\n",
    "\n",
    "\n",
    "- [3.1_查看model參數量](#3.1_查看model參數量)\n",
    "\n",
    "\n",
    "- [3.2_訓練模型(train,val)](#3.2_訓練模型(train,val))\n",
    "\n",
    "\n",
    "- [3.3_model初始化權重](#3.3_model初始化權重)\n",
    "\n",
    "\n",
    "- [4_運行主程式](#4_運行主程式)\n",
    "\n",
    "\n",
    "- [5_查看訓練結果](#5_查看訓練結果(僅顯示最後一個Fold))\n"
   ]
  },
  {
   "cell_type": "markdown",
   "id": "05f39bb1",
   "metadata": {},
   "source": [
    "## [資料集說明]\n",
    "### 1. choose_data_split = 'original':\n",
    "    |-- data (放dataset資料夾)\n",
    "        |-- train\n",
    "            |-- class_0\n",
    "            |-- class_1\n",
    "            |-- class_2\n",
    "            |-- class_3\n",
    "        |-- val\n",
    "            |-- class_0\n",
    "            |-- class_1\n",
    "            |-- class_2\n",
    "            |-- class_3\n",
    "            \n",
    "### 2. choose_data_split = 'K_fold':\n",
    "    |-- data_kfold (放dataset資料夾)\n",
    "        |-- class_0\n",
    "        |-- class_1\n",
    "        |-- class_2\n",
    "        |-- class_3"
   ]
  },
  {
   "attachments": {
    "image-2.png": {
     "image/png": "[encoded data removed]"
    }
   },
   "cell_type": "markdown",
   "id": "1b294aae",
   "metadata": {},
   "source": [
    "## [Visdom訓練過程即時可視化說明]\n",
    "### 1. 先終端機輸入:\n",
    "- `conda activate Py37` -- {environment name}\n",
    "- `python -m visdom.server -port 8097` -- {port number}\n",
    "\n",
    "### 2. 再網頁輸入:\n",
    "- `http://localhost:8097`\n",
    "\n",
    "![image-2.png](attachment:image-2.png)"
   ]
  },
  {
   "cell_type": "code",
   "execution_count": 1,
   "id": "54a1b548",
   "metadata": {},
   "outputs": [],
   "source": [
    "import torch, os\n",
    "from torch.utils.data import DataLoader, SubsetRandomSampler, Subset\n",
    "from torchvision import datasets, transforms\n",
    "from torch.autograd import Variable\n",
    "import numpy as np\n",
    "import matplotlib.pyplot as plt\n",
    "from torch import optim  # 調整學習率更新策略\n",
    "import visdom  # 訓練即時可視化工具\n",
    "from tqdm import tqdm  # 訓練進度條\n",
    "from torchinfo import summary  # 顯示model參數量、model大小\n",
    "from sklearn.model_selection import KFold  # K_fold交叉驗證\n",
    "from NIN_v1_model import NIN_v1  # 載入我的model\n",
    "from NIN_v2_model import NIN_v2\n",
    "from InceptionV3_model import Inception"
   ]
  },
  {
   "cell_type": "markdown",
   "id": "3381a39e",
   "metadata": {},
   "source": [
    "## 1_設定參數"
   ]
  },
  {
   "cell_type": "code",
   "execution_count": 2,
   "id": "8bd80ca1",
   "metadata": {},
   "outputs": [
    {
     "data": {
      "text/plain": [
       "<torch._C.Generator at 0x1f28a101570>"
      ]
     },
     "execution_count": 2,
     "metadata": {},
     "output_type": "execute_result"
    }
   ],
   "source": [
    "# 設定參數--------------------------------------------------------------------\n",
    "batch_size = 32\n",
    "img_size = 224  # 設定圖片resize大小\n",
    "lr = 0.001  # 學習率\n",
    "epoch = 3\n",
    "use_GPU = True  # 是否使用GPU訓練\n",
    "real_time_train_result = False  # 若不想開啟Visdom，就設為\"False\"\n",
    "optim = 'SGD'  # 優化器: SGD, Adam\n",
    "choose_model = 'NIN_v2'  # 模型: NIN_v1, NIN_v2, Inception\n",
    "choose_data_split = 'K_fold'  # 驗證方式: original(data=data), K_fold(data=data_kfold)\n",
    "\n",
    "MODEL = 'best_model.pth'  # 保存model名稱\n",
    "classes = {0: 'cloth_mask', 1: 'face_no_mask', 2:'mask_surgical'}  # 設定dataset classes類別\n",
    "\n",
    "# 強迫固定初始權重，方便研究用\n",
    "np.random.seed(0)\n",
    "torch.manual_seed(0)\n"
   ]
  },
  {
   "cell_type": "markdown",
   "id": "ce427b3b",
   "metadata": {},
   "source": [
    "## 2.1_資料前處理-transform"
   ]
  },
  {
   "cell_type": "code",
   "execution_count": 3,
   "id": "ac163168",
   "metadata": {},
   "outputs": [],
   "source": [
    "# 資料前處理\n",
    "normalize = transforms.Normalize(\n",
    "    mean=[0.485, 0.456, 0.406],\n",
    "    std=[0.229, 0.224, 0.225]\n",
    ")\n",
    "\n",
    "transform_train = transforms.Compose([\n",
    "    transforms.Resize((img_size,img_size)), # 強制224x224\n",
    "    #transforms.RandomResizedCrop(img_size),\n",
    "    transforms.RandomHorizontalFlip(),\n",
    "    transforms.ToTensor(),\n",
    "    normalize\n",
    "])\n",
    "\n",
    "transform_val = transforms.Compose([\n",
    "    transforms.Resize((img_size,img_size)), #長=256 寬=等比例縮小\n",
    "    transforms.CenterCrop(img_size),\n",
    "    transforms.ToTensor(),\n",
    "    normalize\n",
    "])"
   ]
  },
  {
   "cell_type": "markdown",
   "id": "3414ccba",
   "metadata": {},
   "source": [
    "## 2.2_資料前處理-資料分割方式\n",
    "- **K-fold:**\n",
    "    - 解釋: https://ithelp.ithome.com.tw/articles/10278851\n",
    "    - 寫法教學: https://github.com/christianversloot/machine-learning-articles/blob/main/how-to-use-k-fold-cross-validation-with-pytorch.md"
   ]
  },
  {
   "cell_type": "raw",
   "id": "1bbf8a6f",
   "metadata": {},
   "source": [
    "## 驗證K_fold寫法: 一個簡單的4折交叉驗證\n",
    "from sklearn.model_selection import KFold\n",
    "import numpy as np\n",
    "import matplotlib.pyplot as plt\n",
    " \n",
    "X = np.array([[1,2], [3,4], [1,3], [3,5]])\n",
    "Y = np.array([1, 2, 3, 4])\n",
    " \n",
    "KF = KFold(n_splits = 4)  #建立4折交叉驗證方法 查一下KFold函數的參數\n",
    "for train_index, test_index in KF.split(X):\n",
    "    print(\"TRAIN\", train_index, \"TEST\", test_index)\n",
    "    X_train, X_test = X[train_index], X[test_index]\n",
    "    Y_train, Y_test = Y[train_index], Y[test_index]\n",
    "    print(\"對於數據X訓練數據:\", X_train)\n",
    "    print(\"對於數據X測試數據:\", X_test)\n",
    "    print(\"對於數據Y訓練數據:\", Y_train)\n",
    "    print(\"對於數據Y測試數據:\", Y_test)"
   ]
  },
  {
   "cell_type": "code",
   "execution_count": 4,
   "id": "06c2fd2f",
   "metadata": {
    "scrolled": true
   },
   "outputs": [
    {
     "name": "stdout",
     "output_type": "stream",
     "text": [
      "K_fold: 0\n",
      "K_fold: 1\n",
      "K_fold: 2\n",
      "K_fold: 3\n",
      "K_fold: 4\n",
      "\n",
      "訓練張數有:  4074\n",
      "驗證張數有:  1018\n",
      "在此batch_size下，trainloader跌帶次數:  128\n",
      "在此batch_size下，valloader跌帶次數:  32\n"
     ]
    }
   ],
   "source": [
    "# 方法一: 資料夾先分好\n",
    "if choose_data_split == 'original':\n",
    "    train_data = datasets.ImageFolder('data/train/', transform=transform_train)\n",
    "    trainloader = DataLoader(dataset=train_data, batch_size=batch_size, shuffle=True)  # shuffle: 每次batch_size取不同dataset\n",
    "    val_data = datasets.ImageFolder('data/val/', transform=transform_val)\n",
    "    valloader = DataLoader(val_data, batch_size=batch_size, shuffle=False)\n",
    "    \n",
    "    print(\"訓練張數有: \", len(trainloader.dataset))\n",
    "    print(\"驗證張數有: \", len(valloader.dataset))\n",
    "    print(\"在此batch_size下，trainloader跌帶次數: \", len(trainloader))\n",
    "    print(\"在此batch_size下，valloader跌帶次數: \", len(valloader))\n",
    "    \n",
    "# 方法二: K_fold方式 (資料夾未先分train, val)\n",
    "elif choose_data_split == 'K_fold':\n",
    "    train_data = datasets.ImageFolder('data_kfold/', transform=transform_train)\n",
    "    \n",
    "    # 設定交叉驗證區分幾塊\n",
    "    K_fold = KFold(n_splits = 5, shuffle=True, random_state=42)\n",
    "    \n",
    "    # 方便觀察用，真正使用會在後面\"迴圈主程式\"，位置擺在for i in epoch的外層\n",
    "    for K_fold_num, (train_idx, valid_idx) in enumerate(K_fold.split(train_data)):  # k_fold分割方式 -> (train, val)\n",
    "        print(f'K_fold: {K_fold_num}')\n",
    "        fack_train_sampler = SubsetRandomSampler(train_idx)  # 打亂id (1,2,3,4) -> (3,1,,4,2)\n",
    "        fack_valid_sampler = SubsetRandomSampler(valid_idx)\n",
    "        fack_trainloader = DataLoader(train_data, batch_size=batch_size, sampler=fack_train_sampler, shuffle=False)  # 有sampler就不會有shuffle\n",
    "        fack_valloader = DataLoader(train_data, batch_size=batch_size, sampler=fack_valid_sampler, shuffle=False)\n",
    "\n",
    "    print(\"\\n訓練張數有: \", len(fack_train_sampler))  # !!注意:這裡不能用trainloader_datasets\n",
    "    print(\"驗證張數有: \", len(fack_valid_sampler))\n",
    "    print(\"在此batch_size下，trainloader跌帶次數: \", len(fack_trainloader))\n",
    "    print(\"在此batch_size下，valloader跌帶次數: \", len(fack_valloader))\n",
    "    "
   ]
  },
  {
   "cell_type": "markdown",
   "id": "5c6d7aa3",
   "metadata": {},
   "source": [
    "## 3.1_查看model參數量"
   ]
  },
  {
   "cell_type": "code",
   "execution_count": 5,
   "id": "769a7b70",
   "metadata": {},
   "outputs": [
    {
     "name": "stdout",
     "output_type": "stream",
     "text": [
      "我選擇的模型:  NIN_v2 \n",
      "\n",
      "==========================================================================================\n",
      "Layer (type:depth-idx)                   Output Shape              Param #\n",
      "==========================================================================================\n",
      "NIN_v2                                   [32, 3]                   --\n",
      "├─Sequential: 1-1                        [32, 3]                   --\n",
      "│    └─Sequential: 2-1                   [32, 96, 55, 55]          --\n",
      "│    │    └─Conv2d: 3-1                  [32, 96, 55, 55]          34,944\n",
      "│    │    └─ReLU: 3-2                    [32, 96, 55, 55]          --\n",
      "│    │    └─Conv2d: 3-3                  [32, 96, 55, 55]          9,312\n",
      "│    │    └─ReLU: 3-4                    [32, 96, 55, 55]          --\n",
      "│    │    └─Conv2d: 3-5                  [32, 96, 55, 55]          9,312\n",
      "│    │    └─ReLU: 3-6                    [32, 96, 55, 55]          --\n",
      "│    └─Dropout: 2-2                      [32, 96, 55, 55]          --\n",
      "│    └─MaxPool2d: 2-3                    [32, 96, 27, 27]          --\n",
      "│    └─Sequential: 2-4                   [32, 256, 27, 27]         --\n",
      "│    │    └─Conv2d: 3-7                  [32, 256, 27, 27]         614,656\n",
      "│    │    └─ReLU: 3-8                    [32, 256, 27, 27]         --\n",
      "│    │    └─Conv2d: 3-9                  [32, 256, 27, 27]         65,792\n",
      "│    │    └─ReLU: 3-10                   [32, 256, 27, 27]         --\n",
      "│    │    └─Conv2d: 3-11                 [32, 256, 27, 27]         65,792\n",
      "│    │    └─ReLU: 3-12                   [32, 256, 27, 27]         --\n",
      "│    └─Dropout: 2-5                      [32, 256, 27, 27]         --\n",
      "│    └─MaxPool2d: 2-6                    [32, 256, 13, 13]         --\n",
      "│    └─Sequential: 2-7                   [32, 384, 13, 13]         --\n",
      "│    │    └─Conv2d: 3-13                 [32, 384, 13, 13]         885,120\n",
      "│    │    └─ReLU: 3-14                   [32, 384, 13, 13]         --\n",
      "│    │    └─Conv2d: 3-15                 [32, 384, 13, 13]         147,840\n",
      "│    │    └─ReLU: 3-16                   [32, 384, 13, 13]         --\n",
      "│    │    └─Conv2d: 3-17                 [32, 384, 13, 13]         147,840\n",
      "│    │    └─ReLU: 3-18                   [32, 384, 13, 13]         --\n",
      "│    └─Dropout: 2-8                      [32, 384, 13, 13]         --\n",
      "│    └─AvgPool2d: 2-9                    [32, 384, 7, 7]           --\n",
      "│    └─Sequential: 2-10                  [32, 3, 7, 7]             --\n",
      "│    │    └─Conv2d: 3-19                 [32, 3, 7, 7]             10,371\n",
      "│    │    └─ReLU: 3-20                   [32, 3, 7, 7]             --\n",
      "│    │    └─Conv2d: 3-21                 [32, 3, 7, 7]             12\n",
      "│    │    └─ReLU: 3-22                   [32, 3, 7, 7]             --\n",
      "│    │    └─Conv2d: 3-23                 [32, 3, 7, 7]             12\n",
      "│    │    └─ReLU: 3-24                   [32, 3, 7, 7]             --\n",
      "│    └─AdaptiveAvgPool2d: 2-11           [32, 3, 1, 1]             --\n",
      "│    └─Flatten: 2-12                     [32, 3]                   --\n",
      "==========================================================================================\n",
      "Total params: 1,991,003\n",
      "Trainable params: 1,991,003\n",
      "Non-trainable params: 0\n",
      "Total mult-adds (G): 29.00\n",
      "==========================================================================================\n",
      "Input size (MB): 19.27\n",
      "Forward/backward pass size (MB): 416.31\n",
      "Params size (MB): 7.96\n",
      "Estimated Total Size (MB): 443.54\n",
      "==========================================================================================\n"
     ]
    }
   ],
   "source": [
    "# 選擇查看模型\n",
    "#choose_model = 'NIN_v1'  # 快速查看\n",
    "if choose_model == 'NIN_v1':\n",
    "    model = NIN_v1(num_classes=len(classes))\n",
    "elif choose_model == 'NIN_v2':\n",
    "    model = NIN_v2(num_classes=len(classes))\n",
    "elif choose_model == 'Inception':\n",
    "    model = Inception(pretrained=0, num_classes=len(classes))\n",
    "model_parameter = summary(model, input_size=(batch_size, 3, img_size, img_size))  # 算出model parm\n",
    "print(\"我選擇的模型: \", choose_model,\"\\n\")\n",
    "print(model_parameter)"
   ]
  },
  {
   "cell_type": "markdown",
   "id": "ab57b240",
   "metadata": {},
   "source": [
    "## 3.2_訓練模型(train,val)"
   ]
  },
  {
   "cell_type": "code",
   "execution_count": 6,
   "id": "fd7fb7f9",
   "metadata": {},
   "outputs": [],
   "source": [
    "# train_function_v1\n",
    "def train(trainloader, model, use_GPU, epoch, loss_func, optimizer):\n",
    "    model.train()\n",
    "    correct, total = 0, 0\n",
    "    train_acc = 0\n",
    "    acc_sum, loss_sum = 0, 0\n",
    "    i = 0\n",
    "    \n",
    "    #訓練進度條\n",
    "    trainloader_tqdm = tqdm(trainloader)\n",
    "    \n",
    "    optimizer.zero_grad()\n",
    "    for batch_idx, (data, target) in enumerate(trainloader_tqdm):\n",
    "        if use_GPU == True:\n",
    "            data, target = data.cuda(), target.cuda()\n",
    "        data, target = Variable(data), Variable(target)\n",
    "        optimizer.zero_grad()\n",
    "        output = model(data)\n",
    "\n",
    "        # calculate accuracy\n",
    "        correct += (torch.max(output, 1)[1].view(target.size()).data == target.data).sum()\n",
    "        total += trainloader.batch_size\n",
    "        train_acc = 100. * correct / total\n",
    "        acc_sum += train_acc\n",
    "        i += 1\n",
    "\n",
    "        loss = loss_func(output, target)\n",
    "        \n",
    "        loss.backward()\n",
    "        optimizer.step()\n",
    "        loss_sum += loss.item()\n",
    "        \n",
    "        # 顯示方法1: 每跑100批batch_size查看一次\n",
    "        \"\"\"\n",
    "        if choose_data_split == 'original':\n",
    "            if batch_idx % 100 == 0:\n",
    "                print('Train Epoch: {} [{}/{} ({:.0f}%)]\\tLoss: {:.3f}\\tTraining Accuracy: {:.3f}%'.format(\n",
    "                    epoch, batch_idx * len(data), len(trainloader.dataset),\n",
    "                    100. * batch_idx / len(trainloader), loss.item(), train_acc))\n",
    "                \n",
    "        elif choose_data_split == 'K_fold':\n",
    "            if batch_idx % 100 == 0:\n",
    "                print('Train Epoch: {} [{}/{} ({:.0f}%)]\\tLoss: {:.3f}\\tTraining Accuracy: {:.3f}%'.format(\n",
    "                    epoch, batch_idx * len(data), len(train_sampler),\n",
    "                    100. * batch_idx / len(trainloader), loss.item(), train_acc))\n",
    "        \"\"\"\n",
    "        # 顯示方法2: tqdm訓練進度條顯示\n",
    "        if choose_data_split == 'original':\n",
    "            trainloader_tqdm.desc = f'Train Epoch: {epoch} [{batch_idx*len(data)}/{len(trainloader.dataset)} ({100. * batch_idx / len(trainloader):.0f}%)]\\tLoss: {loss.item():.3f}\\tTraining Accuracy: {train_acc:.3f}%'  # 進度條工具\n",
    "        elif choose_data_split == 'K_fold':\n",
    "            trainloader_tqdm.desc = f'Train Epoch: {epoch} [{batch_idx*len(data)}/{len(train_sampler)} ({100. * batch_idx / len(trainloader):.0f}%)]\\tLoss: {loss.item():.3f}\\tTraining Accuracy: {train_acc:.3f}%'  # 進度條工具\n",
    "    \n",
    "    # 每回合eopch的train loss, accuracy\n",
    "    acc_avg = acc_sum / i\n",
    "    loss_avg = loss_sum / len(trainloader)\n",
    "\n",
    "    print('Train Epoch: {}\\tAverage Loss: {:.3f}\\tAverage Accuracy: {:.3f}%'.format(epoch, loss_avg, acc_avg))\n",
    "    \n",
    "    return acc_avg, loss_avg"
   ]
  },
  {
   "cell_type": "raw",
   "id": "16775cb5",
   "metadata": {},
   "source": [
    "# train_function_v2: accumulation_step\n",
    "# Gradient Accumulation用法教學: https://kozodoi.me/python/deep%20learning/pytorch/tutorial/2021/02/19/gradient-accumulation.html\n",
    "def train(trainloader, model, use_GPU, epoch, loss_func, optimizer):\n",
    "    model.train()\n",
    "    correct, total = 0, 0\n",
    "    train_acc = 0\n",
    "    acc_sum, loss_sum = 0, 0\n",
    "    i = 0\n",
    "    \n",
    "    #訓練進度條\n",
    "    trainloader_tqdm = tqdm(trainloader)\n",
    "    accumulation_step = 2  #+++++++++++++++++++\n",
    "    \n",
    "    optimizer.zero_grad()\n",
    "    for batch_idx, (data, target) in enumerate(trainloader_tqdm):\n",
    "        if use_GPU == True:\n",
    "            data, target = data.cuda(), target.cuda()\n",
    "        data, target = Variable(data), Variable(target)\n",
    "        #optimizer.zero_grad()  #----------------------\n",
    "        output = model(data)\n",
    "\n",
    "        # calculate accuracy\n",
    "        correct += (torch.max(output, 1)[1].view(target.size()).data == target.data).sum()\n",
    "        total += trainloader.batch_size\n",
    "        train_acc = 100. * correct / total\n",
    "        acc_sum += train_acc\n",
    "        i += 1\n",
    "\n",
    "        loss = loss_func(output, target)\n",
    "        \n",
    "        loss = loss / accumulation_step  #+++++++++++++++++++++++++\n",
    "        \n",
    "        loss.backward()\n",
    "        #optimizer.step()  #-----------------\n",
    "        loss_sum += loss.item()\n",
    "        \n",
    "        #++++++++++++++++++++++\n",
    "        if ((batch_idx+1) % accumulation_step == 0) or ((batch_idx+1)==len(trainloader)):\n",
    "            optimizer.step() # update\n",
    "            optimizer.zero_grad() # reset\n",
    "        #++++++++++++++++++++++\n",
    "        \n",
    "        # 顯示方法1: 每跑100批batch_size查看一次\n",
    "        \"\"\"\n",
    "        if choose_data_split == 'original':\n",
    "            if batch_idx % 100 == 0:\n",
    "                print('Train Epoch: {} [{}/{} ({:.0f}%)]\\tLoss: {:.3f}\\tTraining Accuracy: {:.3f}%'.format(\n",
    "                    epoch, batch_idx * len(data), len(trainloader.dataset),\n",
    "                    100. * batch_idx / len(trainloader), loss.item(), train_acc))\n",
    "                \n",
    "        elif choose_data_split == 'K_fold':\n",
    "            if batch_idx % 100 == 0:\n",
    "                print('Train Epoch: {} [{}/{} ({:.0f}%)]\\tLoss: {:.3f}\\tTraining Accuracy: {:.3f}%'.format(\n",
    "                    epoch, batch_idx * len(data), len(train_sampler),\n",
    "                    100. * batch_idx / len(trainloader), loss.item(), train_acc))\n",
    "        \"\"\"\n",
    "        # 顯示方法2: tqdm訓練進度條顯示\n",
    "        if choose_data_split == 'original':\n",
    "            trainloader_tqdm.desc = f'Train Epoch: {epoch} [{batch_idx*len(data)}/{len(trainloader.dataset)} ({100. * batch_idx / len(trainloader):.0f}%)]\\tLoss: {loss.item():.3f}\\tTraining Accuracy: {train_acc:.3f}%'  # 進度條工具\n",
    "        elif choose_data_split == 'K_fold':\n",
    "            trainloader_tqdm.desc = f'Train Epoch: {epoch} [{batch_idx*len(data)}/{len(train_sampler)} ({100. * batch_idx / len(trainloader):.0f}%)]\\tLoss: {loss.item():.3f}\\tTraining Accuracy: {train_acc:.3f}%'  # 進度條工具\n",
    "    \n",
    "    # 每回合eopch的train loss, accuracy\n",
    "    acc_avg = acc_sum / i\n",
    "    loss_avg = loss_sum / len(trainloader)\n",
    "\n",
    "    print('Train Epoch: {}\\tAverage Loss: {:.3f}\\tAverage Accuracy: {:.3f}%'.format(epoch, loss_avg, acc_avg))\n",
    "    \n",
    "    return acc_avg, loss_avg"
   ]
  },
  {
   "cell_type": "code",
   "execution_count": 7,
   "id": "8eeace61",
   "metadata": {},
   "outputs": [],
   "source": [
    "# val_function\n",
    "def val(valloader, model, use_GPU, loss_func, epoch):\n",
    "    model.eval()\n",
    "    val_loss = 0\n",
    "    val_correct_num = 0\n",
    "    with torch.no_grad():\n",
    "        for i, (data, target) in enumerate(valloader):\n",
    "            if use_GPU == True:\n",
    "                data, target = data.cuda(), target.cuda()\n",
    "            data, target = Variable(data), Variable(target)\n",
    "            output = model(data)\n",
    "            \n",
    "            # 算acc方法1:\n",
    "            val_loss += loss_func(output, target).item()  # sum up batch loss\n",
    "            pred = output.data.max(1, keepdim=True)[1]  # get the index of the max log-probability\n",
    "            val_correct_num += pred.eq(target.data.view_as(pred)).cpu().sum()\n",
    "            \n",
    "            # 算acc方法2:\n",
    "            #_, idx = torch.max(output.data, dim=1)\n",
    "            #val_correct_num += torch.sum(idx == target)\n",
    "\n",
    "        val_loss /= len(valloader)\n",
    "\n",
    "        if choose_data_split == 'original':\n",
    "            val_correct_rate = 100. * val_correct_num / len(valloader.dataset)\n",
    "            result = 'Val set -> Average loss: {:.4f}, Accuracy: {}/{} ({:.3f}%)'.format(\n",
    "                val_loss, val_correct_num, len(valloader.dataset), val_correct_rate)\n",
    "\n",
    "        elif choose_data_split == 'K_fold':\n",
    "            val_correct_rate = 100. * val_correct_num / len(valid_sampler)  # valloader.dataset -> valid_sampler\n",
    "            result = 'Val set -> Average loss: {:.4f}, Accuracy: {}/{} ({:.3f}%)'.format(\n",
    "                val_loss, val_correct_num, len(valid_sampler), val_correct_rate)  \n",
    "        print(result)\n",
    "    return val_correct_rate, val_loss"
   ]
  },
  {
   "cell_type": "markdown",
   "id": "2f6cebdd",
   "metadata": {},
   "source": [
    "## 3.3_model初始化權重"
   ]
  },
  {
   "cell_type": "code",
   "execution_count": 8,
   "id": "809d804b",
   "metadata": {},
   "outputs": [],
   "source": [
    "# 初始化權重\n",
    "# 在K_fold期間，它將用於重置模型的參數。這樣我們能確保模型使用隨機初始化（偽）的權重進行訓練，避免權重洩漏。\n",
    "def reset_weights(m):\n",
    "    # Try resetting model weights to avoid weight leakage.\n",
    "    for layer in m.children():\n",
    "        if hasattr(layer, 'reset_parameters'):\n",
    "            #print(f'Reset trainable parameters of layer = {layer}')  # 顯示初始化了多少layer\n",
    "            layer.reset_parameters()"
   ]
  },
  {
   "cell_type": "markdown",
   "id": "5367485f",
   "metadata": {},
   "source": [
    "## 4_運行主程式"
   ]
  },
  {
   "cell_type": "code",
   "execution_count": 9,
   "id": "2f3df430",
   "metadata": {
    "scrolled": false
   },
   "outputs": [
    {
     "name": "stdout",
     "output_type": "stream",
     "text": [
      "--------------------------------\n",
      "K_fold: 0\n"
     ]
    },
    {
     "name": "stderr",
     "output_type": "stream",
     "text": [
      "Train Epoch: 1 [1143/4073 (99%)]\tLoss: 1.041\tTraining Accuracy: 54.541%: 100%|███████| 128/128 [00:35<00:00,  3.61it/s]\n"
     ]
    },
    {
     "name": "stdout",
     "output_type": "stream",
     "text": [
      "Train Epoch: 1\tAverage Loss: 1.032\tAverage Accuracy: 53.666%\n",
      "Val set -> Average loss: 1.0334, Accuracy: 532/1019 (52.208%)\n"
     ]
    },
    {
     "name": "stderr",
     "output_type": "stream",
     "text": [
      "Train Epoch: 2 [1143/4073 (99%)]\tLoss: 1.068\tTraining Accuracy: 54.541%: 100%|███████| 128/128 [00:35<00:00,  3.61it/s]\n"
     ]
    },
    {
     "name": "stdout",
     "output_type": "stream",
     "text": [
      "Train Epoch: 2\tAverage Loss: 1.013\tAverage Accuracy: 54.309%\n",
      "Val set -> Average loss: 1.0244, Accuracy: 532/1019 (52.208%)\n"
     ]
    },
    {
     "name": "stderr",
     "output_type": "stream",
     "text": [
      "Train Epoch: 3 [1143/4073 (99%)]\tLoss: 1.237\tTraining Accuracy: 54.541%: 100%|███████| 128/128 [00:36<00:00,  3.48it/s]\n"
     ]
    },
    {
     "name": "stdout",
     "output_type": "stream",
     "text": [
      "Train Epoch: 3\tAverage Loss: 1.006\tAverage Accuracy: 56.893%\n",
      "Val set -> Average loss: 1.0215, Accuracy: 532/1019 (52.208%)\n",
      "--------------------------------\n",
      "K_fold: 1\n"
     ]
    },
    {
     "name": "stderr",
     "output_type": "stream",
     "text": [
      "Train Epoch: 1 [1143/4073 (99%)]\tLoss: 1.096\tTraining Accuracy: 20.264%: 100%|███████| 128/128 [00:35<00:00,  3.56it/s]\n"
     ]
    },
    {
     "name": "stdout",
     "output_type": "stream",
     "text": [
      "Train Epoch: 1\tAverage Loss: 1.127\tAverage Accuracy: 19.273%\n",
      "Val set -> Average loss: 1.1057, Accuracy: 283/1019 (27.772%)\n"
     ]
    },
    {
     "name": "stderr",
     "output_type": "stream",
     "text": [
      "Train Epoch: 2 [1143/4073 (99%)]\tLoss: 1.099\tTraining Accuracy: 23.364%: 100%|███████| 128/128 [00:35<00:00,  3.61it/s]\n"
     ]
    },
    {
     "name": "stdout",
     "output_type": "stream",
     "text": [
      "Train Epoch: 2\tAverage Loss: 1.100\tAverage Accuracy: 27.096%\n",
      "Val set -> Average loss: 1.0986, Accuracy: 189/1019 (18.548%)\n"
     ]
    },
    {
     "name": "stderr",
     "output_type": "stream",
     "text": [
      "Train Epoch: 3 [1143/4073 (99%)]\tLoss: 1.099\tTraining Accuracy: 18.823%: 100%|███████| 128/128 [00:35<00:00,  3.64it/s]\n"
     ]
    },
    {
     "name": "stdout",
     "output_type": "stream",
     "text": [
      "Train Epoch: 3\tAverage Loss: 1.099\tAverage Accuracy: 19.230%\n",
      "Val set -> Average loss: 1.0986, Accuracy: 189/1019 (18.548%)\n",
      "--------------------------------\n",
      "K_fold: 2\n"
     ]
    },
    {
     "name": "stderr",
     "output_type": "stream",
     "text": [
      "Train Epoch: 1 [1270/4074 (99%)]\tLoss: 1.124\tTraining Accuracy: 19.141%: 100%|███████| 128/128 [00:35<00:00,  3.56it/s]\n"
     ]
    },
    {
     "name": "stdout",
     "output_type": "stream",
     "text": [
      "Train Epoch: 1\tAverage Loss: 1.159\tAverage Accuracy: 18.637%\n",
      "Val set -> Average loss: 1.1186, Accuracy: 176/1018 (17.289%)\n"
     ]
    },
    {
     "name": "stderr",
     "output_type": "stream",
     "text": [
      "Train Epoch: 2 [1270/4074 (99%)]\tLoss: 1.099\tTraining Accuracy: 19.165%: 100%|███████| 128/128 [00:35<00:00,  3.65it/s]\n"
     ]
    },
    {
     "name": "stdout",
     "output_type": "stream",
     "text": [
      "Train Epoch: 2\tAverage Loss: 1.101\tAverage Accuracy: 18.908%\n",
      "Val set -> Average loss: 1.0986, Accuracy: 176/1018 (17.289%)\n"
     ]
    },
    {
     "name": "stderr",
     "output_type": "stream",
     "text": [
      "Train Epoch: 3 [1270/4074 (99%)]\tLoss: 1.099\tTraining Accuracy: 19.141%: 100%|███████| 128/128 [00:35<00:00,  3.62it/s]\n"
     ]
    },
    {
     "name": "stdout",
     "output_type": "stream",
     "text": [
      "Train Epoch: 3\tAverage Loss: 1.099\tAverage Accuracy: 18.763%\n",
      "Val set -> Average loss: 1.0986, Accuracy: 176/1018 (17.289%)\n",
      "--------------------------------\n",
      "K_fold: 3\n"
     ]
    },
    {
     "name": "stderr",
     "output_type": "stream",
     "text": [
      "Train Epoch: 1 [1270/4074 (99%)]\tLoss: 1.083\tTraining Accuracy: 54.419%: 100%|███████| 128/128 [00:35<00:00,  3.56it/s]\n"
     ]
    },
    {
     "name": "stdout",
     "output_type": "stream",
     "text": [
      "Train Epoch: 1\tAverage Loss: 1.036\tAverage Accuracy: 55.467%\n",
      "Val set -> Average loss: 1.0289, Accuracy: 537/1018 (52.750%)\n"
     ]
    },
    {
     "name": "stderr",
     "output_type": "stream",
     "text": [
      "Train Epoch: 2 [1270/4074 (99%)]\tLoss: 1.224\tTraining Accuracy: 54.419%: 100%|███████| 128/128 [00:36<00:00,  3.53it/s]\n"
     ]
    },
    {
     "name": "stdout",
     "output_type": "stream",
     "text": [
      "Train Epoch: 2\tAverage Loss: 1.014\tAverage Accuracy: 54.373%\n",
      "Val set -> Average loss: 1.0198, Accuracy: 537/1018 (52.750%)\n"
     ]
    },
    {
     "name": "stderr",
     "output_type": "stream",
     "text": [
      "Train Epoch: 3 [1270/4074 (99%)]\tLoss: 1.110\tTraining Accuracy: 54.419%: 100%|███████| 128/128 [00:40<00:00,  3.15it/s]\n"
     ]
    },
    {
     "name": "stdout",
     "output_type": "stream",
     "text": [
      "Train Epoch: 3\tAverage Loss: 1.005\tAverage Accuracy: 54.696%\n",
      "Val set -> Average loss: 1.0169, Accuracy: 537/1018 (52.750%)\n",
      "--------------------------------\n",
      "K_fold: 4\n"
     ]
    },
    {
     "name": "stderr",
     "output_type": "stream",
     "text": [
      "Train Epoch: 1 [1270/4074 (99%)]\tLoss: 1.089\tTraining Accuracy: 27.002%: 100%|███████| 128/128 [00:38<00:00,  3.36it/s]\n"
     ]
    },
    {
     "name": "stdout",
     "output_type": "stream",
     "text": [
      "Train Epoch: 1\tAverage Loss: 1.151\tAverage Accuracy: 27.368%\n",
      "Val set -> Average loss: 1.1405, Accuracy: 260/1018 (25.540%)\n"
     ]
    },
    {
     "name": "stderr",
     "output_type": "stream",
     "text": [
      "Train Epoch: 2 [1270/4074 (99%)]\tLoss: 1.148\tTraining Accuracy: 27.002%: 100%|███████| 128/128 [00:36<00:00,  3.55it/s]\n"
     ]
    },
    {
     "name": "stdout",
     "output_type": "stream",
     "text": [
      "Train Epoch: 2\tAverage Loss: 1.124\tAverage Accuracy: 27.397%\n",
      "Val set -> Average loss: 1.1177, Accuracy: 260/1018 (25.540%)\n"
     ]
    },
    {
     "name": "stderr",
     "output_type": "stream",
     "text": [
      "Train Epoch: 3 [1270/4074 (99%)]\tLoss: 1.094\tTraining Accuracy: 27.002%: 100%|███████| 128/128 [00:54<00:00,  2.33it/s]\n"
     ]
    },
    {
     "name": "stdout",
     "output_type": "stream",
     "text": [
      "Train Epoch: 3\tAverage Loss: 1.108\tAverage Accuracy: 25.797%\n",
      "Val set -> Average loss: 1.1048, Accuracy: 260/1018 (25.540%)\n",
      "\n",
      "--------------------------------\n",
      "4次 K-fold 交叉驗證結果:\n",
      "K_fold 0 -> 52.208 %\n",
      "K_fold 1 -> 18.548 %\n",
      "K_fold 2 -> 17.289 %\n",
      "K_fold 3 -> 52.750 %\n",
      "K_fold 4 -> 25.540 %\n",
      "K_fold Average Accuracy: 33.267 %\n",
      "--------------------------------\n",
      "\n",
      "train finished.\n",
      "\u0007\n"
     ]
    }
   ],
   "source": [
    "# main---------------------------------------------\n",
    "# 保存loss歷史數據，plt看圖用\n",
    "train_loss_list = np.zeros(epoch+1)\n",
    "train_acc_list = np.zeros(epoch+1)\n",
    "val_acc_list = np.zeros(epoch+1)\n",
    "val_loss_list = np.zeros(epoch+1)\n",
    "\n",
    "# 在訓練的過程中會根據驗證集的最佳準確率保存模型\n",
    "best_val_correct_rate = 0.0\n",
    "\n",
    "#訓練可視化-初始化窗口----------------------------------------------------\n",
    "if real_time_train_result == True:\n",
    "    vis = visdom.Visdom(server='http://localhost', port=8097, env='main')\n",
    "    vis.line([[0., 0.]], [0], win='accuracy', opts=dict(title='accuracy', legend = ['train','val']))   # [y軸1,y軸2][x軸] legend=標籤\n",
    "    vis.line([0.], [0], win='train_loss', opts=dict(title='train_loss'))   # [y軸][x軸] \n",
    "#------------------------------------------------------------------------\n",
    "\n",
    "# 判斷資料分割模式\n",
    "if choose_data_split == 'K_fold':\n",
    "    K_fold_acc = {}  # 保存history\n",
    "    for K_fold_num, (train_idx, valid_idx) in enumerate(K_fold.split(train_data)):  # k_fold分割方式\n",
    "        # 選擇訓練模型\n",
    "        if choose_model == 'NIN_v1':\n",
    "            net = NIN_v1(num_classes=len(classes))\n",
    "        elif choose_model == 'NIN_v2':\n",
    "            net = NIN_v2(num_classes=len(classes))\n",
    "        elif choose_model == 'Inception':\n",
    "            net = Inception(pretrained=0, num_classes=len(classes))\n",
    "        # 使用GPU訓練\n",
    "        net.cuda()\n",
    "\n",
    "        # 初始化模型權重\n",
    "        net.apply(reset_weights)\n",
    "        # 初始化優化器\n",
    "        if optim == 'SGD':\n",
    "            optimizer = torch.optim.SGD(params = net.parameters(), lr=lr, momentum=0.9, weight_decay=5e-4)\n",
    "        elif optim == 'Adam':\n",
    "            optimizer = torch.optim.Adam(params = net.parameters(), lr=lr)\n",
    "            \n",
    "        # 設定loss function\n",
    "        loss_func = torch.nn.CrossEntropyLoss() \n",
    "        # 設定學習策略\n",
    "        # patience:幾次沒改善時，降低1次學習率; factor:更新時相乘的衰減係數; mode:min=loss, acc=max\n",
    "        lr_scheduler = torch.optim.lr_scheduler.ReduceLROnPlateau(optimizer=optimizer, mode='min', factor=0.1, patience=2, min_lr=0.00001)  \n",
    "        \n",
    "        \n",
    "        print('--------------------------------')\n",
    "        print(f'K_fold: {K_fold_num}')\n",
    "        train_sampler = SubsetRandomSampler(train_idx)  # 打亂訓練id順序 (1,2,3,4) -> (3,1,4,2)\n",
    "        valid_sampler = SubsetRandomSampler(valid_idx)\n",
    "        trainloader = DataLoader(train_data, batch_size=batch_size, sampler=train_sampler, shuffle=False)  # 有sampler就不會有shuffle\n",
    "        valloader = DataLoader(train_data, batch_size=batch_size, sampler=valid_sampler, shuffle=False)\n",
    "\n",
    "        # 開始epoch訓練\n",
    "        for epoch in range (1, epoch + 1):\n",
    "            acc_avg, loss_avg = train(trainloader, net, use_GPU, epoch, loss_func, optimizer)\n",
    "            val_acc, val_loss = val(valloader, net, use_GPU, loss_func, epoch)\n",
    "\n",
    "            train_loss_list[epoch] = loss_avg  # 保存train_loss history\n",
    "            train_acc_list[epoch] = acc_avg  # 保存train_acc history\n",
    "            val_acc_list[epoch] = val_acc  # 保存val_loss history\n",
    "            val_loss_list[epoch] = val_loss  # 保存val_acc history\n",
    "            K_fold_acc[K_fold_num] = val_acc  # 保存K_fold_val_acc history\n",
    "\n",
    "            #即時可視化訓練過程(accuracy, loss)-------------------------------------------------\n",
    "            if real_time_train_result == True:\n",
    "                vis.line([[acc_avg.item(), val_acc.item()]], [epoch], win='accuracy', update='append')  # 添加訊息到初始化的窗口\n",
    "                vis.line([loss_avg], [epoch], win='train_loss', update='append')  # 添加訊息到初始化的窗口\n",
    "            #----------------------------------------------------------------------------------\n",
    "            \n",
    "            # 保存最佳模型\n",
    "            if val_acc > best_val_correct_rate:\n",
    "                best_val_correct_rate = val_acc\n",
    "                # 每回合結束，保存最佳模型\n",
    "                torch.save(net.state_dict(), MODEL)\n",
    "                \n",
    "            # 根據驗證集準確率更新學習率\n",
    "            lr_scheduler.step(val_loss)  # 連結到上面\"lr_scheduler\" 若監控的是loss，上面要改為min\n",
    "                \n",
    "    print('\\n--------------------------------')\n",
    "    print(f'{K_fold_num}次 K-fold 交叉驗證結果:')\n",
    "    sum_acc = 0.0\n",
    "    for num, value in K_fold_acc.items():\n",
    "        print(f'K_fold {num} -> {value:.3f} %')\n",
    "        sum_acc += value\n",
    "    print(f'K_fold Average Accuracy: {sum_acc/len(K_fold_acc.items()):.3f} %')\n",
    "    print('--------------------------------\\n')\n",
    "    \n",
    "elif choose_data_split == 'original':\n",
    "    # 選擇訓練模型\n",
    "    if choose_model == 'NIN_v1':\n",
    "        net = NIN_v1(num_classes=len(classes))\n",
    "    elif choose_model == 'NIN_v2':\n",
    "        net = NIN_v2(num_classes=len(classes))\n",
    "    elif choose_model == 'Inception':\n",
    "        net = Inception(pretrained=0, num_classes=len(classes))\n",
    "    # 使用GPU訓練\n",
    "    net.cuda()\n",
    "    \n",
    "    # 初始化模型權重\n",
    "    net.apply(reset_weights)\n",
    "    # 初始化優化器\n",
    "    if optim == 'SGD':\n",
    "        optimizer = torch.optim.SGD(params = net.parameters(), lr=lr, momentum=0.9, weight_decay=5e-4)\n",
    "    elif optim == 'Adam':\n",
    "        optimizer = torch.optim.Adam(params = net.parameters(), lr=lr)\n",
    "        \n",
    "    # 設定loss function\n",
    "    loss_func = torch.nn.CrossEntropyLoss() \n",
    "    # 設定學習策略\n",
    "    # patience:幾次沒改善時，降低1次學習率; factor:更新時相乘的衰減係數; mode:min=loss, acc=max\n",
    "    lr_scheduler = torch.optim.lr_scheduler.ReduceLROnPlateau(optimizer=optimizer, mode='min', factor=0.1, patience=2, min_lr=0.00001)  \n",
    "\n",
    "    # 開始epoch訓練\n",
    "    for epoch in range (1, epoch + 1):\n",
    "        acc_avg, loss_avg = train(trainloader, net, use_GPU, epoch, loss_func, optimizer)\n",
    "        val_acc, val_loss = val(valloader, net, use_GPU, loss_func, epoch)\n",
    "\n",
    "        train_loss_list[epoch] = loss_avg  # 保存train_loss history\n",
    "        train_acc_list[epoch] = acc_avg  # 保存train_acc history\n",
    "        val_acc_list[epoch] = val_acc  # 保存val_loss history\n",
    "        val_loss_list[epoch] = val_loss  # 保存val_acc history\n",
    "\n",
    "        #即時可視化訓練過程(accuracy, loss)-------------------------------------------------\n",
    "        if real_time_train_result == True:\n",
    "            vis.line([[acc_avg.item(), val_acc.item()]], [epoch], win='accuracy', update='append')  # 添加訊息到初始化的窗口\n",
    "            vis.line([loss_avg], [epoch], win='train_loss', update='append')  # 添加訊息到初始化的窗口\n",
    "        #----------------------------------------------------------------------------------\n",
    "\n",
    "        # 保存最佳模型\n",
    "        if val_acc > best_val_correct_rate:\n",
    "            best_val_correct_rate = val_acc\n",
    "            # 每回合結束，保存最佳模型\n",
    "            torch.save(net.state_dict(), MODEL)\n",
    "            \n",
    "        # 根據驗證集準確率更新學習率\n",
    "        lr_scheduler.step(val_loss)  # 連結到上面\"lr_scheduler\" 若監控的是loss，上面要改為min\n",
    "\n",
    "print('train finished.')\n",
    "print(\"\\a\")  # 訓練完，提示音提醒我~"
   ]
  },
  {
   "cell_type": "markdown",
   "id": "90bbe92c",
   "metadata": {},
   "source": [
    "## 5_查看訓練結果(僅顯示最後一個Fold)"
   ]
  },
  {
   "cell_type": "code",
   "execution_count": 10,
   "id": "80fa42c4",
   "metadata": {},
   "outputs": [
    {
     "data": {
      "text/plain": [
       "<matplotlib.legend.Legend at 0x1f2c1938cc8>"
      ]
     },
     "execution_count": 10,
     "metadata": {},
     "output_type": "execute_result"
    },
    {
     "data": {
      "image/png": "[encoded data removed]",
      "text/plain": [
       "<Figure size 432x288 with 1 Axes>"
      ]
     },
     "metadata": {
      "needs_background": "light"
     },
     "output_type": "display_data"
    }
   ],
   "source": [
    "plt.plot(train_loss_list, label='Train loss')\n",
    "plt.plot(val_loss_list, label='Val loss')\n",
    "plt.title('Train')\n",
    "plt.xlabel(\"Epoch\")\n",
    "plt.ylabel(\"Loss (CrossEntropy)\")\n",
    "#plt.ylim((0, 2))\n",
    "plt.legend()  # 顯示標籤"
   ]
  },
  {
   "cell_type": "code",
   "execution_count": 11,
   "id": "c54801f7",
   "metadata": {},
   "outputs": [
    {
     "data": {
      "text/plain": [
       "<matplotlib.legend.Legend at 0x1f2c8ff7988>"
      ]
     },
     "execution_count": 11,
     "metadata": {},
     "output_type": "execute_result"
    },
    {
     "data": {
      "image/png": "[encoded data removed]",
      "text/plain": [
       "<Figure size 432x288 with 1 Axes>"
      ]
     },
     "metadata": {
      "needs_background": "light"
     },
     "output_type": "display_data"
    }
   ],
   "source": [
    "plt.plot(train_acc_list, label='Train acc')\n",
    "plt.plot(val_acc_list, label='Val acc')\n",
    "plt.title('Mask_Predict')\n",
    "plt.xlabel(\"Epoch\")\n",
    "plt.ylabel(\"Accuracy\")\n",
    "plt.ylim((-5, 100))  # 限制範圍\n",
    "plt.legend()  # 顯示標籤"
   ]
  }
 ],
 "metadata": {
  "kernelspec": {
   "display_name": "Python 3 (ipykernel)",
   "language": "python",
   "name": "python3"
  },
  "language_info": {
   "codemirror_mode": {
    "name": "ipython",
    "version": 3
   },
   "file_extension": ".py",
   "mimetype": "text/x-python",
   "name": "python",
   "nbconvert_exporter": "python",
   "pygments_lexer": "ipython3",
   "version": "3.7.13"
  }
 },
 "nbformat": 4,
 "nbformat_minor": 5
}
