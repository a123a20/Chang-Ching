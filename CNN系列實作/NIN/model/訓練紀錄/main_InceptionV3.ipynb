{
 "cells": [
  {
   "cell_type": "markdown",
   "id": "c36f817e",
   "metadata": {},
   "source": [
    "# 學習日期: 2022/6/2開始\n",
    "## 目標: 使用指定的backbone論文，進行口罩辨識\n",
    "## Backbone論文: Network in Network\n",
    "- **參考資料1:** https://hackmd.io/@shaoeChen/HJ19NfW4U\n",
    "- **參考資料2:** https://github.com/jiecaoyu/pytorch-nin-cifar10\n",
    "- **長青自製-口罩數據集:** https://drive.google.com/drive/folders/1lC_BVKHzEbtMEy8tibXAsJdrAs6fWuz5?usp=sharing\n"
   ]
  },
  {
   "cell_type": "markdown",
   "id": "b3745475",
   "metadata": {},
   "source": [
    "## 0_修改程式 (傳送門)\n",
    "- [1_設定參數](#1_設定參數)\n",
    "\n",
    "\n",
    "- [2.1_資料前處理-transform](#2.1_資料前處理-transform)\n",
    "\n",
    "\n",
    "- [2.2_資料前處理-資料分割方式](#2.2_資料前處理-資料分割方式)\n",
    "\n",
    "\n",
    "- [3.1_查看model參數量](#3.1_查看model參數量)\n",
    "\n",
    "\n",
    "- [3.2_訓練模型(train,val)](#3.2_訓練模型(train,val))\n",
    "\n",
    "\n",
    "- [3.3_model初始化權重](#3.3_model初始化權重)\n",
    "\n",
    "\n",
    "- [4_運行主程式](#4_運行主程式)\n",
    "\n",
    "\n",
    "- [5_查看訓練結果](#5_查看訓練結果(僅顯示最後一個Fold))\n"
   ]
  },
  {
   "cell_type": "markdown",
   "id": "05f39bb1",
   "metadata": {},
   "source": [
    "## [資料集說明]\n",
    "### 1. choose_data_split = 'original':\n",
    "    |-- data (放dataset資料夾)\n",
    "        |-- train\n",
    "            |-- class_0\n",
    "            |-- class_1\n",
    "            |-- class_2\n",
    "            |-- class_3\n",
    "        |-- val\n",
    "            |-- class_0\n",
    "            |-- class_1\n",
    "            |-- class_2\n",
    "            |-- class_3\n",
    "            \n",
    "### 2. choose_data_split = 'K_fold':\n",
    "    |-- data_kfold (放dataset資料夾)\n",
    "        |-- class_0\n",
    "        |-- class_1\n",
    "        |-- class_2\n",
    "        |-- class_3"
   ]
  },
  {
   "attachments": {
    "image-2.png": {
     "image/png": "[encoded data removed]"
    }
   },
   "cell_type": "markdown",
   "id": "1b294aae",
   "metadata": {},
   "source": [
    "## [Visdom訓練過程即時可視化說明]\n",
    "### 1. 先終端機輸入:\n",
    "- `conda activate Py37` -- {environment name}\n",
    "- `python -m visdom.server -port 8097` -- {port number}\n",
    "\n",
    "### 2. 再網頁輸入:\n",
    "- `http://localhost:8097`\n",
    "\n",
    "![image-2.png](attachment:image-2.png)"
   ]
  },
  {
   "cell_type": "code",
   "execution_count": 1,
   "id": "54a1b548",
   "metadata": {},
   "outputs": [],
   "source": [
    "import torch, os\n",
    "from torch.utils.data import DataLoader, SubsetRandomSampler, Subset\n",
    "from torchvision import datasets, transforms\n",
    "from torch.autograd import Variable\n",
    "import numpy as np\n",
    "import matplotlib.pyplot as plt\n",
    "from torch import optim  # 調整學習率更新策略\n",
    "import visdom  # 訓練即時可視化工具\n",
    "from tqdm import tqdm  # 訓練進度條\n",
    "from torchinfo import summary  # 顯示model參數量、model大小\n",
    "from sklearn.model_selection import KFold  # K_fold交叉驗證\n",
    "from NIN_v1_model import NIN_v1  # 載入我的model\n",
    "from NIN_v2_model import NIN_v2\n",
    "from InceptionV3_model import Inception"
   ]
  },
  {
   "cell_type": "markdown",
   "id": "3381a39e",
   "metadata": {},
   "source": [
    "## 1_設定參數"
   ]
  },
  {
   "cell_type": "code",
   "execution_count": 2,
   "id": "8bd80ca1",
   "metadata": {},
   "outputs": [
    {
     "data": {
      "text/plain": [
       "<torch._C.Generator at 0x23eb9741570>"
      ]
     },
     "execution_count": 2,
     "metadata": {},
     "output_type": "execute_result"
    }
   ],
   "source": [
    "# 設定參數--------------------------------------------------------------------\n",
    "batch_size = 32\n",
    "img_size = 224  # 設定圖片resize大小\n",
    "lr = 0.01  # 學習率\n",
    "epoch = 30\n",
    "use_GPU = True  # 是否使用GPU訓練\n",
    "real_time_train_result = False  # 若不想開啟Visdom，就設為\"False\"\n",
    "optim = 'SGD'  # 優化器: SGD, Adam\n",
    "choose_model = 'Inception'  # 模型: NIN_v1, NIN_v2, Inception\n",
    "choose_data_split, split_num = 'K_fold', 5  # 驗證方式: original(data=data), K_fold(data=data_kfold)\n",
    "\n",
    "MODEL = 'best_model.pth'  # 保存model名稱\n",
    "classes = {0: 'cloth_mask', 1: 'face_no_mask', 2:'mask_surgical'}  # 設定dataset classes類別\n",
    "\n",
    "# 強迫固定初始權重，方便研究用\n",
    "np.random.seed(0)\n",
    "torch.manual_seed(0)"
   ]
  },
  {
   "cell_type": "markdown",
   "id": "ce427b3b",
   "metadata": {},
   "source": [
    "## 2.1_資料前處理-transform"
   ]
  },
  {
   "cell_type": "code",
   "execution_count": 3,
   "id": "ac163168",
   "metadata": {},
   "outputs": [],
   "source": [
    "# 資料前處理\n",
    "normalize = transforms.Normalize(\n",
    "    mean=[0.485, 0.456, 0.406],\n",
    "    std=[0.229, 0.224, 0.225]\n",
    ")\n",
    "\n",
    "transform_train = transforms.Compose([\n",
    "    transforms.Resize((img_size,img_size)), # 強制224x224\n",
    "    #transforms.RandomResizedCrop(img_size),\n",
    "    transforms.RandomHorizontalFlip(),\n",
    "    transforms.ToTensor(),\n",
    "    normalize\n",
    "])\n",
    "\n",
    "transform_val = transforms.Compose([\n",
    "    transforms.Resize((img_size,img_size)), #長=256 寬=等比例縮小\n",
    "    #transforms.CenterCrop(img_size),\n",
    "    transforms.ToTensor(),\n",
    "    normalize\n",
    "])"
   ]
  },
  {
   "cell_type": "markdown",
   "id": "3414ccba",
   "metadata": {},
   "source": [
    "## 2.2_資料前處理-資料分割方式\n",
    "- **K-fold:**\n",
    "    - 解釋: https://ithelp.ithome.com.tw/articles/10278851\n",
    "    - 寫法教學: https://github.com/christianversloot/machine-learning-articles/blob/main/how-to-use-k-fold-cross-validation-with-pytorch.md"
   ]
  },
  {
   "cell_type": "raw",
   "id": "1bbf8a6f",
   "metadata": {},
   "source": [
    "## 驗證K_fold寫法: 一個簡單的4折交叉驗證\n",
    "from sklearn.model_selection import KFold\n",
    "import numpy as np\n",
    "import matplotlib.pyplot as plt\n",
    " \n",
    "X = np.array([[1,2], [3,4], [1,3], [3,5]])\n",
    "Y = np.array([1, 2, 3, 4])\n",
    " \n",
    "KF = KFold(n_splits = 4)  #建立4折交叉驗證方法 查一下KFold函數的參數\n",
    "for train_index, test_index in KF.split(X):\n",
    "    print(\"TRAIN\", train_index, \"TEST\", test_index)\n",
    "    X_train, X_test = X[train_index], X[test_index]\n",
    "    Y_train, Y_test = Y[train_index], Y[test_index]\n",
    "    print(\"對於數據X訓練數據:\", X_train)\n",
    "    print(\"對於數據X測試數據:\", X_test)\n",
    "    print(\"對於數據Y訓練數據:\", Y_train)\n",
    "    print(\"對於數據Y測試數據:\", Y_test)"
   ]
  },
  {
   "cell_type": "code",
   "execution_count": 4,
   "id": "06c2fd2f",
   "metadata": {
    "scrolled": true
   },
   "outputs": [
    {
     "name": "stdout",
     "output_type": "stream",
     "text": [
      "K_fold: 0\n",
      "K_fold: 1\n",
      "K_fold: 2\n",
      "K_fold: 3\n",
      "K_fold: 4\n",
      "\n",
      "訓練張數有:  4026\n",
      "驗證張數有:  1006\n",
      "在此batch_size下，trainloader跌帶次數:  126\n",
      "在此batch_size下，valloader跌帶次數:  32\n"
     ]
    }
   ],
   "source": [
    "# 方法一: 資料夾先分好\n",
    "if choose_data_split == 'original':\n",
    "    train_data = datasets.ImageFolder('data/train/', transform=transform_train)\n",
    "    trainloader = DataLoader(dataset=train_data, batch_size=batch_size, shuffle=True)  # shuffle: 每次batch_size取不同dataset\n",
    "    val_data = datasets.ImageFolder('data/val/', transform=transform_val)\n",
    "    valloader = DataLoader(val_data, batch_size=batch_size, shuffle=False)\n",
    "    \n",
    "    print(\"訓練張數有: \", len(trainloader.dataset))\n",
    "    print(\"驗證張數有: \", len(valloader.dataset))\n",
    "    print(\"在此batch_size下，trainloader跌帶次數: \", len(trainloader))\n",
    "    print(\"在此batch_size下，valloader跌帶次數: \", len(valloader))\n",
    "    \n",
    "# 方法二: K_fold方式 (資料夾未先分train, val)\n",
    "elif choose_data_split == 'K_fold':\n",
    "    train_data = datasets.ImageFolder('data_kfold/', transform=transform_train)\n",
    "    \n",
    "    # 設定交叉驗證區分幾塊\n",
    "    K_fold = KFold(n_splits = split_num, shuffle=True, random_state=42)\n",
    "    \n",
    "    # 方便觀察用，真正使用會在後面\"迴圈主程式\"，位置擺在for i in epoch的外層\n",
    "    for K_fold_num, (train_idx, valid_idx) in enumerate(K_fold.split(train_data)):  # k_fold分割方式 -> (train, val)\n",
    "        print(f'K_fold: {K_fold_num}')\n",
    "        fack_train_sampler = SubsetRandomSampler(train_idx)  # 打亂id (1,2,3,4) -> (3,1,,4,2)\n",
    "        fack_valid_sampler = SubsetRandomSampler(valid_idx)\n",
    "        fack_trainloader = DataLoader(train_data, batch_size=batch_size, sampler=fack_train_sampler, shuffle=False)  # 有sampler就不會有shuffle\n",
    "        fack_valloader = DataLoader(train_data, batch_size=batch_size, sampler=fack_valid_sampler, shuffle=False)\n",
    "\n",
    "    print(\"\\n訓練張數有: \", len(fack_train_sampler))  # !!注意:這裡不能用trainloader_datasets\n",
    "    print(\"驗證張數有: \", len(fack_valid_sampler))\n",
    "    print(\"在此batch_size下，trainloader跌帶次數: \", len(fack_trainloader))\n",
    "    print(\"在此batch_size下，valloader跌帶次數: \", len(fack_valloader))\n",
    "    "
   ]
  },
  {
   "cell_type": "markdown",
   "id": "5c6d7aa3",
   "metadata": {},
   "source": [
    "## 3.1_查看model參數量"
   ]
  },
  {
   "cell_type": "code",
   "execution_count": 5,
   "id": "769a7b70",
   "metadata": {},
   "outputs": [
    {
     "name": "stdout",
     "output_type": "stream",
     "text": [
      "我選擇的模型:  Inception \n",
      "\n",
      "==========================================================================================\n",
      "Layer (type:depth-idx)                   Output Shape              Param #\n",
      "==========================================================================================\n",
      "Inception3                               [32, 3]                   --\n",
      "├─BasicConv2d: 1-1                       [32, 32, 111, 111]        --\n",
      "│    └─Conv2d: 2-1                       [32, 32, 111, 111]        864\n",
      "│    └─BatchNorm2d: 2-2                  [32, 32, 111, 111]        64\n",
      "├─BasicConv2d: 1-2                       [32, 32, 109, 109]        --\n",
      "│    └─Conv2d: 2-3                       [32, 32, 109, 109]        9,216\n",
      "│    └─BatchNorm2d: 2-4                  [32, 32, 109, 109]        64\n",
      "├─BasicConv2d: 1-3                       [32, 64, 109, 109]        --\n",
      "│    └─Conv2d: 2-5                       [32, 64, 109, 109]        18,432\n",
      "│    └─BatchNorm2d: 2-6                  [32, 64, 109, 109]        128\n",
      "├─BasicConv2d: 1-4                       [32, 80, 54, 54]          --\n",
      "│    └─Conv2d: 2-7                       [32, 80, 54, 54]          5,120\n",
      "│    └─BatchNorm2d: 2-8                  [32, 80, 54, 54]          160\n",
      "├─BasicConv2d: 1-5                       [32, 192, 52, 52]         --\n",
      "│    └─Conv2d: 2-9                       [32, 192, 52, 52]         138,240\n",
      "│    └─BatchNorm2d: 2-10                 [32, 192, 52, 52]         384\n",
      "├─InceptionA: 1-6                        [32, 256, 25, 25]         --\n",
      "│    └─BasicConv2d: 2-11                 [32, 64, 25, 25]          --\n",
      "│    │    └─Conv2d: 3-1                  [32, 64, 25, 25]          12,288\n",
      "│    │    └─BatchNorm2d: 3-2             [32, 64, 25, 25]          128\n",
      "│    └─BasicConv2d: 2-12                 [32, 48, 25, 25]          --\n",
      "│    │    └─Conv2d: 3-3                  [32, 48, 25, 25]          9,216\n",
      "│    │    └─BatchNorm2d: 3-4             [32, 48, 25, 25]          96\n",
      "│    └─BasicConv2d: 2-13                 [32, 64, 25, 25]          --\n",
      "│    │    └─Conv2d: 3-5                  [32, 64, 25, 25]          76,800\n",
      "│    │    └─BatchNorm2d: 3-6             [32, 64, 25, 25]          128\n",
      "│    └─BasicConv2d: 2-14                 [32, 64, 25, 25]          --\n",
      "│    │    └─Conv2d: 3-7                  [32, 64, 25, 25]          12,288\n",
      "│    │    └─BatchNorm2d: 3-8             [32, 64, 25, 25]          128\n",
      "│    └─BasicConv2d: 2-15                 [32, 96, 25, 25]          --\n",
      "│    │    └─Conv2d: 3-9                  [32, 96, 25, 25]          55,296\n",
      "│    │    └─BatchNorm2d: 3-10            [32, 96, 25, 25]          192\n",
      "│    └─BasicConv2d: 2-16                 [32, 96, 25, 25]          --\n",
      "│    │    └─Conv2d: 3-11                 [32, 96, 25, 25]          82,944\n",
      "│    │    └─BatchNorm2d: 3-12            [32, 96, 25, 25]          192\n",
      "│    └─BasicConv2d: 2-17                 [32, 32, 25, 25]          --\n",
      "│    │    └─Conv2d: 3-13                 [32, 32, 25, 25]          6,144\n",
      "│    │    └─BatchNorm2d: 3-14            [32, 32, 25, 25]          64\n",
      "├─InceptionA: 1-7                        [32, 288, 25, 25]         --\n",
      "│    └─BasicConv2d: 2-18                 [32, 64, 25, 25]          --\n",
      "│    │    └─Conv2d: 3-15                 [32, 64, 25, 25]          16,384\n",
      "│    │    └─BatchNorm2d: 3-16            [32, 64, 25, 25]          128\n",
      "│    └─BasicConv2d: 2-19                 [32, 48, 25, 25]          --\n",
      "│    │    └─Conv2d: 3-17                 [32, 48, 25, 25]          12,288\n",
      "│    │    └─BatchNorm2d: 3-18            [32, 48, 25, 25]          96\n",
      "│    └─BasicConv2d: 2-20                 [32, 64, 25, 25]          --\n",
      "│    │    └─Conv2d: 3-19                 [32, 64, 25, 25]          76,800\n",
      "│    │    └─BatchNorm2d: 3-20            [32, 64, 25, 25]          128\n",
      "│    └─BasicConv2d: 2-21                 [32, 64, 25, 25]          --\n",
      "│    │    └─Conv2d: 3-21                 [32, 64, 25, 25]          16,384\n",
      "│    │    └─BatchNorm2d: 3-22            [32, 64, 25, 25]          128\n",
      "│    └─BasicConv2d: 2-22                 [32, 96, 25, 25]          --\n",
      "│    │    └─Conv2d: 3-23                 [32, 96, 25, 25]          55,296\n",
      "│    │    └─BatchNorm2d: 3-24            [32, 96, 25, 25]          192\n",
      "│    └─BasicConv2d: 2-23                 [32, 96, 25, 25]          --\n",
      "│    │    └─Conv2d: 3-25                 [32, 96, 25, 25]          82,944\n",
      "│    │    └─BatchNorm2d: 3-26            [32, 96, 25, 25]          192\n",
      "│    └─BasicConv2d: 2-24                 [32, 64, 25, 25]          --\n",
      "│    │    └─Conv2d: 3-27                 [32, 64, 25, 25]          16,384\n",
      "│    │    └─BatchNorm2d: 3-28            [32, 64, 25, 25]          128\n",
      "├─InceptionA: 1-8                        [32, 288, 25, 25]         --\n",
      "│    └─BasicConv2d: 2-25                 [32, 64, 25, 25]          --\n",
      "│    │    └─Conv2d: 3-29                 [32, 64, 25, 25]          18,432\n",
      "│    │    └─BatchNorm2d: 3-30            [32, 64, 25, 25]          128\n",
      "│    └─BasicConv2d: 2-26                 [32, 48, 25, 25]          --\n",
      "│    │    └─Conv2d: 3-31                 [32, 48, 25, 25]          13,824\n",
      "│    │    └─BatchNorm2d: 3-32            [32, 48, 25, 25]          96\n",
      "│    └─BasicConv2d: 2-27                 [32, 64, 25, 25]          --\n",
      "│    │    └─Conv2d: 3-33                 [32, 64, 25, 25]          76,800\n",
      "│    │    └─BatchNorm2d: 3-34            [32, 64, 25, 25]          128\n",
      "│    └─BasicConv2d: 2-28                 [32, 64, 25, 25]          --\n",
      "│    │    └─Conv2d: 3-35                 [32, 64, 25, 25]          18,432\n",
      "│    │    └─BatchNorm2d: 3-36            [32, 64, 25, 25]          128\n",
      "│    └─BasicConv2d: 2-29                 [32, 96, 25, 25]          --\n",
      "│    │    └─Conv2d: 3-37                 [32, 96, 25, 25]          55,296\n",
      "│    │    └─BatchNorm2d: 3-38            [32, 96, 25, 25]          192\n",
      "│    └─BasicConv2d: 2-30                 [32, 96, 25, 25]          --\n",
      "│    │    └─Conv2d: 3-39                 [32, 96, 25, 25]          82,944\n",
      "│    │    └─BatchNorm2d: 3-40            [32, 96, 25, 25]          192\n",
      "│    └─BasicConv2d: 2-31                 [32, 64, 25, 25]          --\n",
      "│    │    └─Conv2d: 3-41                 [32, 64, 25, 25]          18,432\n",
      "│    │    └─BatchNorm2d: 3-42            [32, 64, 25, 25]          128\n",
      "├─InceptionB: 1-9                        [32, 768, 12, 12]         --\n",
      "│    └─BasicConv2d: 2-32                 [32, 384, 12, 12]         --\n",
      "│    │    └─Conv2d: 3-43                 [32, 384, 12, 12]         995,328\n",
      "│    │    └─BatchNorm2d: 3-44            [32, 384, 12, 12]         768\n",
      "│    └─BasicConv2d: 2-33                 [32, 64, 25, 25]          --\n",
      "│    │    └─Conv2d: 3-45                 [32, 64, 25, 25]          18,432\n",
      "│    │    └─BatchNorm2d: 3-46            [32, 64, 25, 25]          128\n",
      "│    └─BasicConv2d: 2-34                 [32, 96, 25, 25]          --\n",
      "│    │    └─Conv2d: 3-47                 [32, 96, 25, 25]          55,296\n",
      "│    │    └─BatchNorm2d: 3-48            [32, 96, 25, 25]          192\n",
      "│    └─BasicConv2d: 2-35                 [32, 96, 12, 12]          --\n",
      "│    │    └─Conv2d: 3-49                 [32, 96, 12, 12]          82,944\n",
      "│    │    └─BatchNorm2d: 3-50            [32, 96, 12, 12]          192\n",
      "├─InceptionC: 1-10                       [32, 768, 12, 12]         --\n",
      "│    └─BasicConv2d: 2-36                 [32, 192, 12, 12]         --\n",
      "│    │    └─Conv2d: 3-51                 [32, 192, 12, 12]         147,456\n",
      "│    │    └─BatchNorm2d: 3-52            [32, 192, 12, 12]         384\n",
      "│    └─BasicConv2d: 2-37                 [32, 128, 12, 12]         --\n",
      "│    │    └─Conv2d: 3-53                 [32, 128, 12, 12]         98,304\n",
      "│    │    └─BatchNorm2d: 3-54            [32, 128, 12, 12]         256\n",
      "│    └─BasicConv2d: 2-38                 [32, 128, 12, 12]         --\n",
      "│    │    └─Conv2d: 3-55                 [32, 128, 12, 12]         114,688\n",
      "│    │    └─BatchNorm2d: 3-56            [32, 128, 12, 12]         256\n",
      "│    └─BasicConv2d: 2-39                 [32, 192, 12, 12]         --\n",
      "│    │    └─Conv2d: 3-57                 [32, 192, 12, 12]         172,032\n",
      "│    │    └─BatchNorm2d: 3-58            [32, 192, 12, 12]         384\n",
      "│    └─BasicConv2d: 2-40                 [32, 128, 12, 12]         --\n",
      "│    │    └─Conv2d: 3-59                 [32, 128, 12, 12]         98,304\n",
      "│    │    └─BatchNorm2d: 3-60            [32, 128, 12, 12]         256\n",
      "│    └─BasicConv2d: 2-41                 [32, 128, 12, 12]         --\n",
      "│    │    └─Conv2d: 3-61                 [32, 128, 12, 12]         114,688\n",
      "│    │    └─BatchNorm2d: 3-62            [32, 128, 12, 12]         256\n",
      "│    └─BasicConv2d: 2-42                 [32, 128, 12, 12]         --\n",
      "│    │    └─Conv2d: 3-63                 [32, 128, 12, 12]         114,688\n",
      "│    │    └─BatchNorm2d: 3-64            [32, 128, 12, 12]         256\n",
      "│    └─BasicConv2d: 2-43                 [32, 128, 12, 12]         --\n",
      "│    │    └─Conv2d: 3-65                 [32, 128, 12, 12]         114,688\n",
      "│    │    └─BatchNorm2d: 3-66            [32, 128, 12, 12]         256\n",
      "│    └─BasicConv2d: 2-44                 [32, 192, 12, 12]         --\n",
      "│    │    └─Conv2d: 3-67                 [32, 192, 12, 12]         172,032\n",
      "│    │    └─BatchNorm2d: 3-68            [32, 192, 12, 12]         384\n",
      "│    └─BasicConv2d: 2-45                 [32, 192, 12, 12]         --\n",
      "│    │    └─Conv2d: 3-69                 [32, 192, 12, 12]         147,456\n",
      "│    │    └─BatchNorm2d: 3-70            [32, 192, 12, 12]         384\n",
      "├─InceptionC: 1-11                       [32, 768, 12, 12]         --\n",
      "│    └─BasicConv2d: 2-46                 [32, 192, 12, 12]         --\n",
      "│    │    └─Conv2d: 3-71                 [32, 192, 12, 12]         147,456\n",
      "│    │    └─BatchNorm2d: 3-72            [32, 192, 12, 12]         384\n",
      "│    └─BasicConv2d: 2-47                 [32, 160, 12, 12]         --\n",
      "│    │    └─Conv2d: 3-73                 [32, 160, 12, 12]         122,880\n",
      "│    │    └─BatchNorm2d: 3-74            [32, 160, 12, 12]         320\n",
      "│    └─BasicConv2d: 2-48                 [32, 160, 12, 12]         --\n",
      "│    │    └─Conv2d: 3-75                 [32, 160, 12, 12]         179,200\n",
      "│    │    └─BatchNorm2d: 3-76            [32, 160, 12, 12]         320\n",
      "│    └─BasicConv2d: 2-49                 [32, 192, 12, 12]         --\n",
      "│    │    └─Conv2d: 3-77                 [32, 192, 12, 12]         215,040\n",
      "│    │    └─BatchNorm2d: 3-78            [32, 192, 12, 12]         384\n",
      "│    └─BasicConv2d: 2-50                 [32, 160, 12, 12]         --\n",
      "│    │    └─Conv2d: 3-79                 [32, 160, 12, 12]         122,880\n",
      "│    │    └─BatchNorm2d: 3-80            [32, 160, 12, 12]         320\n",
      "│    └─BasicConv2d: 2-51                 [32, 160, 12, 12]         --\n",
      "│    │    └─Conv2d: 3-81                 [32, 160, 12, 12]         179,200\n",
      "│    │    └─BatchNorm2d: 3-82            [32, 160, 12, 12]         320\n",
      "│    └─BasicConv2d: 2-52                 [32, 160, 12, 12]         --\n",
      "│    │    └─Conv2d: 3-83                 [32, 160, 12, 12]         179,200\n",
      "│    │    └─BatchNorm2d: 3-84            [32, 160, 12, 12]         320\n",
      "│    └─BasicConv2d: 2-53                 [32, 160, 12, 12]         --\n",
      "│    │    └─Conv2d: 3-85                 [32, 160, 12, 12]         179,200\n",
      "│    │    └─BatchNorm2d: 3-86            [32, 160, 12, 12]         320\n",
      "│    └─BasicConv2d: 2-54                 [32, 192, 12, 12]         --\n",
      "│    │    └─Conv2d: 3-87                 [32, 192, 12, 12]         215,040\n",
      "│    │    └─BatchNorm2d: 3-88            [32, 192, 12, 12]         384\n",
      "│    └─BasicConv2d: 2-55                 [32, 192, 12, 12]         --\n",
      "│    │    └─Conv2d: 3-89                 [32, 192, 12, 12]         147,456\n",
      "│    │    └─BatchNorm2d: 3-90            [32, 192, 12, 12]         384\n",
      "├─InceptionC: 1-12                       [32, 768, 12, 12]         --\n",
      "│    └─BasicConv2d: 2-56                 [32, 192, 12, 12]         --\n",
      "│    │    └─Conv2d: 3-91                 [32, 192, 12, 12]         147,456\n",
      "│    │    └─BatchNorm2d: 3-92            [32, 192, 12, 12]         384\n",
      "│    └─BasicConv2d: 2-57                 [32, 160, 12, 12]         --\n",
      "│    │    └─Conv2d: 3-93                 [32, 160, 12, 12]         122,880\n",
      "│    │    └─BatchNorm2d: 3-94            [32, 160, 12, 12]         320\n",
      "│    └─BasicConv2d: 2-58                 [32, 160, 12, 12]         --\n",
      "│    │    └─Conv2d: 3-95                 [32, 160, 12, 12]         179,200\n",
      "│    │    └─BatchNorm2d: 3-96            [32, 160, 12, 12]         320\n",
      "│    └─BasicConv2d: 2-59                 [32, 192, 12, 12]         --\n",
      "│    │    └─Conv2d: 3-97                 [32, 192, 12, 12]         215,040\n",
      "│    │    └─BatchNorm2d: 3-98            [32, 192, 12, 12]         384\n",
      "│    └─BasicConv2d: 2-60                 [32, 160, 12, 12]         --\n",
      "│    │    └─Conv2d: 3-99                 [32, 160, 12, 12]         122,880\n",
      "│    │    └─BatchNorm2d: 3-100           [32, 160, 12, 12]         320\n",
      "│    └─BasicConv2d: 2-61                 [32, 160, 12, 12]         --\n",
      "│    │    └─Conv2d: 3-101                [32, 160, 12, 12]         179,200\n",
      "│    │    └─BatchNorm2d: 3-102           [32, 160, 12, 12]         320\n",
      "│    └─BasicConv2d: 2-62                 [32, 160, 12, 12]         --\n",
      "│    │    └─Conv2d: 3-103                [32, 160, 12, 12]         179,200\n",
      "│    │    └─BatchNorm2d: 3-104           [32, 160, 12, 12]         320\n",
      "│    └─BasicConv2d: 2-63                 [32, 160, 12, 12]         --\n",
      "│    │    └─Conv2d: 3-105                [32, 160, 12, 12]         179,200\n",
      "│    │    └─BatchNorm2d: 3-106           [32, 160, 12, 12]         320\n",
      "│    └─BasicConv2d: 2-64                 [32, 192, 12, 12]         --\n",
      "│    │    └─Conv2d: 3-107                [32, 192, 12, 12]         215,040\n",
      "│    │    └─BatchNorm2d: 3-108           [32, 192, 12, 12]         384\n",
      "│    └─BasicConv2d: 2-65                 [32, 192, 12, 12]         --\n",
      "│    │    └─Conv2d: 3-109                [32, 192, 12, 12]         147,456\n",
      "│    │    └─BatchNorm2d: 3-110           [32, 192, 12, 12]         384\n",
      "├─InceptionC: 1-13                       [32, 768, 12, 12]         --\n",
      "│    └─BasicConv2d: 2-66                 [32, 192, 12, 12]         --\n",
      "│    │    └─Conv2d: 3-111                [32, 192, 12, 12]         147,456\n",
      "│    │    └─BatchNorm2d: 3-112           [32, 192, 12, 12]         384\n",
      "│    └─BasicConv2d: 2-67                 [32, 192, 12, 12]         --\n",
      "│    │    └─Conv2d: 3-113                [32, 192, 12, 12]         147,456\n",
      "│    │    └─BatchNorm2d: 3-114           [32, 192, 12, 12]         384\n",
      "│    └─BasicConv2d: 2-68                 [32, 192, 12, 12]         --\n",
      "│    │    └─Conv2d: 3-115                [32, 192, 12, 12]         258,048\n",
      "│    │    └─BatchNorm2d: 3-116           [32, 192, 12, 12]         384\n",
      "│    └─BasicConv2d: 2-69                 [32, 192, 12, 12]         --\n",
      "│    │    └─Conv2d: 3-117                [32, 192, 12, 12]         258,048\n",
      "│    │    └─BatchNorm2d: 3-118           [32, 192, 12, 12]         384\n",
      "│    └─BasicConv2d: 2-70                 [32, 192, 12, 12]         --\n",
      "│    │    └─Conv2d: 3-119                [32, 192, 12, 12]         147,456\n",
      "│    │    └─BatchNorm2d: 3-120           [32, 192, 12, 12]         384\n",
      "│    └─BasicConv2d: 2-71                 [32, 192, 12, 12]         --\n",
      "│    │    └─Conv2d: 3-121                [32, 192, 12, 12]         258,048\n",
      "│    │    └─BatchNorm2d: 3-122           [32, 192, 12, 12]         384\n",
      "│    └─BasicConv2d: 2-72                 [32, 192, 12, 12]         --\n",
      "│    │    └─Conv2d: 3-123                [32, 192, 12, 12]         258,048\n",
      "│    │    └─BatchNorm2d: 3-124           [32, 192, 12, 12]         384\n",
      "│    └─BasicConv2d: 2-73                 [32, 192, 12, 12]         --\n",
      "│    │    └─Conv2d: 3-125                [32, 192, 12, 12]         258,048\n",
      "│    │    └─BatchNorm2d: 3-126           [32, 192, 12, 12]         384\n",
      "│    └─BasicConv2d: 2-74                 [32, 192, 12, 12]         --\n",
      "│    │    └─Conv2d: 3-127                [32, 192, 12, 12]         258,048\n",
      "│    │    └─BatchNorm2d: 3-128           [32, 192, 12, 12]         384\n",
      "│    └─BasicConv2d: 2-75                 [32, 192, 12, 12]         --\n",
      "│    │    └─Conv2d: 3-129                [32, 192, 12, 12]         147,456\n",
      "│    │    └─BatchNorm2d: 3-130           [32, 192, 12, 12]         384\n",
      "├─InceptionAux: 1-14                     --                        --\n",
      "│    └─BasicConv2d: 2-76                 --                        --\n",
      "│    │    └─Conv2d: 3-131                --                        98,304\n",
      "│    │    └─BatchNorm2d: 3-132           --                        256\n",
      "│    └─BasicConv2d: 2-77                 --                        --\n",
      "│    │    └─Conv2d: 3-133                --                        2,457,600\n",
      "│    │    └─BatchNorm2d: 3-134           --                        1,536\n",
      "│    └─Linear: 2-78                      --                        2,307\n",
      "├─InceptionD: 1-15                       [32, 1280, 5, 5]          --\n",
      "│    └─BasicConv2d: 2-79                 [32, 192, 12, 12]         --\n",
      "│    │    └─Conv2d: 3-135                [32, 192, 12, 12]         147,456\n",
      "│    │    └─BatchNorm2d: 3-136           [32, 192, 12, 12]         384\n",
      "│    └─BasicConv2d: 2-80                 [32, 320, 5, 5]           --\n",
      "│    │    └─Conv2d: 3-137                [32, 320, 5, 5]           552,960\n",
      "│    │    └─BatchNorm2d: 3-138           [32, 320, 5, 5]           640\n",
      "│    └─BasicConv2d: 2-81                 [32, 192, 12, 12]         --\n",
      "│    │    └─Conv2d: 3-139                [32, 192, 12, 12]         147,456\n",
      "│    │    └─BatchNorm2d: 3-140           [32, 192, 12, 12]         384\n",
      "│    └─BasicConv2d: 2-82                 [32, 192, 12, 12]         --\n",
      "│    │    └─Conv2d: 3-141                [32, 192, 12, 12]         258,048\n",
      "│    │    └─BatchNorm2d: 3-142           [32, 192, 12, 12]         384\n",
      "│    └─BasicConv2d: 2-83                 [32, 192, 12, 12]         --\n",
      "│    │    └─Conv2d: 3-143                [32, 192, 12, 12]         258,048\n",
      "│    │    └─BatchNorm2d: 3-144           [32, 192, 12, 12]         384\n",
      "│    └─BasicConv2d: 2-84                 [32, 192, 5, 5]           --\n",
      "│    │    └─Conv2d: 3-145                [32, 192, 5, 5]           331,776\n",
      "│    │    └─BatchNorm2d: 3-146           [32, 192, 5, 5]           384\n",
      "├─InceptionE: 1-16                       [32, 2048, 5, 5]          --\n",
      "│    └─BasicConv2d: 2-85                 [32, 320, 5, 5]           --\n",
      "│    │    └─Conv2d: 3-147                [32, 320, 5, 5]           409,600\n",
      "│    │    └─BatchNorm2d: 3-148           [32, 320, 5, 5]           640\n",
      "│    └─BasicConv2d: 2-86                 [32, 384, 5, 5]           --\n",
      "│    │    └─Conv2d: 3-149                [32, 384, 5, 5]           491,520\n",
      "│    │    └─BatchNorm2d: 3-150           [32, 384, 5, 5]           768\n",
      "│    └─BasicConv2d: 2-87                 [32, 384, 5, 5]           --\n",
      "│    │    └─Conv2d: 3-151                [32, 384, 5, 5]           442,368\n",
      "│    │    └─BatchNorm2d: 3-152           [32, 384, 5, 5]           768\n",
      "│    └─BasicConv2d: 2-88                 [32, 384, 5, 5]           --\n",
      "│    │    └─Conv2d: 3-153                [32, 384, 5, 5]           442,368\n",
      "│    │    └─BatchNorm2d: 3-154           [32, 384, 5, 5]           768\n",
      "│    └─BasicConv2d: 2-89                 [32, 448, 5, 5]           --\n",
      "│    │    └─Conv2d: 3-155                [32, 448, 5, 5]           573,440\n",
      "│    │    └─BatchNorm2d: 3-156           [32, 448, 5, 5]           896\n",
      "│    └─BasicConv2d: 2-90                 [32, 384, 5, 5]           --\n",
      "│    │    └─Conv2d: 3-157                [32, 384, 5, 5]           1,548,288\n",
      "│    │    └─BatchNorm2d: 3-158           [32, 384, 5, 5]           768\n",
      "│    └─BasicConv2d: 2-91                 [32, 384, 5, 5]           --\n",
      "│    │    └─Conv2d: 3-159                [32, 384, 5, 5]           442,368\n",
      "│    │    └─BatchNorm2d: 3-160           [32, 384, 5, 5]           768\n",
      "│    └─BasicConv2d: 2-92                 [32, 384, 5, 5]           --\n",
      "│    │    └─Conv2d: 3-161                [32, 384, 5, 5]           442,368\n",
      "│    │    └─BatchNorm2d: 3-162           [32, 384, 5, 5]           768\n",
      "│    └─BasicConv2d: 2-93                 [32, 192, 5, 5]           --\n",
      "│    │    └─Conv2d: 3-163                [32, 192, 5, 5]           245,760\n",
      "│    │    └─BatchNorm2d: 3-164           [32, 192, 5, 5]           384\n",
      "├─InceptionE: 1-17                       [32, 2048, 5, 5]          --\n",
      "│    └─BasicConv2d: 2-94                 [32, 320, 5, 5]           --\n",
      "│    │    └─Conv2d: 3-165                [32, 320, 5, 5]           655,360\n",
      "│    │    └─BatchNorm2d: 3-166           [32, 320, 5, 5]           640\n",
      "│    └─BasicConv2d: 2-95                 [32, 384, 5, 5]           --\n",
      "│    │    └─Conv2d: 3-167                [32, 384, 5, 5]           786,432\n",
      "│    │    └─BatchNorm2d: 3-168           [32, 384, 5, 5]           768\n",
      "│    └─BasicConv2d: 2-96                 [32, 384, 5, 5]           --\n",
      "│    │    └─Conv2d: 3-169                [32, 384, 5, 5]           442,368\n",
      "│    │    └─BatchNorm2d: 3-170           [32, 384, 5, 5]           768\n",
      "│    └─BasicConv2d: 2-97                 [32, 384, 5, 5]           --\n",
      "│    │    └─Conv2d: 3-171                [32, 384, 5, 5]           442,368\n",
      "│    │    └─BatchNorm2d: 3-172           [32, 384, 5, 5]           768\n",
      "│    └─BasicConv2d: 2-98                 [32, 448, 5, 5]           --\n",
      "│    │    └─Conv2d: 3-173                [32, 448, 5, 5]           917,504\n",
      "│    │    └─BatchNorm2d: 3-174           [32, 448, 5, 5]           896\n",
      "│    └─BasicConv2d: 2-99                 [32, 384, 5, 5]           --\n",
      "│    │    └─Conv2d: 3-175                [32, 384, 5, 5]           1,548,288\n",
      "│    │    └─BatchNorm2d: 3-176           [32, 384, 5, 5]           768\n",
      "│    └─BasicConv2d: 2-100                [32, 384, 5, 5]           --\n",
      "│    │    └─Conv2d: 3-177                [32, 384, 5, 5]           442,368\n",
      "│    │    └─BatchNorm2d: 3-178           [32, 384, 5, 5]           768\n",
      "│    └─BasicConv2d: 2-101                [32, 384, 5, 5]           --\n",
      "│    │    └─Conv2d: 3-179                [32, 384, 5, 5]           442,368\n",
      "│    │    └─BatchNorm2d: 3-180           [32, 384, 5, 5]           768\n",
      "│    └─BasicConv2d: 2-102                [32, 192, 5, 5]           --\n",
      "│    │    └─Conv2d: 3-181                [32, 192, 5, 5]           393,216\n",
      "│    │    └─BatchNorm2d: 3-182           [32, 192, 5, 5]           384\n",
      "├─Linear: 1-18                           [32, 3]                   6,147\n",
      "==========================================================================================\n",
      "Total params: 24,351,718\n",
      "Trainable params: 24,351,718\n",
      "Non-trainable params: 0\n",
      "Total mult-adds (G): 90.75\n",
      "==========================================================================================\n",
      "Input size (MB): 19.27\n",
      "Forward/backward pass size (MB): 2379.95\n",
      "Params size (MB): 97.41\n",
      "Estimated Total Size (MB): 2496.62\n",
      "==========================================================================================\n"
     ]
    }
   ],
   "source": [
    "# 選擇查看模型\n",
    "#choose_model = 'NIN_v1'  # 快速查看\n",
    "if choose_model == 'NIN_v1':\n",
    "    model = NIN_v1(num_classes=len(classes))\n",
    "elif choose_model == 'NIN_v2':\n",
    "    model = NIN_v2(num_classes=len(classes))\n",
    "elif choose_model == 'Inception':\n",
    "    model = Inception(pretrained=0, num_classes=len(classes))\n",
    "model_parameter = summary(model, input_size=(batch_size, 3, img_size, img_size))  # 算出model parm\n",
    "print(\"我選擇的模型: \", choose_model,\"\\n\")\n",
    "print(model_parameter)"
   ]
  },
  {
   "cell_type": "markdown",
   "id": "ab57b240",
   "metadata": {},
   "source": [
    "## 3.2_訓練模型(train,val)"
   ]
  },
  {
   "cell_type": "code",
   "execution_count": 6,
   "id": "fd7fb7f9",
   "metadata": {},
   "outputs": [],
   "source": [
    "# train_function_v1\n",
    "def train(trainloader, model, use_GPU, epoch, loss_func, optimizer):\n",
    "    model.train()\n",
    "    correct, total = 0, 0\n",
    "    train_acc = 0\n",
    "    acc_sum, loss_sum = 0, 0\n",
    "    i = 0\n",
    "    \n",
    "    #訓練進度條\n",
    "    trainloader_tqdm = tqdm(trainloader)\n",
    "    \n",
    "    optimizer.zero_grad()\n",
    "    for batch_idx, (data, target) in enumerate(trainloader_tqdm):\n",
    "        if use_GPU == True:\n",
    "            data, target = data.cuda(), target.cuda()\n",
    "        data, target = Variable(data), Variable(target)\n",
    "        optimizer.zero_grad()\n",
    "        output = model(data)\n",
    "\n",
    "        # calculate accuracy\n",
    "        correct += (torch.max(output, 1)[1].view(target.size()).data == target.data).sum()\n",
    "        total += trainloader.batch_size\n",
    "        train_acc = 100. * correct / total\n",
    "        acc_sum += train_acc\n",
    "        i += 1\n",
    "\n",
    "        loss = loss_func(output, target)\n",
    "        \n",
    "        loss.backward()\n",
    "        optimizer.step()\n",
    "        loss_sum += loss.item()\n",
    "        \n",
    "        # 顯示方法1: 每跑100批batch_size查看一次\n",
    "        \"\"\"\n",
    "        if choose_data_split == 'original':\n",
    "            if batch_idx % 100 == 0:\n",
    "                print('Train Epoch: {} [{}/{} ({:.0f}%)]\\tLoss: {:.3f}\\tTraining Accuracy: {:.3f}%'.format(\n",
    "                    epoch, batch_idx * len(data), len(trainloader.dataset),\n",
    "                    100. * batch_idx / len(trainloader), loss.item(), train_acc))\n",
    "                \n",
    "        elif choose_data_split == 'K_fold':\n",
    "            if batch_idx % 100 == 0:\n",
    "                print('Train Epoch: {} [{}/{} ({:.0f}%)]\\tLoss: {:.3f}\\tTraining Accuracy: {:.3f}%'.format(\n",
    "                    epoch, batch_idx * len(data), len(train_sampler),\n",
    "                    100. * batch_idx / len(trainloader), loss.item(), train_acc))\n",
    "        \"\"\"\n",
    "        # 顯示方法2: tqdm訓練進度條顯示\n",
    "        if choose_data_split == 'original':\n",
    "            trainloader_tqdm.desc = f'Train Epoch: {epoch} [{batch_idx*len(data)}/{len(trainloader.dataset)} ({100. * batch_idx / len(trainloader):.0f}%)]\\tLoss: {loss.item():.3f}\\tTraining Accuracy: {train_acc:.3f}%'  # 進度條工具\n",
    "        elif choose_data_split == 'K_fold':\n",
    "            trainloader_tqdm.desc = f'Train Epoch: {epoch} [{batch_idx*len(data)}/{len(train_sampler)} ({100. * batch_idx / len(trainloader):.0f}%)]\\tLoss: {loss.item():.3f}\\tTraining Accuracy: {train_acc:.3f}%'  # 進度條工具\n",
    "    \n",
    "    # 每回合eopch的train loss, accuracy\n",
    "    acc_avg = acc_sum / i\n",
    "    loss_avg = loss_sum / len(trainloader)\n",
    "\n",
    "    print('Train Epoch: {}\\tAverage Loss: {:.3f}\\tAverage Accuracy: {:.3f}%'.format(epoch, loss_avg, acc_avg))\n",
    "    \n",
    "    return acc_avg, loss_avg"
   ]
  },
  {
   "cell_type": "raw",
   "id": "16775cb5",
   "metadata": {},
   "source": [
    "# train_function_v2: accumulation_step\n",
    "# Gradient Accumulation用法教學: https://kozodoi.me/python/deep%20learning/pytorch/tutorial/2021/02/19/gradient-accumulation.html\n",
    "def train(trainloader, model, use_GPU, epoch, loss_func, optimizer):\n",
    "    model.train()\n",
    "    correct, total = 0, 0\n",
    "    train_acc = 0\n",
    "    acc_sum, loss_sum = 0, 0\n",
    "    i = 0\n",
    "    \n",
    "    #訓練進度條\n",
    "    trainloader_tqdm = tqdm(trainloader)\n",
    "    accumulation_step = 2  #+++++++++++++++++++\n",
    "    \n",
    "    optimizer.zero_grad()\n",
    "    for batch_idx, (data, target) in enumerate(trainloader_tqdm):\n",
    "        if use_GPU == True:\n",
    "            data, target = data.cuda(), target.cuda()\n",
    "        data, target = Variable(data), Variable(target)\n",
    "        #optimizer.zero_grad()  #----------------------\n",
    "        output = model(data)\n",
    "\n",
    "        # calculate accuracy\n",
    "        correct += (torch.max(output, 1)[1].view(target.size()).data == target.data).sum()\n",
    "        total += trainloader.batch_size\n",
    "        train_acc = 100. * correct / total\n",
    "        acc_sum += train_acc\n",
    "        i += 1\n",
    "\n",
    "        loss = loss_func(output, target)\n",
    "        \n",
    "        loss = loss / accumulation_step  #+++++++++++++++++++++++++\n",
    "        \n",
    "        loss.backward()\n",
    "        #optimizer.step()  #-----------------\n",
    "        loss_sum += loss.item()\n",
    "        \n",
    "        #++++++++++++++++++++++\n",
    "        if ((batch_idx+1) % accumulation_step == 0) or ((batch_idx+1)==len(trainloader)):\n",
    "            optimizer.step() # update\n",
    "            optimizer.zero_grad() # reset\n",
    "        #++++++++++++++++++++++\n",
    "        \n",
    "        # 顯示方法1: 每跑100批batch_size查看一次\n",
    "        \"\"\"\n",
    "        if choose_data_split == 'original':\n",
    "            if batch_idx % 100 == 0:\n",
    "                print('Train Epoch: {} [{}/{} ({:.0f}%)]\\tLoss: {:.3f}\\tTraining Accuracy: {:.3f}%'.format(\n",
    "                    epoch, batch_idx * len(data), len(trainloader.dataset),\n",
    "                    100. * batch_idx / len(trainloader), loss.item(), train_acc))\n",
    "                \n",
    "        elif choose_data_split == 'K_fold':\n",
    "            if batch_idx % 100 == 0:\n",
    "                print('Train Epoch: {} [{}/{} ({:.0f}%)]\\tLoss: {:.3f}\\tTraining Accuracy: {:.3f}%'.format(\n",
    "                    epoch, batch_idx * len(data), len(train_sampler),\n",
    "                    100. * batch_idx / len(trainloader), loss.item(), train_acc))\n",
    "        \"\"\"\n",
    "        # 顯示方法2: tqdm訓練進度條顯示\n",
    "        if choose_data_split == 'original':\n",
    "            trainloader_tqdm.desc = f'Train Epoch: {epoch} [{batch_idx*len(data)}/{len(trainloader.dataset)} ({100. * batch_idx / len(trainloader):.0f}%)]\\tLoss: {loss.item():.3f}\\tTraining Accuracy: {train_acc:.3f}%'  # 進度條工具\n",
    "        elif choose_data_split == 'K_fold':\n",
    "            trainloader_tqdm.desc = f'Train Epoch: {epoch} [{batch_idx*len(data)}/{len(train_sampler)} ({100. * batch_idx / len(trainloader):.0f}%)]\\tLoss: {loss.item():.3f}\\tTraining Accuracy: {train_acc:.3f}%'  # 進度條工具\n",
    "    \n",
    "    # 每回合eopch的train loss, accuracy\n",
    "    acc_avg = acc_sum / i\n",
    "    loss_avg = loss_sum / len(trainloader)\n",
    "\n",
    "    print('Train Epoch: {}\\tAverage Loss: {:.3f}\\tAverage Accuracy: {:.3f}%'.format(epoch, loss_avg, acc_avg))\n",
    "    \n",
    "    return acc_avg, loss_avg"
   ]
  },
  {
   "cell_type": "code",
   "execution_count": 7,
   "id": "8eeace61",
   "metadata": {},
   "outputs": [],
   "source": [
    "# val_function\n",
    "def val(valloader, model, use_GPU, loss_func, epoch):\n",
    "    model.eval()\n",
    "    val_loss = 0\n",
    "    val_correct_num = 0\n",
    "    with torch.no_grad():\n",
    "        for i, (data, target) in enumerate(valloader):\n",
    "            if use_GPU == True:\n",
    "                data, target = data.cuda(), target.cuda()\n",
    "            data, target = Variable(data), Variable(target)\n",
    "            output = model(data)\n",
    "            \n",
    "            # 算acc方法1:\n",
    "            val_loss += loss_func(output, target).item()  # sum up batch loss\n",
    "            pred = output.data.max(1, keepdim=True)[1]  # get the index of the max log-probability\n",
    "            val_correct_num += pred.eq(target.data.view_as(pred)).cpu().sum()\n",
    "            \n",
    "            # 算acc方法2:\n",
    "            #_, idx = torch.max(output.data, dim=1)\n",
    "            #val_correct_num += torch.sum(idx == target)\n",
    "\n",
    "        val_loss /= len(valloader)\n",
    "\n",
    "        if choose_data_split == 'original':\n",
    "            val_correct_rate = 100. * val_correct_num / len(valloader.dataset)\n",
    "            result = 'Val set -> Average loss: {:.4f}, Accuracy: {}/{} ({:.3f}%)'.format(\n",
    "                val_loss, val_correct_num, len(valloader.dataset), val_correct_rate)\n",
    "\n",
    "        elif choose_data_split == 'K_fold':\n",
    "            val_correct_rate = 100. * val_correct_num / len(valid_sampler)  # valloader.dataset -> valid_sampler\n",
    "            result = 'Val set -> Average loss: {:.4f}, Accuracy: {}/{} ({:.3f}%)'.format(\n",
    "                val_loss, val_correct_num, len(valid_sampler), val_correct_rate)  \n",
    "        print(result)\n",
    "    return val_correct_rate, val_loss"
   ]
  },
  {
   "cell_type": "markdown",
   "id": "2f6cebdd",
   "metadata": {},
   "source": [
    "## 3.3_model初始化權重"
   ]
  },
  {
   "cell_type": "code",
   "execution_count": 8,
   "id": "809d804b",
   "metadata": {},
   "outputs": [],
   "source": [
    "# 初始化權重\n",
    "# 在K_fold期間，它將用於重置模型的參數。這樣我們能確保模型使用隨機初始化（偽）的權重進行訓練，避免權重洩漏。\n",
    "def reset_weights(m):\n",
    "    # Try resetting model weights to avoid weight leakage.\n",
    "    for layer in m.children():\n",
    "        if hasattr(layer, 'reset_parameters'):\n",
    "            #print(f'Reset trainable parameters of layer = {layer}')  # 顯示初始化了多少layer\n",
    "            layer.reset_parameters()"
   ]
  },
  {
   "cell_type": "markdown",
   "id": "5367485f",
   "metadata": {},
   "source": [
    "## 4_運行主程式"
   ]
  },
  {
   "cell_type": "code",
   "execution_count": 9,
   "id": "2f3df430",
   "metadata": {
    "scrolled": false
   },
   "outputs": [
    {
     "name": "stdout",
     "output_type": "stream",
     "text": [
      "--------------------------------\n",
      "K_fold: 0\n"
     ]
    },
    {
     "name": "stderr",
     "output_type": "stream",
     "text": [
      "Train Epoch: 1 [3125/4025 (99%)]\tLoss: 1.347\tTraining Accuracy: 53.745%: 100%|███████| 126/126 [00:58<00:00,  2.16it/s]\n"
     ]
    },
    {
     "name": "stdout",
     "output_type": "stream",
     "text": [
      "Train Epoch: 1\tAverage Loss: 1.325\tAverage Accuracy: 53.848%\n",
      "Val set -> Average loss: 2.2335, Accuracy: 510/1007 (50.645%)\n"
     ]
    },
    {
     "name": "stderr",
     "output_type": "stream",
     "text": [
      "Train Epoch: 2 [3125/4025 (99%)]\tLoss: 1.801\tTraining Accuracy: 53.919%: 100%|███████| 126/126 [00:57<00:00,  2.21it/s]\n"
     ]
    },
    {
     "name": "stdout",
     "output_type": "stream",
     "text": [
      "Train Epoch: 2\tAverage Loss: 1.233\tAverage Accuracy: 53.800%\n",
      "Val set -> Average loss: 1.5600, Accuracy: 507/1007 (50.348%)\n"
     ]
    },
    {
     "name": "stderr",
     "output_type": "stream",
     "text": [
      "Train Epoch: 3 [3125/4025 (99%)]\tLoss: 1.089\tTraining Accuracy: 54.588%: 100%|███████| 126/126 [00:57<00:00,  2.19it/s]\n"
     ]
    },
    {
     "name": "stdout",
     "output_type": "stream",
     "text": [
      "Train Epoch: 3\tAverage Loss: 1.141\tAverage Accuracy: 54.157%\n",
      "Val set -> Average loss: 1.0615, Accuracy: 456/1007 (45.283%)\n"
     ]
    },
    {
     "name": "stderr",
     "output_type": "stream",
     "text": [
      "Train Epoch: 4 [3125/4025 (99%)]\tLoss: 0.703\tTraining Accuracy: 56.597%: 100%|███████| 126/126 [00:55<00:00,  2.26it/s]\n"
     ]
    },
    {
     "name": "stdout",
     "output_type": "stream",
     "text": [
      "Train Epoch: 4\tAverage Loss: 1.056\tAverage Accuracy: 56.557%\n",
      "Val set -> Average loss: 1.4554, Accuracy: 546/1007 (54.220%)\n"
     ]
    },
    {
     "name": "stderr",
     "output_type": "stream",
     "text": [
      "Train Epoch: 5 [3125/4025 (99%)]\tLoss: 0.752\tTraining Accuracy: 57.416%: 100%|███████| 126/126 [00:58<00:00,  2.16it/s]\n"
     ]
    },
    {
     "name": "stdout",
     "output_type": "stream",
     "text": [
      "Train Epoch: 5\tAverage Loss: 1.048\tAverage Accuracy: 57.728%\n",
      "Val set -> Average loss: 1.3607, Accuracy: 522/1007 (51.837%)\n"
     ]
    },
    {
     "name": "stderr",
     "output_type": "stream",
     "text": [
      "Train Epoch: 6 [3125/4025 (99%)]\tLoss: 0.787\tTraining Accuracy: 58.730%: 100%|███████| 126/126 [00:57<00:00,  2.18it/s]\n"
     ]
    },
    {
     "name": "stdout",
     "output_type": "stream",
     "text": [
      "Train Epoch: 6\tAverage Loss: 0.992\tAverage Accuracy: 58.391%\n",
      "Val set -> Average loss: 0.9934, Accuracy: 563/1007 (55.909%)\n"
     ]
    },
    {
     "name": "stderr",
     "output_type": "stream",
     "text": [
      "Train Epoch: 7 [3125/4025 (99%)]\tLoss: 0.722\tTraining Accuracy: 60.243%: 100%|███████| 126/126 [00:58<00:00,  2.14it/s]\n"
     ]
    },
    {
     "name": "stdout",
     "output_type": "stream",
     "text": [
      "Train Epoch: 7\tAverage Loss: 0.972\tAverage Accuracy: 60.154%\n",
      "Val set -> Average loss: 0.9863, Accuracy: 574/1007 (57.001%)\n"
     ]
    },
    {
     "name": "stderr",
     "output_type": "stream",
     "text": [
      "Train Epoch: 8 [3125/4025 (99%)]\tLoss: 0.916\tTraining Accuracy: 61.086%: 100%|███████| 126/126 [00:56<00:00,  2.22it/s]\n"
     ]
    },
    {
     "name": "stdout",
     "output_type": "stream",
     "text": [
      "Train Epoch: 8\tAverage Loss: 0.946\tAverage Accuracy: 61.745%\n",
      "Val set -> Average loss: 1.0283, Accuracy: 599/1007 (59.484%)\n"
     ]
    },
    {
     "name": "stderr",
     "output_type": "stream",
     "text": [
      "Train Epoch: 9 [3125/4025 (99%)]\tLoss: 0.646\tTraining Accuracy: 61.682%: 100%|███████| 126/126 [00:56<00:00,  2.22it/s]\n"
     ]
    },
    {
     "name": "stdout",
     "output_type": "stream",
     "text": [
      "Train Epoch: 9\tAverage Loss: 0.942\tAverage Accuracy: 62.238%\n",
      "Val set -> Average loss: 1.5769, Accuracy: 580/1007 (57.597%)\n"
     ]
    },
    {
     "name": "stderr",
     "output_type": "stream",
     "text": [
      "Train Epoch: 10 [3125/4025 (99%)]\tLoss: 0.820\tTraining Accuracy: 62.054%: 100%|██████| 126/126 [00:55<00:00,  2.27it/s]\n"
     ]
    },
    {
     "name": "stdout",
     "output_type": "stream",
     "text": [
      "Train Epoch: 10\tAverage Loss: 0.928\tAverage Accuracy: 62.157%\n",
      "Val set -> Average loss: 0.9572, Accuracy: 589/1007 (58.491%)\n"
     ]
    },
    {
     "name": "stderr",
     "output_type": "stream",
     "text": [
      "Train Epoch: 11 [3125/4025 (99%)]\tLoss: 0.829\tTraining Accuracy: 62.847%: 100%|██████| 126/126 [00:56<00:00,  2.24it/s]\n"
     ]
    },
    {
     "name": "stdout",
     "output_type": "stream",
     "text": [
      "Train Epoch: 11\tAverage Loss: 0.889\tAverage Accuracy: 62.969%\n",
      "Val set -> Average loss: 0.9416, Accuracy: 628/1007 (62.363%)\n"
     ]
    },
    {
     "name": "stderr",
     "output_type": "stream",
     "text": [
      "Train Epoch: 12 [3125/4025 (99%)]\tLoss: 0.928\tTraining Accuracy: 64.633%: 100%|██████| 126/126 [00:57<00:00,  2.21it/s]\n"
     ]
    },
    {
     "name": "stdout",
     "output_type": "stream",
     "text": [
      "Train Epoch: 12\tAverage Loss: 0.866\tAverage Accuracy: 63.956%\n",
      "Val set -> Average loss: 1.6114, Accuracy: 607/1007 (60.278%)\n"
     ]
    },
    {
     "name": "stderr",
     "output_type": "stream",
     "text": [
      "Train Epoch: 13 [3125/4025 (99%)]\tLoss: 0.867\tTraining Accuracy: 64.137%: 100%|██████| 126/126 [00:57<00:00,  2.20it/s]\n"
     ]
    },
    {
     "name": "stdout",
     "output_type": "stream",
     "text": [
      "Train Epoch: 13\tAverage Loss: 0.886\tAverage Accuracy: 64.027%\n",
      "Val set -> Average loss: 1.0170, Accuracy: 616/1007 (61.172%)\n"
     ]
    },
    {
     "name": "stderr",
     "output_type": "stream",
     "text": [
      "Train Epoch: 14 [3125/4025 (99%)]\tLoss: 0.682\tTraining Accuracy: 66.344%: 100%|██████| 126/126 [00:58<00:00,  2.16it/s]\n"
     ]
    },
    {
     "name": "stdout",
     "output_type": "stream",
     "text": [
      "Train Epoch: 14\tAverage Loss: 0.839\tAverage Accuracy: 65.997%\n",
      "Val set -> Average loss: 0.9588, Accuracy: 632/1007 (62.761%)\n"
     ]
    },
    {
     "name": "stderr",
     "output_type": "stream",
     "text": [
      "Train Epoch: 15 [3125/4025 (99%)]\tLoss: 0.754\tTraining Accuracy: 68.552%: 100%|██████| 126/126 [00:57<00:00,  2.20it/s]\n"
     ]
    },
    {
     "name": "stdout",
     "output_type": "stream",
     "text": [
      "Train Epoch: 15\tAverage Loss: 0.775\tAverage Accuracy: 68.120%\n",
      "Val set -> Average loss: 0.9413, Accuracy: 674/1007 (66.931%)\n"
     ]
    },
    {
     "name": "stderr",
     "output_type": "stream",
     "text": [
      "Train Epoch: 16 [3125/4025 (99%)]\tLoss: 0.879\tTraining Accuracy: 70.809%: 100%|██████| 126/126 [00:58<00:00,  2.17it/s]\n"
     ]
    },
    {
     "name": "stdout",
     "output_type": "stream",
     "text": [
      "Train Epoch: 16\tAverage Loss: 0.725\tAverage Accuracy: 70.910%\n",
      "Val set -> Average loss: 0.8476, Accuracy: 675/1007 (67.031%)\n"
     ]
    },
    {
     "name": "stderr",
     "output_type": "stream",
     "text": [
      "Train Epoch: 17 [3125/4025 (99%)]\tLoss: 1.059\tTraining Accuracy: 70.660%: 100%|██████| 126/126 [00:57<00:00,  2.20it/s]\n"
     ]
    },
    {
     "name": "stdout",
     "output_type": "stream",
     "text": [
      "Train Epoch: 17\tAverage Loss: 0.726\tAverage Accuracy: 70.444%\n",
      "Val set -> Average loss: 1.1069, Accuracy: 668/1007 (66.336%)\n"
     ]
    },
    {
     "name": "stderr",
     "output_type": "stream",
     "text": [
      "Train Epoch: 18 [3125/4025 (99%)]\tLoss: 1.020\tTraining Accuracy: 71.577%: 100%|██████| 126/126 [00:58<00:00,  2.16it/s]\n"
     ]
    },
    {
     "name": "stdout",
     "output_type": "stream",
     "text": [
      "Train Epoch: 18\tAverage Loss: 0.707\tAverage Accuracy: 72.300%\n",
      "Val set -> Average loss: 0.9264, Accuracy: 660/1007 (65.541%)\n"
     ]
    },
    {
     "name": "stderr",
     "output_type": "stream",
     "text": [
      "Train Epoch: 19 [3125/4025 (99%)]\tLoss: 0.750\tTraining Accuracy: 71.925%: 100%|██████| 126/126 [00:56<00:00,  2.23it/s]\n"
     ]
    },
    {
     "name": "stdout",
     "output_type": "stream",
     "text": [
      "Train Epoch: 19\tAverage Loss: 0.690\tAverage Accuracy: 72.406%\n",
      "Val set -> Average loss: 0.8916, Accuracy: 685/1007 (68.024%)\n"
     ]
    },
    {
     "name": "stderr",
     "output_type": "stream",
     "text": [
      "Train Epoch: 20 [3125/4025 (99%)]\tLoss: 0.595\tTraining Accuracy: 73.041%: 100%|██████| 126/126 [00:58<00:00,  2.16it/s]\n"
     ]
    },
    {
     "name": "stdout",
     "output_type": "stream",
     "text": [
      "Train Epoch: 20\tAverage Loss: 0.658\tAverage Accuracy: 72.493%\n",
      "Val set -> Average loss: 1.0101, Accuracy: 686/1007 (68.123%)\n"
     ]
    },
    {
     "name": "stderr",
     "output_type": "stream",
     "text": [
      "Train Epoch: 21 [3125/4025 (99%)]\tLoss: 0.557\tTraining Accuracy: 73.189%: 100%|██████| 126/126 [00:56<00:00,  2.23it/s]\n"
     ]
    },
    {
     "name": "stdout",
     "output_type": "stream",
     "text": [
      "Train Epoch: 21\tAverage Loss: 0.654\tAverage Accuracy: 73.464%\n",
      "Val set -> Average loss: 0.9361, Accuracy: 674/1007 (66.931%)\n"
     ]
    },
    {
     "name": "stderr",
     "output_type": "stream",
     "text": [
      "Train Epoch: 22 [3125/4025 (99%)]\tLoss: 0.737\tTraining Accuracy: 73.586%: 100%|██████| 126/126 [00:57<00:00,  2.20it/s]\n"
     ]
    },
    {
     "name": "stdout",
     "output_type": "stream",
     "text": [
      "Train Epoch: 22\tAverage Loss: 0.661\tAverage Accuracy: 73.246%\n",
      "Val set -> Average loss: 0.8508, Accuracy: 677/1007 (67.229%)\n"
     ]
    },
    {
     "name": "stderr",
     "output_type": "stream",
     "text": [
      "Train Epoch: 23 [3125/4025 (99%)]\tLoss: 0.438\tTraining Accuracy: 73.661%: 100%|██████| 126/126 [00:59<00:00,  2.13it/s]\n"
     ]
    },
    {
     "name": "stdout",
     "output_type": "stream",
     "text": [
      "Train Epoch: 23\tAverage Loss: 0.656\tAverage Accuracy: 74.048%\n",
      "Val set -> Average loss: 0.9858, Accuracy: 674/1007 (66.931%)\n"
     ]
    },
    {
     "name": "stderr",
     "output_type": "stream",
     "text": [
      "Train Epoch: 24 [3125/4025 (99%)]\tLoss: 0.473\tTraining Accuracy: 73.859%: 100%|██████| 126/126 [00:57<00:00,  2.20it/s]\n"
     ]
    },
    {
     "name": "stdout",
     "output_type": "stream",
     "text": [
      "Train Epoch: 24\tAverage Loss: 0.650\tAverage Accuracy: 72.795%\n",
      "Val set -> Average loss: 0.9058, Accuracy: 675/1007 (67.031%)\n"
     ]
    },
    {
     "name": "stderr",
     "output_type": "stream",
     "text": [
      "Train Epoch: 25 [3125/4025 (99%)]\tLoss: 0.551\tTraining Accuracy: 73.562%: 100%|██████| 126/126 [00:57<00:00,  2.19it/s]\n"
     ]
    },
    {
     "name": "stdout",
     "output_type": "stream",
     "text": [
      "Train Epoch: 25\tAverage Loss: 0.647\tAverage Accuracy: 73.570%\n",
      "Val set -> Average loss: 0.9326, Accuracy: 682/1007 (67.726%)\n"
     ]
    },
    {
     "name": "stderr",
     "output_type": "stream",
     "text": [
      "Train Epoch: 26 [3125/4025 (99%)]\tLoss: 0.570\tTraining Accuracy: 73.586%: 100%|██████| 126/126 [00:56<00:00,  2.22it/s]\n"
     ]
    },
    {
     "name": "stdout",
     "output_type": "stream",
     "text": [
      "Train Epoch: 26\tAverage Loss: 0.651\tAverage Accuracy: 73.754%\n",
      "Val set -> Average loss: 0.8716, Accuracy: 674/1007 (66.931%)\n"
     ]
    },
    {
     "name": "stderr",
     "output_type": "stream",
     "text": [
      "Train Epoch: 27 [3125/4025 (99%)]\tLoss: 1.170\tTraining Accuracy: 73.760%: 100%|██████| 126/126 [00:56<00:00,  2.23it/s]\n"
     ]
    },
    {
     "name": "stdout",
     "output_type": "stream",
     "text": [
      "Train Epoch: 27\tAverage Loss: 0.645\tAverage Accuracy: 74.142%\n",
      "Val set -> Average loss: 0.8627, Accuracy: 686/1007 (68.123%)\n"
     ]
    },
    {
     "name": "stderr",
     "output_type": "stream",
     "text": [
      "Train Epoch: 28 [3125/4025 (99%)]\tLoss: 0.504\tTraining Accuracy: 74.033%: 100%|██████| 126/126 [00:56<00:00,  2.22it/s]\n"
     ]
    },
    {
     "name": "stdout",
     "output_type": "stream",
     "text": [
      "Train Epoch: 28\tAverage Loss: 0.642\tAverage Accuracy: 73.781%\n",
      "Val set -> Average loss: 0.9241, Accuracy: 687/1007 (68.222%)\n"
     ]
    },
    {
     "name": "stderr",
     "output_type": "stream",
     "text": [
      "Train Epoch: 29 [3125/4025 (99%)]\tLoss: 0.849\tTraining Accuracy: 73.413%: 100%|██████| 126/126 [00:57<00:00,  2.18it/s]\n"
     ]
    },
    {
     "name": "stdout",
     "output_type": "stream",
     "text": [
      "Train Epoch: 29\tAverage Loss: 0.646\tAverage Accuracy: 73.599%\n",
      "Val set -> Average loss: 1.0074, Accuracy: 670/1007 (66.534%)\n"
     ]
    },
    {
     "name": "stderr",
     "output_type": "stream",
     "text": [
      "Train Epoch: 30 [3125/4025 (99%)]\tLoss: 0.842\tTraining Accuracy: 73.710%: 100%|██████| 126/126 [00:59<00:00,  2.11it/s]\n"
     ]
    },
    {
     "name": "stdout",
     "output_type": "stream",
     "text": [
      "Train Epoch: 30\tAverage Loss: 0.649\tAverage Accuracy: 74.857%\n",
      "Val set -> Average loss: 1.0607, Accuracy: 676/1007 (67.130%)\n",
      "--------------------------------\n",
      "K_fold: 1\n"
     ]
    },
    {
     "name": "stderr",
     "output_type": "stream",
     "text": [
      "Train Epoch: 1 [3125/4025 (99%)]\tLoss: 0.879\tTraining Accuracy: 51.116%: 100%|███████| 126/126 [00:57<00:00,  2.20it/s]\n"
     ]
    },
    {
     "name": "stdout",
     "output_type": "stream",
     "text": [
      "Train Epoch: 1\tAverage Loss: 1.425\tAverage Accuracy: 49.749%\n",
      "Val set -> Average loss: 6.3065, Accuracy: 518/1007 (51.440%)\n"
     ]
    },
    {
     "name": "stderr",
     "output_type": "stream",
     "text": [
      "Train Epoch: 2 [3125/4025 (99%)]\tLoss: 1.025\tTraining Accuracy: 53.472%: 100%|███████| 126/126 [00:55<00:00,  2.28it/s]\n"
     ]
    },
    {
     "name": "stdout",
     "output_type": "stream",
     "text": [
      "Train Epoch: 2\tAverage Loss: 1.243\tAverage Accuracy: 54.860%\n",
      "Val set -> Average loss: 1.0732, Accuracy: 541/1007 (53.724%)\n"
     ]
    },
    {
     "name": "stderr",
     "output_type": "stream",
     "text": [
      "Train Epoch: 3 [3125/4025 (99%)]\tLoss: 0.940\tTraining Accuracy: 54.390%: 100%|███████| 126/126 [00:58<00:00,  2.15it/s]\n"
     ]
    },
    {
     "name": "stdout",
     "output_type": "stream",
     "text": [
      "Train Epoch: 3\tAverage Loss: 1.095\tAverage Accuracy: 52.246%\n",
      "Val set -> Average loss: 0.9817, Accuracy: 553/1007 (54.916%)\n"
     ]
    },
    {
     "name": "stderr",
     "output_type": "stream",
     "text": [
      "Train Epoch: 4 [3125/4025 (99%)]\tLoss: 1.044\tTraining Accuracy: 56.300%: 100%|███████| 126/126 [00:56<00:00,  2.24it/s]\n"
     ]
    },
    {
     "name": "stdout",
     "output_type": "stream",
     "text": [
      "Train Epoch: 4\tAverage Loss: 1.051\tAverage Accuracy: 55.473%\n",
      "Val set -> Average loss: 1.0092, Accuracy: 601/1007 (59.682%)\n"
     ]
    },
    {
     "name": "stderr",
     "output_type": "stream",
     "text": [
      "Train Epoch: 5 [3125/4025 (99%)]\tLoss: 1.062\tTraining Accuracy: 57.937%: 100%|███████| 126/126 [00:55<00:00,  2.26it/s]\n"
     ]
    },
    {
     "name": "stdout",
     "output_type": "stream",
     "text": [
      "Train Epoch: 5\tAverage Loss: 1.019\tAverage Accuracy: 55.810%\n",
      "Val set -> Average loss: 1.0506, Accuracy: 596/1007 (59.186%)\n"
     ]
    },
    {
     "name": "stderr",
     "output_type": "stream",
     "text": [
      "Train Epoch: 6 [3125/4025 (99%)]\tLoss: 0.957\tTraining Accuracy: 59.573%: 100%|███████| 126/126 [00:55<00:00,  2.25it/s]\n"
     ]
    },
    {
     "name": "stdout",
     "output_type": "stream",
     "text": [
      "Train Epoch: 6\tAverage Loss: 0.984\tAverage Accuracy: 58.973%\n",
      "Val set -> Average loss: 0.9854, Accuracy: 632/1007 (62.761%)\n"
     ]
    },
    {
     "name": "stderr",
     "output_type": "stream",
     "text": [
      "Train Epoch: 7 [3125/4025 (99%)]\tLoss: 0.825\tTraining Accuracy: 62.054%: 100%|███████| 126/126 [00:55<00:00,  2.25it/s]\n"
     ]
    },
    {
     "name": "stdout",
     "output_type": "stream",
     "text": [
      "Train Epoch: 7\tAverage Loss: 0.909\tAverage Accuracy: 60.582%\n",
      "Val set -> Average loss: 0.8736, Accuracy: 655/1007 (65.045%)\n"
     ]
    },
    {
     "name": "stderr",
     "output_type": "stream",
     "text": [
      "Train Epoch: 8 [3125/4025 (99%)]\tLoss: 1.185\tTraining Accuracy: 62.996%: 100%|███████| 126/126 [00:55<00:00,  2.25it/s]\n"
     ]
    },
    {
     "name": "stdout",
     "output_type": "stream",
     "text": [
      "Train Epoch: 8\tAverage Loss: 0.886\tAverage Accuracy: 62.712%\n",
      "Val set -> Average loss: 0.8325, Accuracy: 658/1007 (65.343%)\n"
     ]
    },
    {
     "name": "stderr",
     "output_type": "stream",
     "text": [
      "Train Epoch: 9 [3125/4025 (99%)]\tLoss: 0.669\tTraining Accuracy: 63.467%: 100%|███████| 126/126 [00:56<00:00,  2.24it/s]\n"
     ]
    },
    {
     "name": "stdout",
     "output_type": "stream",
     "text": [
      "Train Epoch: 9\tAverage Loss: 0.877\tAverage Accuracy: 63.708%\n",
      "Val set -> Average loss: 0.9401, Accuracy: 640/1007 (63.555%)\n"
     ]
    },
    {
     "name": "stderr",
     "output_type": "stream",
     "text": [
      "Train Epoch: 10 [3125/4025 (99%)]\tLoss: 0.764\tTraining Accuracy: 63.095%: 100%|██████| 126/126 [00:56<00:00,  2.24it/s]\n"
     ]
    },
    {
     "name": "stdout",
     "output_type": "stream",
     "text": [
      "Train Epoch: 10\tAverage Loss: 0.884\tAverage Accuracy: 62.922%\n",
      "Val set -> Average loss: 0.8598, Accuracy: 659/1007 (65.442%)\n"
     ]
    },
    {
     "name": "stderr",
     "output_type": "stream",
     "text": [
      "Train Epoch: 11 [3125/4025 (99%)]\tLoss: 0.840\tTraining Accuracy: 64.286%: 100%|██████| 126/126 [00:55<00:00,  2.26it/s]\n"
     ]
    },
    {
     "name": "stdout",
     "output_type": "stream",
     "text": [
      "Train Epoch: 11\tAverage Loss: 0.865\tAverage Accuracy: 65.193%\n",
      "Val set -> Average loss: 0.8274, Accuracy: 656/1007 (65.144%)\n"
     ]
    },
    {
     "name": "stderr",
     "output_type": "stream",
     "text": [
      "Train Epoch: 12 [3125/4025 (99%)]\tLoss: 0.945\tTraining Accuracy: 64.559%: 100%|██████| 126/126 [00:55<00:00,  2.26it/s]\n"
     ]
    },
    {
     "name": "stdout",
     "output_type": "stream",
     "text": [
      "Train Epoch: 12\tAverage Loss: 0.853\tAverage Accuracy: 65.938%\n",
      "Val set -> Average loss: 0.8446, Accuracy: 657/1007 (65.243%)\n"
     ]
    },
    {
     "name": "stderr",
     "output_type": "stream",
     "text": [
      "Train Epoch: 13 [3125/4025 (99%)]\tLoss: 0.738\tTraining Accuracy: 65.699%: 100%|██████| 126/126 [00:56<00:00,  2.24it/s]\n"
     ]
    },
    {
     "name": "stdout",
     "output_type": "stream",
     "text": [
      "Train Epoch: 13\tAverage Loss: 0.813\tAverage Accuracy: 65.547%\n",
      "Val set -> Average loss: 0.8585, Accuracy: 641/1007 (63.654%)\n"
     ]
    },
    {
     "name": "stderr",
     "output_type": "stream",
     "text": [
      "Train Epoch: 14 [3125/4025 (99%)]\tLoss: 0.874\tTraining Accuracy: 65.451%: 100%|██████| 126/126 [00:55<00:00,  2.25it/s]\n"
     ]
    },
    {
     "name": "stdout",
     "output_type": "stream",
     "text": [
      "Train Epoch: 14\tAverage Loss: 0.817\tAverage Accuracy: 65.254%\n",
      "Val set -> Average loss: 0.8353, Accuracy: 660/1007 (65.541%)\n"
     ]
    },
    {
     "name": "stderr",
     "output_type": "stream",
     "text": [
      "Train Epoch: 15 [3125/4025 (99%)]\tLoss: 0.879\tTraining Accuracy: 67.336%: 100%|██████| 126/126 [00:56<00:00,  2.24it/s]\n"
     ]
    },
    {
     "name": "stdout",
     "output_type": "stream",
     "text": [
      "Train Epoch: 15\tAverage Loss: 0.805\tAverage Accuracy: 67.873%\n",
      "Val set -> Average loss: 0.7958, Accuracy: 657/1007 (65.243%)\n"
     ]
    },
    {
     "name": "stderr",
     "output_type": "stream",
     "text": [
      "Train Epoch: 16 [3125/4025 (99%)]\tLoss: 1.231\tTraining Accuracy: 67.758%: 100%|██████| 126/126 [00:55<00:00,  2.26it/s]\n"
     ]
    },
    {
     "name": "stdout",
     "output_type": "stream",
     "text": [
      "Train Epoch: 16\tAverage Loss: 0.785\tAverage Accuracy: 67.727%\n",
      "Val set -> Average loss: 0.7882, Accuracy: 673/1007 (66.832%)\n"
     ]
    },
    {
     "name": "stderr",
     "output_type": "stream",
     "text": [
      "Train Epoch: 17 [3125/4025 (99%)]\tLoss: 0.794\tTraining Accuracy: 68.229%: 100%|██████| 126/126 [00:55<00:00,  2.26it/s]\n"
     ]
    },
    {
     "name": "stdout",
     "output_type": "stream",
     "text": [
      "Train Epoch: 17\tAverage Loss: 0.768\tAverage Accuracy: 68.592%\n",
      "Val set -> Average loss: 0.8101, Accuracy: 673/1007 (66.832%)\n"
     ]
    },
    {
     "name": "stderr",
     "output_type": "stream",
     "text": [
      "Train Epoch: 18 [3125/4025 (99%)]\tLoss: 0.893\tTraining Accuracy: 68.552%: 100%|██████| 126/126 [00:56<00:00,  2.25it/s]\n"
     ]
    },
    {
     "name": "stdout",
     "output_type": "stream",
     "text": [
      "Train Epoch: 18\tAverage Loss: 0.765\tAverage Accuracy: 67.927%\n",
      "Val set -> Average loss: 0.7939, Accuracy: 681/1007 (67.627%)\n"
     ]
    },
    {
     "name": "stderr",
     "output_type": "stream",
     "text": [
      "Train Epoch: 19 [3125/4025 (99%)]\tLoss: 0.753\tTraining Accuracy: 68.229%: 100%|██████| 126/126 [00:59<00:00,  2.13it/s]\n"
     ]
    },
    {
     "name": "stdout",
     "output_type": "stream",
     "text": [
      "Train Epoch: 19\tAverage Loss: 0.770\tAverage Accuracy: 68.775%\n",
      "Val set -> Average loss: 0.7949, Accuracy: 674/1007 (66.931%)\n"
     ]
    },
    {
     "name": "stderr",
     "output_type": "stream",
     "text": [
      "Train Epoch: 20 [3125/4025 (99%)]\tLoss: 0.658\tTraining Accuracy: 69.221%: 100%|██████| 126/126 [00:56<00:00,  2.23it/s]\n"
     ]
    },
    {
     "name": "stdout",
     "output_type": "stream",
     "text": [
      "Train Epoch: 20\tAverage Loss: 0.749\tAverage Accuracy: 69.287%\n",
      "Val set -> Average loss: 0.7952, Accuracy: 674/1007 (66.931%)\n"
     ]
    },
    {
     "name": "stderr",
     "output_type": "stream",
     "text": [
      "Train Epoch: 21 [3125/4025 (99%)]\tLoss: 0.864\tTraining Accuracy: 68.452%: 100%|██████| 126/126 [00:56<00:00,  2.25it/s]\n"
     ]
    },
    {
     "name": "stdout",
     "output_type": "stream",
     "text": [
      "Train Epoch: 21\tAverage Loss: 0.754\tAverage Accuracy: 69.743%\n",
      "Val set -> Average loss: 0.7993, Accuracy: 689/1007 (68.421%)\n"
     ]
    },
    {
     "name": "stderr",
     "output_type": "stream",
     "text": [
      "Train Epoch: 22 [3125/4025 (99%)]\tLoss: 1.090\tTraining Accuracy: 69.593%: 100%|██████| 126/126 [00:57<00:00,  2.19it/s]\n"
     ]
    },
    {
     "name": "stdout",
     "output_type": "stream",
     "text": [
      "Train Epoch: 22\tAverage Loss: 0.753\tAverage Accuracy: 68.880%\n",
      "Val set -> Average loss: 0.8273, Accuracy: 673/1007 (66.832%)\n"
     ]
    },
    {
     "name": "stderr",
     "output_type": "stream",
     "text": [
      "Train Epoch: 23 [3125/4025 (99%)]\tLoss: 0.785\tTraining Accuracy: 69.097%: 100%|██████| 126/126 [00:56<00:00,  2.23it/s]\n"
     ]
    },
    {
     "name": "stdout",
     "output_type": "stream",
     "text": [
      "Train Epoch: 23\tAverage Loss: 0.760\tAverage Accuracy: 69.443%\n",
      "Val set -> Average loss: 0.8052, Accuracy: 683/1007 (67.825%)\n"
     ]
    },
    {
     "name": "stderr",
     "output_type": "stream",
     "text": [
      "Train Epoch: 24 [3125/4025 (99%)]\tLoss: 0.612\tTraining Accuracy: 69.320%: 100%|██████| 126/126 [00:56<00:00,  2.23it/s]\n"
     ]
    },
    {
     "name": "stdout",
     "output_type": "stream",
     "text": [
      "Train Epoch: 24\tAverage Loss: 0.749\tAverage Accuracy: 69.059%\n",
      "Val set -> Average loss: 0.8258, Accuracy: 677/1007 (67.229%)\n"
     ]
    },
    {
     "name": "stderr",
     "output_type": "stream",
     "text": [
      "Train Epoch: 25 [3125/4025 (99%)]\tLoss: 1.087\tTraining Accuracy: 68.676%: 100%|██████| 126/126 [00:55<00:00,  2.25it/s]\n"
     ]
    },
    {
     "name": "stdout",
     "output_type": "stream",
     "text": [
      "Train Epoch: 25\tAverage Loss: 0.747\tAverage Accuracy: 69.403%\n",
      "Val set -> Average loss: 0.7918, Accuracy: 681/1007 (67.627%)\n"
     ]
    },
    {
     "name": "stderr",
     "output_type": "stream",
     "text": [
      "Train Epoch: 26 [3125/4025 (99%)]\tLoss: 0.767\tTraining Accuracy: 68.973%: 100%|██████| 126/126 [00:57<00:00,  2.19it/s]\n"
     ]
    },
    {
     "name": "stdout",
     "output_type": "stream",
     "text": [
      "Train Epoch: 26\tAverage Loss: 0.744\tAverage Accuracy: 69.938%\n",
      "Val set -> Average loss: 0.8156, Accuracy: 681/1007 (67.627%)\n"
     ]
    },
    {
     "name": "stderr",
     "output_type": "stream",
     "text": [
      "Train Epoch: 27 [3125/4025 (99%)]\tLoss: 0.676\tTraining Accuracy: 69.742%: 100%|██████| 126/126 [00:55<00:00,  2.28it/s]\n"
     ]
    },
    {
     "name": "stdout",
     "output_type": "stream",
     "text": [
      "Train Epoch: 27\tAverage Loss: 0.740\tAverage Accuracy: 69.658%\n",
      "Val set -> Average loss: 0.8237, Accuracy: 675/1007 (67.031%)\n"
     ]
    },
    {
     "name": "stderr",
     "output_type": "stream",
     "text": [
      "Train Epoch: 28 [3125/4025 (99%)]\tLoss: 0.874\tTraining Accuracy: 68.601%: 100%|██████| 126/126 [00:57<00:00,  2.18it/s]\n"
     ]
    },
    {
     "name": "stdout",
     "output_type": "stream",
     "text": [
      "Train Epoch: 28\tAverage Loss: 0.760\tAverage Accuracy: 67.906%\n",
      "Val set -> Average loss: 0.8149, Accuracy: 680/1007 (67.527%)\n"
     ]
    },
    {
     "name": "stderr",
     "output_type": "stream",
     "text": [
      "Train Epoch: 29 [3125/4025 (99%)]\tLoss: 0.666\tTraining Accuracy: 69.395%: 100%|██████| 126/126 [00:56<00:00,  2.23it/s]\n"
     ]
    },
    {
     "name": "stdout",
     "output_type": "stream",
     "text": [
      "Train Epoch: 29\tAverage Loss: 0.756\tAverage Accuracy: 70.044%\n",
      "Val set -> Average loss: 0.8078, Accuracy: 678/1007 (67.329%)\n"
     ]
    },
    {
     "name": "stderr",
     "output_type": "stream",
     "text": [
      "Train Epoch: 30 [3125/4025 (99%)]\tLoss: 0.828\tTraining Accuracy: 69.221%: 100%|██████| 126/126 [00:54<00:00,  2.30it/s]\n"
     ]
    },
    {
     "name": "stdout",
     "output_type": "stream",
     "text": [
      "Train Epoch: 30\tAverage Loss: 0.757\tAverage Accuracy: 69.541%\n",
      "Val set -> Average loss: 0.8268, Accuracy: 668/1007 (66.336%)\n",
      "--------------------------------\n",
      "K_fold: 2\n"
     ]
    },
    {
     "name": "stderr",
     "output_type": "stream",
     "text": [
      "Train Epoch: 1 [3250/4026 (99%)]\tLoss: 1.073\tTraining Accuracy: 50.670%: 100%|███████| 126/126 [00:56<00:00,  2.22it/s]\n"
     ]
    },
    {
     "name": "stdout",
     "output_type": "stream",
     "text": [
      "Train Epoch: 1\tAverage Loss: 1.461\tAverage Accuracy: 49.597%\n",
      "Val set -> Average loss: 1.1208, Accuracy: 417/1006 (41.451%)\n"
     ]
    },
    {
     "name": "stderr",
     "output_type": "stream",
     "text": [
      "Train Epoch: 2 [3250/4026 (99%)]\tLoss: 1.521\tTraining Accuracy: 53.100%: 100%|███████| 126/126 [00:59<00:00,  2.11it/s]\n"
     ]
    },
    {
     "name": "stdout",
     "output_type": "stream",
     "text": [
      "Train Epoch: 2\tAverage Loss: 1.299\tAverage Accuracy: 53.820%\n",
      "Val set -> Average loss: 1.9871, Accuracy: 553/1006 (54.970%)\n"
     ]
    },
    {
     "name": "stderr",
     "output_type": "stream",
     "text": [
      "Train Epoch: 3 [3250/4026 (99%)]\tLoss: 1.008\tTraining Accuracy: 53.299%: 100%|███████| 126/126 [00:56<00:00,  2.24it/s]\n"
     ]
    },
    {
     "name": "stdout",
     "output_type": "stream",
     "text": [
      "Train Epoch: 3\tAverage Loss: 1.122\tAverage Accuracy: 52.394%\n",
      "Val set -> Average loss: 0.9522, Accuracy: 563/1006 (55.964%)\n"
     ]
    },
    {
     "name": "stderr",
     "output_type": "stream",
     "text": [
      "Train Epoch: 4 [3250/4026 (99%)]\tLoss: 0.908\tTraining Accuracy: 54.464%: 100%|███████| 126/126 [00:56<00:00,  2.25it/s]\n"
     ]
    },
    {
     "name": "stdout",
     "output_type": "stream",
     "text": [
      "Train Epoch: 4\tAverage Loss: 1.100\tAverage Accuracy: 54.488%\n",
      "Val set -> Average loss: 1.2820, Accuracy: 581/1006 (57.753%)\n"
     ]
    },
    {
     "name": "stderr",
     "output_type": "stream",
     "text": [
      "Train Epoch: 5 [3250/4026 (99%)]\tLoss: 1.389\tTraining Accuracy: 57.019%: 100%|███████| 126/126 [00:56<00:00,  2.25it/s]\n"
     ]
    },
    {
     "name": "stdout",
     "output_type": "stream",
     "text": [
      "Train Epoch: 5\tAverage Loss: 1.032\tAverage Accuracy: 56.800%\n",
      "Val set -> Average loss: 0.9311, Accuracy: 605/1006 (60.139%)\n"
     ]
    },
    {
     "name": "stderr",
     "output_type": "stream",
     "text": [
      "Train Epoch: 6 [3250/4026 (99%)]\tLoss: 1.065\tTraining Accuracy: 57.168%: 100%|███████| 126/126 [00:56<00:00,  2.25it/s]\n"
     ]
    },
    {
     "name": "stdout",
     "output_type": "stream",
     "text": [
      "Train Epoch: 6\tAverage Loss: 1.030\tAverage Accuracy: 57.044%\n",
      "Val set -> Average loss: 0.9656, Accuracy: 608/1006 (60.437%)\n"
     ]
    },
    {
     "name": "stderr",
     "output_type": "stream",
     "text": [
      "Train Epoch: 7 [3250/4026 (99%)]\tLoss: 1.071\tTraining Accuracy: 59.549%: 100%|███████| 126/126 [00:57<00:00,  2.21it/s]\n"
     ]
    },
    {
     "name": "stdout",
     "output_type": "stream",
     "text": [
      "Train Epoch: 7\tAverage Loss: 0.989\tAverage Accuracy: 59.826%\n",
      "Val set -> Average loss: 0.9127, Accuracy: 623/1006 (61.928%)\n"
     ]
    },
    {
     "name": "stderr",
     "output_type": "stream",
     "text": [
      "Train Epoch: 8 [3250/4026 (99%)]\tLoss: 0.775\tTraining Accuracy: 61.409%: 100%|███████| 126/126 [00:56<00:00,  2.23it/s]\n"
     ]
    },
    {
     "name": "stdout",
     "output_type": "stream",
     "text": [
      "Train Epoch: 8\tAverage Loss: 0.943\tAverage Accuracy: 60.550%\n",
      "Val set -> Average loss: 1.0483, Accuracy: 644/1006 (64.016%)\n"
     ]
    },
    {
     "name": "stderr",
     "output_type": "stream",
     "text": [
      "Train Epoch: 9 [3250/4026 (99%)]\tLoss: 0.706\tTraining Accuracy: 61.136%: 100%|███████| 126/126 [00:58<00:00,  2.17it/s]\n"
     ]
    },
    {
     "name": "stdout",
     "output_type": "stream",
     "text": [
      "Train Epoch: 9\tAverage Loss: 0.925\tAverage Accuracy: 61.340%\n",
      "Val set -> Average loss: 1.0319, Accuracy: 590/1006 (58.648%)\n"
     ]
    },
    {
     "name": "stderr",
     "output_type": "stream",
     "text": [
      "Train Epoch: 10 [3250/4026 (99%)]\tLoss: 0.902\tTraining Accuracy: 58.532%: 100%|██████| 126/126 [00:58<00:00,  2.16it/s]\n"
     ]
    },
    {
     "name": "stdout",
     "output_type": "stream",
     "text": [
      "Train Epoch: 10\tAverage Loss: 0.989\tAverage Accuracy: 60.146%\n",
      "Val set -> Average loss: 1.2069, Accuracy: 575/1006 (57.157%)\n"
     ]
    },
    {
     "name": "stderr",
     "output_type": "stream",
     "text": [
      "Train Epoch: 11 [3250/4026 (99%)]\tLoss: 0.669\tTraining Accuracy: 61.210%: 100%|██████| 126/126 [00:56<00:00,  2.23it/s]\n"
     ]
    },
    {
     "name": "stdout",
     "output_type": "stream",
     "text": [
      "Train Epoch: 11\tAverage Loss: 0.916\tAverage Accuracy: 60.090%\n",
      "Val set -> Average loss: 0.8801, Accuracy: 626/1006 (62.227%)\n"
     ]
    },
    {
     "name": "stderr",
     "output_type": "stream",
     "text": [
      "Train Epoch: 12 [3250/4026 (99%)]\tLoss: 0.885\tTraining Accuracy: 61.830%: 100%|██████| 126/126 [00:56<00:00,  2.23it/s]\n"
     ]
    },
    {
     "name": "stdout",
     "output_type": "stream",
     "text": [
      "Train Epoch: 12\tAverage Loss: 0.908\tAverage Accuracy: 62.352%\n",
      "Val set -> Average loss: 0.9536, Accuracy: 632/1006 (62.823%)\n"
     ]
    },
    {
     "name": "stderr",
     "output_type": "stream",
     "text": [
      "Train Epoch: 13 [3250/4026 (99%)]\tLoss: 1.116\tTraining Accuracy: 62.004%: 100%|██████| 126/126 [00:56<00:00,  2.23it/s]\n"
     ]
    },
    {
     "name": "stdout",
     "output_type": "stream",
     "text": [
      "Train Epoch: 13\tAverage Loss: 0.885\tAverage Accuracy: 61.252%\n",
      "Val set -> Average loss: 0.8676, Accuracy: 647/1006 (64.314%)\n"
     ]
    },
    {
     "name": "stderr",
     "output_type": "stream",
     "text": [
      "Train Epoch: 14 [3250/4026 (99%)]\tLoss: 0.972\tTraining Accuracy: 63.368%: 100%|██████| 126/126 [00:56<00:00,  2.24it/s]\n"
     ]
    },
    {
     "name": "stdout",
     "output_type": "stream",
     "text": [
      "Train Epoch: 14\tAverage Loss: 0.874\tAverage Accuracy: 63.215%\n",
      "Val set -> Average loss: 0.8766, Accuracy: 644/1006 (64.016%)\n"
     ]
    },
    {
     "name": "stderr",
     "output_type": "stream",
     "text": [
      "Train Epoch: 15 [3250/4026 (99%)]\tLoss: 1.094\tTraining Accuracy: 64.534%: 100%|██████| 126/126 [00:56<00:00,  2.25it/s]\n"
     ]
    },
    {
     "name": "stdout",
     "output_type": "stream",
     "text": [
      "Train Epoch: 15\tAverage Loss: 0.857\tAverage Accuracy: 65.383%\n",
      "Val set -> Average loss: 0.8568, Accuracy: 653/1006 (64.911%)\n"
     ]
    },
    {
     "name": "stderr",
     "output_type": "stream",
     "text": [
      "Train Epoch: 16 [3250/4026 (99%)]\tLoss: 0.888\tTraining Accuracy: 64.236%: 100%|██████| 126/126 [01:03<00:00,  1.99it/s]\n"
     ]
    },
    {
     "name": "stdout",
     "output_type": "stream",
     "text": [
      "Train Epoch: 16\tAverage Loss: 0.855\tAverage Accuracy: 65.567%\n",
      "Val set -> Average loss: 0.9304, Accuracy: 663/1006 (65.905%)\n"
     ]
    },
    {
     "name": "stderr",
     "output_type": "stream",
     "text": [
      "Train Epoch: 17 [3250/4026 (99%)]\tLoss: 0.552\tTraining Accuracy: 65.228%: 100%|██████| 126/126 [01:01<00:00,  2.04it/s]\n"
     ]
    },
    {
     "name": "stdout",
     "output_type": "stream",
     "text": [
      "Train Epoch: 17\tAverage Loss: 0.825\tAverage Accuracy: 64.615%\n",
      "Val set -> Average loss: 0.8303, Accuracy: 647/1006 (64.314%)\n"
     ]
    },
    {
     "name": "stderr",
     "output_type": "stream",
     "text": [
      "Train Epoch: 18 [3250/4026 (99%)]\tLoss: 0.775\tTraining Accuracy: 66.121%: 100%|██████| 126/126 [01:02<00:00,  2.02it/s]\n"
     ]
    },
    {
     "name": "stdout",
     "output_type": "stream",
     "text": [
      "Train Epoch: 18\tAverage Loss: 0.825\tAverage Accuracy: 66.890%\n",
      "Val set -> Average loss: 0.8843, Accuracy: 671/1006 (66.700%)\n"
     ]
    },
    {
     "name": "stderr",
     "output_type": "stream",
     "text": [
      "Train Epoch: 19 [3250/4026 (99%)]\tLoss: 0.958\tTraining Accuracy: 66.791%: 100%|██████| 126/126 [01:02<00:00,  2.02it/s]\n"
     ]
    },
    {
     "name": "stdout",
     "output_type": "stream",
     "text": [
      "Train Epoch: 19\tAverage Loss: 0.795\tAverage Accuracy: 67.511%\n",
      "Val set -> Average loss: 0.8291, Accuracy: 661/1006 (65.706%)\n"
     ]
    },
    {
     "name": "stderr",
     "output_type": "stream",
     "text": [
      "Train Epoch: 20 [3250/4026 (99%)]\tLoss: 0.724\tTraining Accuracy: 66.493%: 100%|██████| 126/126 [01:01<00:00,  2.04it/s]\n"
     ]
    },
    {
     "name": "stdout",
     "output_type": "stream",
     "text": [
      "Train Epoch: 20\tAverage Loss: 0.802\tAverage Accuracy: 66.842%\n",
      "Val set -> Average loss: 0.8307, Accuracy: 654/1006 (65.010%)\n"
     ]
    },
    {
     "name": "stderr",
     "output_type": "stream",
     "text": [
      "Train Epoch: 21 [3250/4026 (99%)]\tLoss: 0.504\tTraining Accuracy: 68.378%: 100%|██████| 126/126 [01:00<00:00,  2.08it/s]\n"
     ]
    },
    {
     "name": "stdout",
     "output_type": "stream",
     "text": [
      "Train Epoch: 21\tAverage Loss: 0.767\tAverage Accuracy: 68.582%\n",
      "Val set -> Average loss: 0.8208, Accuracy: 667/1006 (66.302%)\n"
     ]
    },
    {
     "name": "stderr",
     "output_type": "stream",
     "text": [
      "Train Epoch: 22 [3250/4026 (99%)]\tLoss: 0.825\tTraining Accuracy: 69.320%: 100%|██████| 126/126 [00:57<00:00,  2.19it/s]\n"
     ]
    },
    {
     "name": "stdout",
     "output_type": "stream",
     "text": [
      "Train Epoch: 22\tAverage Loss: 0.764\tAverage Accuracy: 69.120%\n",
      "Val set -> Average loss: 0.8621, Accuracy: 672/1006 (66.799%)\n"
     ]
    },
    {
     "name": "stderr",
     "output_type": "stream",
     "text": [
      "Train Epoch: 23 [3250/4026 (99%)]\tLoss: 0.612\tTraining Accuracy: 68.874%: 100%|██████| 126/126 [00:57<00:00,  2.19it/s]\n"
     ]
    },
    {
     "name": "stdout",
     "output_type": "stream",
     "text": [
      "Train Epoch: 23\tAverage Loss: 0.752\tAverage Accuracy: 68.834%\n",
      "Val set -> Average loss: 0.8103, Accuracy: 686/1006 (68.191%)\n"
     ]
    },
    {
     "name": "stderr",
     "output_type": "stream",
     "text": [
      "Train Epoch: 24 [3250/4026 (99%)]\tLoss: 0.696\tTraining Accuracy: 70.139%: 100%|██████| 126/126 [00:55<00:00,  2.27it/s]\n"
     ]
    },
    {
     "name": "stdout",
     "output_type": "stream",
     "text": [
      "Train Epoch: 24\tAverage Loss: 0.743\tAverage Accuracy: 71.446%\n",
      "Val set -> Average loss: 0.8446, Accuracy: 665/1006 (66.103%)\n"
     ]
    },
    {
     "name": "stderr",
     "output_type": "stream",
     "text": [
      "Train Epoch: 25 [3250/4026 (99%)]\tLoss: 0.788\tTraining Accuracy: 70.536%: 100%|██████| 126/126 [00:56<00:00,  2.22it/s]\n"
     ]
    },
    {
     "name": "stdout",
     "output_type": "stream",
     "text": [
      "Train Epoch: 25\tAverage Loss: 0.738\tAverage Accuracy: 71.889%\n",
      "Val set -> Average loss: 0.8095, Accuracy: 667/1006 (66.302%)\n"
     ]
    },
    {
     "name": "stderr",
     "output_type": "stream",
     "text": [
      "Train Epoch: 26 [3250/4026 (99%)]\tLoss: 0.556\tTraining Accuracy: 71.577%: 100%|██████| 126/126 [00:56<00:00,  2.21it/s]\n"
     ]
    },
    {
     "name": "stdout",
     "output_type": "stream",
     "text": [
      "Train Epoch: 26\tAverage Loss: 0.708\tAverage Accuracy: 71.614%\n",
      "Val set -> Average loss: 0.8153, Accuracy: 676/1006 (67.197%)\n"
     ]
    },
    {
     "name": "stderr",
     "output_type": "stream",
     "text": [
      "Train Epoch: 27 [3250/4026 (99%)]\tLoss: 0.551\tTraining Accuracy: 72.545%: 100%|██████| 126/126 [00:59<00:00,  2.12it/s]\n"
     ]
    },
    {
     "name": "stdout",
     "output_type": "stream",
     "text": [
      "Train Epoch: 27\tAverage Loss: 0.695\tAverage Accuracy: 71.922%\n",
      "Val set -> Average loss: 0.7834, Accuracy: 670/1006 (66.600%)\n"
     ]
    },
    {
     "name": "stderr",
     "output_type": "stream",
     "text": [
      "Train Epoch: 28 [3250/4026 (99%)]\tLoss: 0.616\tTraining Accuracy: 72.024%: 100%|██████| 126/126 [00:58<00:00,  2.17it/s]\n"
     ]
    },
    {
     "name": "stdout",
     "output_type": "stream",
     "text": [
      "Train Epoch: 28\tAverage Loss: 0.692\tAverage Accuracy: 72.498%\n",
      "Val set -> Average loss: 0.8382, Accuracy: 671/1006 (66.700%)\n"
     ]
    },
    {
     "name": "stderr",
     "output_type": "stream",
     "text": [
      "Train Epoch: 29 [3250/4026 (99%)]\tLoss: 0.607\tTraining Accuracy: 74.578%: 100%|██████| 126/126 [00:58<00:00,  2.16it/s]\n"
     ]
    },
    {
     "name": "stdout",
     "output_type": "stream",
     "text": [
      "Train Epoch: 29\tAverage Loss: 0.656\tAverage Accuracy: 73.891%\n",
      "Val set -> Average loss: 0.7975, Accuracy: 669/1006 (66.501%)\n"
     ]
    },
    {
     "name": "stderr",
     "output_type": "stream",
     "text": [
      "Train Epoch: 30 [3250/4026 (99%)]\tLoss: 0.828\tTraining Accuracy: 74.380%: 100%|██████| 126/126 [00:57<00:00,  2.20it/s]\n"
     ]
    },
    {
     "name": "stdout",
     "output_type": "stream",
     "text": [
      "Train Epoch: 30\tAverage Loss: 0.658\tAverage Accuracy: 76.143%\n",
      "Val set -> Average loss: 0.8558, Accuracy: 683/1006 (67.893%)\n",
      "--------------------------------\n",
      "K_fold: 3\n"
     ]
    },
    {
     "name": "stderr",
     "output_type": "stream",
     "text": [
      "Train Epoch: 1 [3250/4026 (99%)]\tLoss: 2.153\tTraining Accuracy: 53.100%: 100%|███████| 126/126 [00:57<00:00,  2.21it/s]\n"
     ]
    },
    {
     "name": "stdout",
     "output_type": "stream",
     "text": [
      "Train Epoch: 1\tAverage Loss: 1.398\tAverage Accuracy: 52.005%\n",
      "Val set -> Average loss: 1.7377, Accuracy: 536/1006 (53.280%)\n"
     ]
    },
    {
     "name": "stderr",
     "output_type": "stream",
     "text": [
      "Train Epoch: 2 [3250/4026 (99%)]\tLoss: 0.984\tTraining Accuracy: 55.159%: 100%|███████| 126/126 [00:57<00:00,  2.21it/s]\n"
     ]
    },
    {
     "name": "stdout",
     "output_type": "stream",
     "text": [
      "Train Epoch: 2\tAverage Loss: 1.182\tAverage Accuracy: 54.543%\n",
      "Val set -> Average loss: 1.2568, Accuracy: 577/1006 (57.356%)\n"
     ]
    },
    {
     "name": "stderr",
     "output_type": "stream",
     "text": [
      "Train Epoch: 3 [3250/4026 (99%)]\tLoss: 1.002\tTraining Accuracy: 58.110%: 100%|███████| 126/126 [00:55<00:00,  2.27it/s]\n"
     ]
    },
    {
     "name": "stdout",
     "output_type": "stream",
     "text": [
      "Train Epoch: 3\tAverage Loss: 1.054\tAverage Accuracy: 57.894%\n",
      "Val set -> Average loss: 1.0761, Accuracy: 590/1006 (58.648%)\n"
     ]
    },
    {
     "name": "stderr",
     "output_type": "stream",
     "text": [
      "Train Epoch: 4 [3250/4026 (99%)]\tLoss: 0.669\tTraining Accuracy: 59.276%: 100%|███████| 126/126 [00:57<00:00,  2.20it/s]\n"
     ]
    },
    {
     "name": "stdout",
     "output_type": "stream",
     "text": [
      "Train Epoch: 4\tAverage Loss: 1.036\tAverage Accuracy: 59.526%\n",
      "Val set -> Average loss: 0.9261, Accuracy: 602/1006 (59.841%)\n"
     ]
    },
    {
     "name": "stderr",
     "output_type": "stream",
     "text": [
      "Train Epoch: 5 [3250/4026 (99%)]\tLoss: 1.152\tTraining Accuracy: 60.367%: 100%|███████| 126/126 [00:54<00:00,  2.29it/s]\n"
     ]
    },
    {
     "name": "stdout",
     "output_type": "stream",
     "text": [
      "Train Epoch: 5\tAverage Loss: 1.005\tAverage Accuracy: 60.128%\n",
      "Val set -> Average loss: 1.3721, Accuracy: 598/1006 (59.443%)\n"
     ]
    },
    {
     "name": "stderr",
     "output_type": "stream",
     "text": [
      "Train Epoch: 6 [3250/4026 (99%)]\tLoss: 1.239\tTraining Accuracy: 61.508%: 100%|███████| 126/126 [00:55<00:00,  2.27it/s]\n"
     ]
    },
    {
     "name": "stdout",
     "output_type": "stream",
     "text": [
      "Train Epoch: 6\tAverage Loss: 0.951\tAverage Accuracy: 61.451%\n",
      "Val set -> Average loss: 1.0872, Accuracy: 608/1006 (60.437%)\n"
     ]
    },
    {
     "name": "stderr",
     "output_type": "stream",
     "text": [
      "Train Epoch: 7 [3250/4026 (99%)]\tLoss: 0.810\tTraining Accuracy: 62.252%: 100%|███████| 126/126 [00:56<00:00,  2.23it/s]\n"
     ]
    },
    {
     "name": "stdout",
     "output_type": "stream",
     "text": [
      "Train Epoch: 7\tAverage Loss: 0.964\tAverage Accuracy: 62.967%\n",
      "Val set -> Average loss: 1.0840, Accuracy: 617/1006 (61.332%)\n"
     ]
    },
    {
     "name": "stderr",
     "output_type": "stream",
     "text": [
      "Train Epoch: 8 [3250/4026 (99%)]\tLoss: 0.847\tTraining Accuracy: 63.566%: 100%|███████| 126/126 [00:57<00:00,  2.18it/s]\n"
     ]
    },
    {
     "name": "stdout",
     "output_type": "stream",
     "text": [
      "Train Epoch: 8\tAverage Loss: 0.897\tAverage Accuracy: 63.074%\n",
      "Val set -> Average loss: 1.1585, Accuracy: 634/1006 (63.022%)\n"
     ]
    },
    {
     "name": "stderr",
     "output_type": "stream",
     "text": [
      "Train Epoch: 9 [3250/4026 (99%)]\tLoss: 0.987\tTraining Accuracy: 64.931%: 100%|███████| 126/126 [00:57<00:00,  2.19it/s]\n"
     ]
    },
    {
     "name": "stdout",
     "output_type": "stream",
     "text": [
      "Train Epoch: 9\tAverage Loss: 0.866\tAverage Accuracy: 64.774%\n",
      "Val set -> Average loss: 0.8711, Accuracy: 654/1006 (65.010%)\n"
     ]
    },
    {
     "name": "stderr",
     "output_type": "stream",
     "text": [
      "Train Epoch: 10 [3250/4026 (99%)]\tLoss: 0.929\tTraining Accuracy: 65.575%: 100%|██████| 126/126 [00:57<00:00,  2.20it/s]\n"
     ]
    },
    {
     "name": "stdout",
     "output_type": "stream",
     "text": [
      "Train Epoch: 10\tAverage Loss: 0.844\tAverage Accuracy: 64.454%\n",
      "Val set -> Average loss: 0.8116, Accuracy: 666/1006 (66.203%)\n"
     ]
    },
    {
     "name": "stderr",
     "output_type": "stream",
     "text": [
      "Train Epoch: 11 [3250/4026 (99%)]\tLoss: 0.961\tTraining Accuracy: 66.022%: 100%|██████| 126/126 [00:57<00:00,  2.18it/s]\n"
     ]
    },
    {
     "name": "stdout",
     "output_type": "stream",
     "text": [
      "Train Epoch: 11\tAverage Loss: 0.825\tAverage Accuracy: 67.556%\n",
      "Val set -> Average loss: 0.8390, Accuracy: 663/1006 (65.905%)\n"
     ]
    },
    {
     "name": "stderr",
     "output_type": "stream",
     "text": [
      "Train Epoch: 12 [3250/4026 (99%)]\tLoss: 0.702\tTraining Accuracy: 67.039%: 100%|██████| 126/126 [00:58<00:00,  2.16it/s]\n"
     ]
    },
    {
     "name": "stdout",
     "output_type": "stream",
     "text": [
      "Train Epoch: 12\tAverage Loss: 0.815\tAverage Accuracy: 66.971%\n",
      "Val set -> Average loss: 0.9131, Accuracy: 655/1006 (65.109%)\n"
     ]
    },
    {
     "name": "stderr",
     "output_type": "stream",
     "text": [
      "Train Epoch: 13 [3250/4026 (99%)]\tLoss: 0.760\tTraining Accuracy: 67.163%: 100%|██████| 126/126 [01:04<00:00,  1.95it/s]\n"
     ]
    },
    {
     "name": "stdout",
     "output_type": "stream",
     "text": [
      "Train Epoch: 13\tAverage Loss: 0.795\tAverage Accuracy: 65.927%\n",
      "Val set -> Average loss: 0.9141, Accuracy: 670/1006 (66.600%)\n"
     ]
    },
    {
     "name": "stderr",
     "output_type": "stream",
     "text": [
      "Train Epoch: 14 [3250/4026 (99%)]\tLoss: 0.708\tTraining Accuracy: 69.246%: 100%|██████| 126/126 [00:57<00:00,  2.18it/s]\n"
     ]
    },
    {
     "name": "stdout",
     "output_type": "stream",
     "text": [
      "Train Epoch: 14\tAverage Loss: 0.764\tAverage Accuracy: 69.451%\n",
      "Val set -> Average loss: 0.8319, Accuracy: 675/1006 (67.097%)\n"
     ]
    },
    {
     "name": "stderr",
     "output_type": "stream",
     "text": [
      "Train Epoch: 15 [3250/4026 (99%)]\tLoss: 0.779\tTraining Accuracy: 69.767%: 100%|██████| 126/126 [00:56<00:00,  2.21it/s]\n"
     ]
    },
    {
     "name": "stdout",
     "output_type": "stream",
     "text": [
      "Train Epoch: 15\tAverage Loss: 0.742\tAverage Accuracy: 71.143%\n",
      "Val set -> Average loss: 0.7827, Accuracy: 679/1006 (67.495%)\n"
     ]
    },
    {
     "name": "stderr",
     "output_type": "stream",
     "text": [
      "Train Epoch: 16 [3250/4026 (99%)]\tLoss: 0.908\tTraining Accuracy: 69.395%: 100%|██████| 126/126 [00:59<00:00,  2.13it/s]\n"
     ]
    },
    {
     "name": "stdout",
     "output_type": "stream",
     "text": [
      "Train Epoch: 16\tAverage Loss: 0.764\tAverage Accuracy: 68.751%\n",
      "Val set -> Average loss: 0.7756, Accuracy: 672/1006 (66.799%)\n"
     ]
    },
    {
     "name": "stderr",
     "output_type": "stream",
     "text": [
      "Train Epoch: 17 [3250/4026 (99%)]\tLoss: 0.734\tTraining Accuracy: 69.271%: 100%|██████| 126/126 [00:56<00:00,  2.24it/s]\n"
     ]
    },
    {
     "name": "stdout",
     "output_type": "stream",
     "text": [
      "Train Epoch: 17\tAverage Loss: 0.767\tAverage Accuracy: 67.596%\n",
      "Val set -> Average loss: 0.7628, Accuracy: 682/1006 (67.793%)\n"
     ]
    },
    {
     "name": "stderr",
     "output_type": "stream",
     "text": [
      "Train Epoch: 18 [3250/4026 (99%)]\tLoss: 0.905\tTraining Accuracy: 69.568%: 100%|██████| 126/126 [00:55<00:00,  2.28it/s]\n"
     ]
    },
    {
     "name": "stdout",
     "output_type": "stream",
     "text": [
      "Train Epoch: 18\tAverage Loss: 0.760\tAverage Accuracy: 70.839%\n",
      "Val set -> Average loss: 0.8057, Accuracy: 676/1006 (67.197%)\n"
     ]
    },
    {
     "name": "stderr",
     "output_type": "stream",
     "text": [
      "Train Epoch: 19 [3250/4026 (99%)]\tLoss: 0.679\tTraining Accuracy: 69.469%: 100%|██████| 126/126 [00:56<00:00,  2.23it/s]\n"
     ]
    },
    {
     "name": "stdout",
     "output_type": "stream",
     "text": [
      "Train Epoch: 19\tAverage Loss: 0.751\tAverage Accuracy: 69.579%\n",
      "Val set -> Average loss: 0.8142, Accuracy: 681/1006 (67.694%)\n"
     ]
    },
    {
     "name": "stderr",
     "output_type": "stream",
     "text": [
      "Train Epoch: 20 [3250/4026 (99%)]\tLoss: 0.930\tTraining Accuracy: 70.114%: 100%|██████| 126/126 [00:54<00:00,  2.31it/s]\n"
     ]
    },
    {
     "name": "stdout",
     "output_type": "stream",
     "text": [
      "Train Epoch: 20\tAverage Loss: 0.745\tAverage Accuracy: 71.255%\n",
      "Val set -> Average loss: 0.8299, Accuracy: 672/1006 (66.799%)\n"
     ]
    },
    {
     "name": "stderr",
     "output_type": "stream",
     "text": [
      "Train Epoch: 21 [3250/4026 (99%)]\tLoss: 0.860\tTraining Accuracy: 69.990%: 100%|██████| 126/126 [00:54<00:00,  2.31it/s]\n"
     ]
    },
    {
     "name": "stdout",
     "output_type": "stream",
     "text": [
      "Train Epoch: 21\tAverage Loss: 0.742\tAverage Accuracy: 70.024%\n",
      "Val set -> Average loss: 0.8013, Accuracy: 680/1006 (67.594%)\n"
     ]
    },
    {
     "name": "stderr",
     "output_type": "stream",
     "text": [
      "Train Epoch: 22 [3250/4026 (99%)]\tLoss: 0.598\tTraining Accuracy: 69.940%: 100%|██████| 126/126 [00:54<00:00,  2.31it/s]\n"
     ]
    },
    {
     "name": "stdout",
     "output_type": "stream",
     "text": [
      "Train Epoch: 22\tAverage Loss: 0.754\tAverage Accuracy: 68.473%\n",
      "Val set -> Average loss: 0.8224, Accuracy: 682/1006 (67.793%)\n"
     ]
    },
    {
     "name": "stderr",
     "output_type": "stream",
     "text": [
      "Train Epoch: 23 [3250/4026 (99%)]\tLoss: 0.699\tTraining Accuracy: 70.982%: 100%|██████| 126/126 [00:54<00:00,  2.31it/s]\n"
     ]
    },
    {
     "name": "stdout",
     "output_type": "stream",
     "text": [
      "Train Epoch: 23\tAverage Loss: 0.730\tAverage Accuracy: 70.257%\n",
      "Val set -> Average loss: 0.7788, Accuracy: 673/1006 (66.899%)\n"
     ]
    },
    {
     "name": "stderr",
     "output_type": "stream",
     "text": [
      "Train Epoch: 24 [3250/4026 (99%)]\tLoss: 0.716\tTraining Accuracy: 70.337%: 100%|██████| 126/126 [00:54<00:00,  2.32it/s]\n"
     ]
    },
    {
     "name": "stdout",
     "output_type": "stream",
     "text": [
      "Train Epoch: 24\tAverage Loss: 0.735\tAverage Accuracy: 69.469%\n",
      "Val set -> Average loss: 0.8466, Accuracy: 673/1006 (66.899%)\n"
     ]
    },
    {
     "name": "stderr",
     "output_type": "stream",
     "text": [
      "Train Epoch: 25 [3250/4026 (99%)]\tLoss: 0.781\tTraining Accuracy: 70.709%: 100%|██████| 126/126 [00:54<00:00,  2.32it/s]\n"
     ]
    },
    {
     "name": "stdout",
     "output_type": "stream",
     "text": [
      "Train Epoch: 25\tAverage Loss: 0.743\tAverage Accuracy: 71.309%\n",
      "Val set -> Average loss: 0.8228, Accuracy: 681/1006 (67.694%)\n"
     ]
    },
    {
     "name": "stderr",
     "output_type": "stream",
     "text": [
      "Train Epoch: 26 [3250/4026 (99%)]\tLoss: 0.738\tTraining Accuracy: 70.908%: 100%|██████| 126/126 [00:57<00:00,  2.20it/s]\n"
     ]
    },
    {
     "name": "stdout",
     "output_type": "stream",
     "text": [
      "Train Epoch: 26\tAverage Loss: 0.732\tAverage Accuracy: 71.610%\n",
      "Val set -> Average loss: 0.8697, Accuracy: 677/1006 (67.296%)\n"
     ]
    },
    {
     "name": "stderr",
     "output_type": "stream",
     "text": [
      "Train Epoch: 27 [3250/4026 (99%)]\tLoss: 0.739\tTraining Accuracy: 70.040%: 100%|██████| 126/126 [00:57<00:00,  2.20it/s]\n"
     ]
    },
    {
     "name": "stdout",
     "output_type": "stream",
     "text": [
      "Train Epoch: 27\tAverage Loss: 0.736\tAverage Accuracy: 70.108%\n",
      "Val set -> Average loss: 0.7830, Accuracy: 695/1006 (69.085%)\n"
     ]
    },
    {
     "name": "stderr",
     "output_type": "stream",
     "text": [
      "Train Epoch: 28 [3250/4026 (99%)]\tLoss: 0.578\tTraining Accuracy: 70.064%: 100%|██████| 126/126 [00:57<00:00,  2.18it/s]\n"
     ]
    },
    {
     "name": "stdout",
     "output_type": "stream",
     "text": [
      "Train Epoch: 28\tAverage Loss: 0.738\tAverage Accuracy: 71.418%\n",
      "Val set -> Average loss: 0.7901, Accuracy: 679/1006 (67.495%)\n"
     ]
    },
    {
     "name": "stderr",
     "output_type": "stream",
     "text": [
      "Train Epoch: 29 [3250/4026 (99%)]\tLoss: 1.140\tTraining Accuracy: 71.503%: 100%|██████| 126/126 [00:57<00:00,  2.19it/s]\n"
     ]
    },
    {
     "name": "stdout",
     "output_type": "stream",
     "text": [
      "Train Epoch: 29\tAverage Loss: 0.749\tAverage Accuracy: 71.034%\n",
      "Val set -> Average loss: 0.7912, Accuracy: 677/1006 (67.296%)\n"
     ]
    },
    {
     "name": "stderr",
     "output_type": "stream",
     "text": [
      "Train Epoch: 30 [3250/4026 (99%)]\tLoss: 0.911\tTraining Accuracy: 70.263%: 100%|██████| 126/126 [00:57<00:00,  2.21it/s]\n"
     ]
    },
    {
     "name": "stdout",
     "output_type": "stream",
     "text": [
      "Train Epoch: 30\tAverage Loss: 0.735\tAverage Accuracy: 69.564%\n",
      "Val set -> Average loss: 0.7684, Accuracy: 690/1006 (68.588%)\n",
      "--------------------------------\n",
      "K_fold: 4\n"
     ]
    },
    {
     "name": "stderr",
     "output_type": "stream",
     "text": [
      "Train Epoch: 1 [3250/4026 (99%)]\tLoss: 1.328\tTraining Accuracy: 52.927%: 100%|███████| 126/126 [00:57<00:00,  2.19it/s]\n"
     ]
    },
    {
     "name": "stdout",
     "output_type": "stream",
     "text": [
      "Train Epoch: 1\tAverage Loss: 1.439\tAverage Accuracy: 53.705%\n",
      "Val set -> Average loss: 0.9600, Accuracy: 564/1006 (56.064%)\n"
     ]
    },
    {
     "name": "stderr",
     "output_type": "stream",
     "text": [
      "Train Epoch: 2 [3250/4026 (99%)]\tLoss: 1.091\tTraining Accuracy: 51.612%: 100%|███████| 126/126 [00:57<00:00,  2.19it/s]\n"
     ]
    },
    {
     "name": "stdout",
     "output_type": "stream",
     "text": [
      "Train Epoch: 2\tAverage Loss: 1.219\tAverage Accuracy: 51.416%\n",
      "Val set -> Average loss: 1.0800, Accuracy: 574/1006 (57.058%)\n"
     ]
    },
    {
     "name": "stderr",
     "output_type": "stream",
     "text": [
      "Train Epoch: 3 [3250/4026 (99%)]\tLoss: 0.881\tTraining Accuracy: 55.184%: 100%|███████| 126/126 [00:57<00:00,  2.20it/s]\n"
     ]
    },
    {
     "name": "stdout",
     "output_type": "stream",
     "text": [
      "Train Epoch: 3\tAverage Loss: 1.084\tAverage Accuracy: 55.357%\n",
      "Val set -> Average loss: 1.2050, Accuracy: 605/1006 (60.139%)\n"
     ]
    },
    {
     "name": "stderr",
     "output_type": "stream",
     "text": [
      "Train Epoch: 4 [3250/4026 (99%)]\tLoss: 0.962\tTraining Accuracy: 55.779%: 100%|███████| 126/126 [00:57<00:00,  2.20it/s]\n"
     ]
    },
    {
     "name": "stdout",
     "output_type": "stream",
     "text": [
      "Train Epoch: 4\tAverage Loss: 1.059\tAverage Accuracy: 58.116%\n",
      "Val set -> Average loss: 0.9191, Accuracy: 607/1006 (60.338%)\n"
     ]
    },
    {
     "name": "stderr",
     "output_type": "stream",
     "text": [
      "Train Epoch: 5 [3250/4026 (99%)]\tLoss: 1.313\tTraining Accuracy: 55.977%: 100%|███████| 126/126 [00:57<00:00,  2.20it/s]\n"
     ]
    },
    {
     "name": "stdout",
     "output_type": "stream",
     "text": [
      "Train Epoch: 5\tAverage Loss: 1.050\tAverage Accuracy: 57.288%\n",
      "Val set -> Average loss: 1.1085, Accuracy: 564/1006 (56.064%)\n"
     ]
    },
    {
     "name": "stderr",
     "output_type": "stream",
     "text": [
      "Train Epoch: 6 [3250/4026 (99%)]\tLoss: 0.840\tTraining Accuracy: 56.796%: 100%|███████| 126/126 [00:57<00:00,  2.21it/s]\n"
     ]
    },
    {
     "name": "stdout",
     "output_type": "stream",
     "text": [
      "Train Epoch: 6\tAverage Loss: 0.997\tAverage Accuracy: 57.011%\n",
      "Val set -> Average loss: 0.9167, Accuracy: 603/1006 (59.940%)\n"
     ]
    },
    {
     "name": "stderr",
     "output_type": "stream",
     "text": [
      "Train Epoch: 7 [3250/4026 (99%)]\tLoss: 0.926\tTraining Accuracy: 57.440%: 100%|███████| 126/126 [00:57<00:00,  2.21it/s]\n"
     ]
    },
    {
     "name": "stdout",
     "output_type": "stream",
     "text": [
      "Train Epoch: 7\tAverage Loss: 0.987\tAverage Accuracy: 57.384%\n",
      "Val set -> Average loss: 0.9263, Accuracy: 582/1006 (57.853%)\n"
     ]
    },
    {
     "name": "stderr",
     "output_type": "stream",
     "text": [
      "Train Epoch: 8 [3250/4026 (99%)]\tLoss: 0.792\tTraining Accuracy: 57.540%: 100%|███████| 126/126 [00:57<00:00,  2.20it/s]\n"
     ]
    },
    {
     "name": "stdout",
     "output_type": "stream",
     "text": [
      "Train Epoch: 8\tAverage Loss: 1.018\tAverage Accuracy: 59.044%\n",
      "Val set -> Average loss: 0.9317, Accuracy: 598/1006 (59.443%)\n"
     ]
    },
    {
     "name": "stderr",
     "output_type": "stream",
     "text": [
      "Train Epoch: 9 [3250/4026 (99%)]\tLoss: 0.997\tTraining Accuracy: 58.085%: 100%|███████| 126/126 [00:57<00:00,  2.21it/s]\n"
     ]
    },
    {
     "name": "stdout",
     "output_type": "stream",
     "text": [
      "Train Epoch: 9\tAverage Loss: 0.982\tAverage Accuracy: 58.652%\n",
      "Val set -> Average loss: 1.0253, Accuracy: 477/1006 (47.416%)\n"
     ]
    },
    {
     "name": "stderr",
     "output_type": "stream",
     "text": [
      "Train Epoch: 10 [3250/4026 (99%)]\tLoss: 0.915\tTraining Accuracy: 59.648%: 100%|██████| 126/126 [00:57<00:00,  2.21it/s]\n"
     ]
    },
    {
     "name": "stdout",
     "output_type": "stream",
     "text": [
      "Train Epoch: 10\tAverage Loss: 0.940\tAverage Accuracy: 58.237%\n",
      "Val set -> Average loss: 0.8869, Accuracy: 635/1006 (63.121%)\n"
     ]
    },
    {
     "name": "stderr",
     "output_type": "stream",
     "text": [
      "Train Epoch: 11 [3250/4026 (99%)]\tLoss: 1.074\tTraining Accuracy: 61.260%: 100%|██████| 126/126 [00:57<00:00,  2.21it/s]\n"
     ]
    },
    {
     "name": "stdout",
     "output_type": "stream",
     "text": [
      "Train Epoch: 11\tAverage Loss: 0.905\tAverage Accuracy: 61.263%\n",
      "Val set -> Average loss: 0.8933, Accuracy: 640/1006 (63.618%)\n"
     ]
    },
    {
     "name": "stderr",
     "output_type": "stream",
     "text": [
      "Train Epoch: 12 [3250/4026 (99%)]\tLoss: 0.801\tTraining Accuracy: 61.806%: 100%|██████| 126/126 [00:57<00:00,  2.20it/s]\n"
     ]
    },
    {
     "name": "stdout",
     "output_type": "stream",
     "text": [
      "Train Epoch: 12\tAverage Loss: 0.891\tAverage Accuracy: 62.510%\n",
      "Val set -> Average loss: 0.8628, Accuracy: 642/1006 (63.817%)\n"
     ]
    },
    {
     "name": "stderr",
     "output_type": "stream",
     "text": [
      "Train Epoch: 13 [3250/4026 (99%)]\tLoss: 0.817\tTraining Accuracy: 62.748%: 100%|██████| 126/126 [00:57<00:00,  2.21it/s]\n"
     ]
    },
    {
     "name": "stdout",
     "output_type": "stream",
     "text": [
      "Train Epoch: 13\tAverage Loss: 0.878\tAverage Accuracy: 63.821%\n",
      "Val set -> Average loss: 0.8774, Accuracy: 640/1006 (63.618%)\n"
     ]
    },
    {
     "name": "stderr",
     "output_type": "stream",
     "text": [
      "Train Epoch: 14 [3250/4026 (99%)]\tLoss: 0.633\tTraining Accuracy: 63.170%: 100%|██████| 126/126 [00:56<00:00,  2.24it/s]\n"
     ]
    },
    {
     "name": "stdout",
     "output_type": "stream",
     "text": [
      "Train Epoch: 14\tAverage Loss: 0.880\tAverage Accuracy: 62.857%\n",
      "Val set -> Average loss: 0.8961, Accuracy: 658/1006 (65.408%)\n"
     ]
    },
    {
     "name": "stderr",
     "output_type": "stream",
     "text": [
      "Train Epoch: 15 [3250/4026 (99%)]\tLoss: 0.900\tTraining Accuracy: 64.137%: 100%|██████| 126/126 [00:55<00:00,  2.26it/s]\n"
     ]
    },
    {
     "name": "stdout",
     "output_type": "stream",
     "text": [
      "Train Epoch: 15\tAverage Loss: 0.854\tAverage Accuracy: 64.811%\n",
      "Val set -> Average loss: 0.8387, Accuracy: 658/1006 (65.408%)\n"
     ]
    },
    {
     "name": "stderr",
     "output_type": "stream",
     "text": [
      "Train Epoch: 16 [3250/4026 (99%)]\tLoss: 1.170\tTraining Accuracy: 65.005%: 100%|██████| 126/126 [00:55<00:00,  2.25it/s]\n"
     ]
    },
    {
     "name": "stdout",
     "output_type": "stream",
     "text": [
      "Train Epoch: 16\tAverage Loss: 0.850\tAverage Accuracy: 66.208%\n",
      "Val set -> Average loss: 0.8597, Accuracy: 650/1006 (64.612%)\n"
     ]
    },
    {
     "name": "stderr",
     "output_type": "stream",
     "text": [
      "Train Epoch: 17 [3250/4026 (99%)]\tLoss: 0.972\tTraining Accuracy: 65.575%: 100%|██████| 126/126 [00:55<00:00,  2.28it/s]\n"
     ]
    },
    {
     "name": "stdout",
     "output_type": "stream",
     "text": [
      "Train Epoch: 17\tAverage Loss: 0.838\tAverage Accuracy: 65.756%\n",
      "Val set -> Average loss: 0.8203, Accuracy: 660/1006 (65.606%)\n"
     ]
    },
    {
     "name": "stderr",
     "output_type": "stream",
     "text": [
      "Train Epoch: 18 [3250/4026 (99%)]\tLoss: 0.646\tTraining Accuracy: 65.551%: 100%|██████| 126/126 [00:55<00:00,  2.26it/s]\n"
     ]
    },
    {
     "name": "stdout",
     "output_type": "stream",
     "text": [
      "Train Epoch: 18\tAverage Loss: 0.826\tAverage Accuracy: 65.541%\n",
      "Val set -> Average loss: 0.8360, Accuracy: 656/1006 (65.209%)\n"
     ]
    },
    {
     "name": "stderr",
     "output_type": "stream",
     "text": [
      "Train Epoch: 19 [3250/4026 (99%)]\tLoss: 0.766\tTraining Accuracy: 66.468%: 100%|██████| 126/126 [00:55<00:00,  2.26it/s]\n"
     ]
    },
    {
     "name": "stdout",
     "output_type": "stream",
     "text": [
      "Train Epoch: 19\tAverage Loss: 0.811\tAverage Accuracy: 66.015%\n",
      "Val set -> Average loss: 0.8588, Accuracy: 643/1006 (63.917%)\n"
     ]
    },
    {
     "name": "stderr",
     "output_type": "stream",
     "text": [
      "Train Epoch: 20 [3250/4026 (99%)]\tLoss: 0.834\tTraining Accuracy: 66.146%: 100%|██████| 126/126 [01:00<00:00,  2.07it/s]\n"
     ]
    },
    {
     "name": "stdout",
     "output_type": "stream",
     "text": [
      "Train Epoch: 20\tAverage Loss: 0.822\tAverage Accuracy: 65.362%\n",
      "Val set -> Average loss: 0.8388, Accuracy: 667/1006 (66.302%)\n"
     ]
    },
    {
     "name": "stderr",
     "output_type": "stream",
     "text": [
      "Train Epoch: 21 [3250/4026 (99%)]\tLoss: 0.702\tTraining Accuracy: 67.609%: 100%|██████| 126/126 [00:58<00:00,  2.15it/s]\n"
     ]
    },
    {
     "name": "stdout",
     "output_type": "stream",
     "text": [
      "Train Epoch: 21\tAverage Loss: 0.780\tAverage Accuracy: 66.914%\n",
      "Val set -> Average loss: 0.8196, Accuracy: 662/1006 (65.805%)\n"
     ]
    },
    {
     "name": "stderr",
     "output_type": "stream",
     "text": [
      "Train Epoch: 22 [3250/4026 (99%)]\tLoss: 0.712\tTraining Accuracy: 68.130%: 100%|██████| 126/126 [00:57<00:00,  2.20it/s]\n"
     ]
    },
    {
     "name": "stdout",
     "output_type": "stream",
     "text": [
      "Train Epoch: 22\tAverage Loss: 0.776\tAverage Accuracy: 69.074%\n",
      "Val set -> Average loss: 0.8166, Accuracy: 661/1006 (65.706%)\n"
     ]
    },
    {
     "name": "stderr",
     "output_type": "stream",
     "text": [
      "Train Epoch: 23 [3250/4026 (99%)]\tLoss: 1.198\tTraining Accuracy: 68.651%: 100%|██████| 126/126 [00:58<00:00,  2.17it/s]\n"
     ]
    },
    {
     "name": "stdout",
     "output_type": "stream",
     "text": [
      "Train Epoch: 23\tAverage Loss: 0.785\tAverage Accuracy: 67.992%\n",
      "Val set -> Average loss: 0.8297, Accuracy: 665/1006 (66.103%)\n"
     ]
    },
    {
     "name": "stderr",
     "output_type": "stream",
     "text": [
      "Train Epoch: 24 [3250/4026 (99%)]\tLoss: 0.793\tTraining Accuracy: 68.775%: 100%|██████| 126/126 [00:56<00:00,  2.25it/s]\n"
     ]
    },
    {
     "name": "stdout",
     "output_type": "stream",
     "text": [
      "Train Epoch: 24\tAverage Loss: 0.768\tAverage Accuracy: 67.941%\n",
      "Val set -> Average loss: 0.7993, Accuracy: 673/1006 (66.899%)\n"
     ]
    },
    {
     "name": "stderr",
     "output_type": "stream",
     "text": [
      "Train Epoch: 25 [3250/4026 (99%)]\tLoss: 1.048\tTraining Accuracy: 68.700%: 100%|██████| 126/126 [00:57<00:00,  2.21it/s]\n"
     ]
    },
    {
     "name": "stdout",
     "output_type": "stream",
     "text": [
      "Train Epoch: 25\tAverage Loss: 0.775\tAverage Accuracy: 69.955%\n",
      "Val set -> Average loss: 0.8308, Accuracy: 670/1006 (66.600%)\n"
     ]
    },
    {
     "name": "stderr",
     "output_type": "stream",
     "text": [
      "Train Epoch: 26 [3250/4026 (99%)]\tLoss: 0.946\tTraining Accuracy: 69.196%: 100%|██████| 126/126 [00:58<00:00,  2.14it/s]\n"
     ]
    },
    {
     "name": "stdout",
     "output_type": "stream",
     "text": [
      "Train Epoch: 26\tAverage Loss: 0.767\tAverage Accuracy: 71.035%\n",
      "Val set -> Average loss: 0.8436, Accuracy: 658/1006 (65.408%)\n"
     ]
    },
    {
     "name": "stderr",
     "output_type": "stream",
     "text": [
      "Train Epoch: 27 [3250/4026 (99%)]\tLoss: 0.686\tTraining Accuracy: 69.246%: 100%|██████| 126/126 [00:58<00:00,  2.15it/s]\n"
     ]
    },
    {
     "name": "stdout",
     "output_type": "stream",
     "text": [
      "Train Epoch: 27\tAverage Loss: 0.760\tAverage Accuracy: 70.100%\n",
      "Val set -> Average loss: 0.8355, Accuracy: 678/1006 (67.396%)\n"
     ]
    },
    {
     "name": "stderr",
     "output_type": "stream",
     "text": [
      "Train Epoch: 28 [3250/4026 (99%)]\tLoss: 0.781\tTraining Accuracy: 69.072%: 100%|██████| 126/126 [00:58<00:00,  2.15it/s]\n"
     ]
    },
    {
     "name": "stdout",
     "output_type": "stream",
     "text": [
      "Train Epoch: 28\tAverage Loss: 0.754\tAverage Accuracy: 69.026%\n",
      "Val set -> Average loss: 0.8305, Accuracy: 670/1006 (66.600%)\n"
     ]
    },
    {
     "name": "stderr",
     "output_type": "stream",
     "text": [
      "Train Epoch: 29 [3250/4026 (99%)]\tLoss: 0.611\tTraining Accuracy: 69.023%: 100%|██████| 126/126 [00:58<00:00,  2.16it/s]\n"
     ]
    },
    {
     "name": "stdout",
     "output_type": "stream",
     "text": [
      "Train Epoch: 29\tAverage Loss: 0.770\tAverage Accuracy: 67.922%\n",
      "Val set -> Average loss: 0.8308, Accuracy: 671/1006 (66.700%)\n"
     ]
    },
    {
     "name": "stderr",
     "output_type": "stream",
     "text": [
      "Train Epoch: 30 [3250/4026 (99%)]\tLoss: 0.710\tTraining Accuracy: 69.643%: 100%|██████| 126/126 [00:58<00:00,  2.16it/s]\n"
     ]
    },
    {
     "name": "stdout",
     "output_type": "stream",
     "text": [
      "Train Epoch: 30\tAverage Loss: 0.759\tAverage Accuracy: 69.439%\n",
      "Val set -> Average loss: 0.8128, Accuracy: 673/1006 (66.899%)\n",
      "\n",
      "--------------------------------\n",
      "5次 K-fold 交叉驗證結果:\n",
      "K_fold 0 -> 68.222 %\n",
      "K_fold 1 -> 68.421 %\n",
      "K_fold 2 -> 68.191 %\n",
      "K_fold 3 -> 69.085 %\n",
      "K_fold 4 -> 67.396 %\n",
      "K_fold Average Accuracy: 68.263 %\n",
      "--------------------------------\n",
      "\n",
      "train finished.\n",
      "\u0007\n"
     ]
    }
   ],
   "source": [
    "# main---------------------------------------------\n",
    "# 保存loss歷史數據，plt看圖用\n",
    "train_loss_list = np.zeros(epoch+1)\n",
    "train_acc_list = np.zeros(epoch+1)\n",
    "val_acc_list = np.zeros(epoch+1)\n",
    "val_loss_list = np.zeros(epoch+1)\n",
    "\n",
    "# 在訓練的過程中會根據驗證集的最佳準確率保存模型\n",
    "best_val_correct_rate = 0.0\n",
    "\n",
    "#訓練可視化-初始化窗口----------------------------------------------------\n",
    "if real_time_train_result == True:\n",
    "    vis = visdom.Visdom(server='http://localhost', port=8097, env='main')\n",
    "    vis.line([[0., 0.]], [0], win='accuracy', opts=dict(title='accuracy', legend = ['train','val']))   # [y軸1,y軸2][x軸] legend=標籤\n",
    "    vis.line([0.], [0], win='train_loss', opts=dict(title='train_loss'))   # [y軸][x軸] \n",
    "#------------------------------------------------------------------------\n",
    "\n",
    "# 判斷資料分割模式\n",
    "if choose_data_split == 'K_fold':\n",
    "    K_fold_acc = {}  # 保存history\n",
    "    for K_fold_num, (train_idx, valid_idx) in enumerate(K_fold.split(train_data)):  # k_fold分割方式\n",
    "        # 選擇訓練模型\n",
    "        if choose_model == 'NIN_v1':\n",
    "            net = NIN_v1(num_classes=len(classes))\n",
    "        elif choose_model == 'NIN_v2':\n",
    "            net = NIN_v2(num_classes=len(classes))\n",
    "        elif choose_model == 'Inception':\n",
    "            net = Inception(pretrained=0, num_classes=len(classes))\n",
    "        # 使用GPU訓練\n",
    "        net.cuda()\n",
    "\n",
    "        # 初始化模型權重\n",
    "        net.apply(reset_weights)\n",
    "        # 初始化優化器\n",
    "        if optim == 'SGD':\n",
    "            optimizer = torch.optim.SGD(params = net.parameters(), lr=lr, momentum=0.9, weight_decay=5e-4)\n",
    "        elif optim == 'Adam':\n",
    "            optimizer = torch.optim.Adam(params = net.parameters(), lr=lr)\n",
    "            \n",
    "        # K_fold_acc = 最佳epoch val_acc\n",
    "        best_val_acc = 0.0\n",
    "            \n",
    "        # 設定loss function\n",
    "        loss_func = torch.nn.CrossEntropyLoss() \n",
    "        # 設定學習策略\n",
    "        # patience:幾次沒改善時，降低1次學習率; factor:更新時相乘的衰減係數; mode:min=loss, acc=max\n",
    "        lr_scheduler = torch.optim.lr_scheduler.ReduceLROnPlateau(optimizer=optimizer, mode='min', factor=0.1, patience=2, min_lr=0.00001)  \n",
    "        \n",
    "        \n",
    "        print('--------------------------------')\n",
    "        print(f'K_fold: {K_fold_num}')\n",
    "        train_sampler = SubsetRandomSampler(train_idx)  # 打亂訓練id順序 (1,2,3,4) -> (3,1,4,2)\n",
    "        valid_sampler = SubsetRandomSampler(valid_idx)\n",
    "        trainloader = DataLoader(train_data, batch_size=batch_size, sampler=train_sampler, shuffle=False)  # 有sampler就不會有shuffle\n",
    "        valloader = DataLoader(train_data, batch_size=batch_size, sampler=valid_sampler, shuffle=False)\n",
    "\n",
    "        # 開始epoch訓練\n",
    "        for i in range (1, epoch + 1):\n",
    "            acc_avg, loss_avg = train(trainloader, net, use_GPU, i, loss_func, optimizer)\n",
    "            val_acc, val_loss = val(valloader, net, use_GPU, loss_func, i)\n",
    "\n",
    "            train_loss_list[i] = loss_avg  # 保存train_loss history\n",
    "            train_acc_list[i] = acc_avg  # 保存train_acc history\n",
    "            val_acc_list[i] = val_acc  # 保存val_loss history\n",
    "            val_loss_list[i] = val_loss  # 保存val_acc history\n",
    "            \n",
    "            if best_val_acc < val_acc:\n",
    "                best_val_acc = val_acc\n",
    "\n",
    "            #即時可視化訓練過程(accuracy, loss)-------------------------------------------------\n",
    "            if real_time_train_result == True:\n",
    "                vis.line([[acc_avg.item(), val_acc.item()]], [i], win='accuracy', update='append')  # 添加訊息到初始化的窗口\n",
    "                vis.line([loss_avg], [i], win='train_loss', update='append')  # 添加訊息到初始化的窗口\n",
    "            #----------------------------------------------------------------------------------\n",
    "            \n",
    "            # 保存最佳模型\n",
    "            if val_acc > best_val_correct_rate:\n",
    "                best_val_correct_rate = val_acc\n",
    "                # 每回合結束，保存最佳模型\n",
    "                #torch.save(net.state_dict(), MODEL)  # 只保存訓練好權重\n",
    "                torch.save(net, MODEL)  # 保存整個模型\n",
    "                \n",
    "            # 根據驗證集準確率更新學習率\n",
    "            lr_scheduler.step(val_loss)  # 連結到上面\"lr_scheduler\" 若監控的是loss，上面要改為min\n",
    "            \n",
    "        K_fold_acc[K_fold_num] = best_val_acc  # K_fold_acc = 所有epoch中最佳的val_Acc\n",
    "        \n",
    "    print('\\n--------------------------------')\n",
    "    print(f'{K_fold_num+1}次 K-fold 交叉驗證結果:')\n",
    "    sum_acc = 0.0\n",
    "    for num, value in K_fold_acc.items():\n",
    "        print(f'K_fold {num} -> {value:.3f} %')\n",
    "        sum_acc += value\n",
    "    print(f'K_fold Average Accuracy: {sum_acc/len(K_fold_acc.items()):.3f} %')\n",
    "    print('--------------------------------\\n')\n",
    "    \n",
    "elif choose_data_split == 'original':\n",
    "    # 選擇訓練模型\n",
    "    if choose_model == 'NIN_v1':\n",
    "        net = NIN_v1(num_classes=len(classes))\n",
    "    elif choose_model == 'NIN_v2':\n",
    "        net = NIN_v2(num_classes=len(classes))\n",
    "    elif choose_model == 'Inception':\n",
    "        net = Inception(pretrained=0, num_classes=len(classes))\n",
    "    # 使用GPU訓練\n",
    "    net.cuda()\n",
    "    \n",
    "    # 初始化模型權重\n",
    "    net.apply(reset_weights)\n",
    "    # 初始化優化器\n",
    "    if optim == 'SGD':\n",
    "        optimizer = torch.optim.SGD(params = net.parameters(), lr=lr, momentum=0.9, weight_decay=5e-4)\n",
    "    elif optim == 'Adam':\n",
    "        optimizer = torch.optim.Adam(params = net.parameters(), lr=lr)\n",
    "        \n",
    "    # 設定loss function\n",
    "    loss_func = torch.nn.CrossEntropyLoss() \n",
    "    # 設定學習策略\n",
    "    # patience:幾次沒改善時，降低1次學習率; factor:更新時相乘的衰減係數; mode:min=loss, acc=max\n",
    "    lr_scheduler = torch.optim.lr_scheduler.ReduceLROnPlateau(optimizer=optimizer, mode='max', factor=0.1, patience=4, min_lr=0.00001)  \n",
    "\n",
    "    # 開始epoch訓練\n",
    "    for i in range (1, epoch + 1):\n",
    "        acc_avg, loss_avg = train(trainloader, net, use_GPU, i, loss_func, optimizer)\n",
    "        val_acc, val_loss = val(valloader, net, use_GPU, loss_func, i)\n",
    "\n",
    "        train_loss_list[i] = loss_avg  # 保存train_loss history\n",
    "        train_acc_list[i] = acc_avg  # 保存train_acc history\n",
    "        val_acc_list[i] = val_acc  # 保存val_loss history\n",
    "        val_loss_list[i] = val_loss  # 保存val_acc history\n",
    "\n",
    "        #即時可視化訓練過程(accuracy, loss)-------------------------------------------------\n",
    "        if real_time_train_result == True:\n",
    "            vis.line([[acc_avg.item(), val_acc.item()]], [i], win='accuracy', update='append')  # 添加訊息到初始化的窗口\n",
    "            vis.line([loss_avg], [i], win='train_loss', update='append')  # 添加訊息到初始化的窗口\n",
    "        #----------------------------------------------------------------------------------\n",
    "\n",
    "        # 保存最佳模型\n",
    "        if val_acc > best_val_correct_rate:\n",
    "            best_val_correct_rate = val_acc\n",
    "            # 每回合結束，保存最佳模型\n",
    "            #torch.save(net.state_dict(), MODEL)  # 只保存訓練好權重\n",
    "            torch.save(net, MODEL)  # 保存整個模型\n",
    "            \n",
    "        # 根據驗證集準確率更新學習率\n",
    "        lr_scheduler.step(val_acc)  # 連結到上面\"lr_scheduler\" 若監控的是loss，上面要改為min\n",
    "\n",
    "print('train finished.')\n",
    "print(\"\\a\")  # 訓練完，提示音提醒我~"
   ]
  },
  {
   "cell_type": "markdown",
   "id": "90bbe92c",
   "metadata": {},
   "source": [
    "## 5_查看訓練結果(僅顯示最後一個Fold)"
   ]
  },
  {
   "cell_type": "code",
   "execution_count": 10,
   "id": "80fa42c4",
   "metadata": {},
   "outputs": [
    {
     "data": {
      "text/plain": [
       "<matplotlib.legend.Legend at 0x23ef7468cc8>"
      ]
     },
     "execution_count": 10,
     "metadata": {},
     "output_type": "execute_result"
    },
    {
     "data": {
      "image/png": "[encoded data removed]",
      "text/plain": [
       "<Figure size 432x288 with 1 Axes>"
      ]
     },
     "metadata": {
      "needs_background": "light"
     },
     "output_type": "display_data"
    }
   ],
   "source": [
    "plt.plot(train_loss_list, label='Train loss')\n",
    "plt.plot(val_loss_list, label='Val loss')\n",
    "plt.title('Train')\n",
    "plt.xlabel(\"Epoch\")\n",
    "plt.ylabel(\"Loss (CrossEntropy)\")\n",
    "#plt.ylim((0, 2))\n",
    "plt.legend()  # 顯示標籤"
   ]
  },
  {
   "cell_type": "code",
   "execution_count": 11,
   "id": "c54801f7",
   "metadata": {},
   "outputs": [
    {
     "data": {
      "text/plain": [
       "<matplotlib.legend.Legend at 0x23e959b42c8>"
      ]
     },
     "execution_count": 11,
     "metadata": {},
     "output_type": "execute_result"
    },
    {
     "data": {
      "image/png": "[encoded data removed]",
      "text/plain": [
       "<Figure size 432x288 with 1 Axes>"
      ]
     },
     "metadata": {
      "needs_background": "light"
     },
     "output_type": "display_data"
    }
   ],
   "source": [
    "plt.plot(train_acc_list, label='Train acc')\n",
    "plt.plot(val_acc_list, label='Val acc')\n",
    "plt.title('Mask_Predict')\n",
    "plt.xlabel(\"Epoch\")\n",
    "plt.ylabel(\"Accuracy\")\n",
    "plt.ylim((-5, 100))  # 限制範圍\n",
    "plt.legend()  # 顯示標籤"
   ]
  }
 ],
 "metadata": {
  "kernelspec": {
   "display_name": "Python 3 (ipykernel)",
   "language": "python",
   "name": "python3"
  },
  "language_info": {
   "codemirror_mode": {
    "name": "ipython",
    "version": 3
   },
   "file_extension": ".py",
   "mimetype": "text/x-python",
   "name": "python",
   "nbconvert_exporter": "python",
   "pygments_lexer": "ipython3",
   "version": "3.7.13"
  }
 },
 "nbformat": 4,
 "nbformat_minor": 5
}
