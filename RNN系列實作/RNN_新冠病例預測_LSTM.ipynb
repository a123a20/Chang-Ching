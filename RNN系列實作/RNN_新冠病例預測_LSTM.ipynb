{
 "cells": [
  {
   "cell_type": "markdown",
   "id": "f2792488",
   "metadata": {},
   "source": [
    "# 學習日期: 2022/5/9\n",
    "## 目標: 透過LSTM模型，預測COVID-19確診人數\n",
    "- **參考資料1:** https://jishuin.proginn.com/p/763bfbd700c2\n",
    "- **參考資料2:** https://github.com/CSSEGISandData/COVID-19"
   ]
  },
  {
   "cell_type": "markdown",
   "id": "a7c84add",
   "metadata": {},
   "source": [
    "## 1. 數據分析"
   ]
  },
  {
   "cell_type": "code",
   "execution_count": 1,
   "id": "af4e1582",
   "metadata": {},
   "outputs": [],
   "source": [
    "import torch\n",
    "\n",
    "import os\n",
    "import numpy as np\n",
    "import pandas as pd\n",
    "from tqdm import tqdm\n",
    "#import seaborn as sns\n",
    "from pylab import rcParams\n",
    "import matplotlib.pyplot as plt\n",
    "from matplotlib import rc\n",
    "from sklearn.preprocessing import MinMaxScaler\n",
    "from pandas.plotting import register_matplotlib_converters\n",
    "from torch import nn, optim"
   ]
  },
  {
   "cell_type": "code",
   "execution_count": 2,
   "id": "e9f8b82c",
   "metadata": {
    "scrolled": false
   },
   "outputs": [
    {
     "name": "stdout",
     "output_type": "stream",
     "text": [
      "  Province/State Country/Region       Lat       Long  2020-1-22  2020-1-23  \\\n",
      "0            NaN    Afghanistan  33.93911  67.709953          0          0   \n",
      "1            NaN        Albania  41.15330  20.168300          0          0   \n",
      "2            NaN        Algeria  28.03390   1.659600          0          0   \n",
      "3            NaN        Andorra  42.50630   1.521800          0          0   \n",
      "4            NaN         Angola -11.20270  17.873900          0          0   \n",
      "\n",
      "   2020-1-24  2020-1-25  2020-1-26  2020-1-27  ...  2021-12-22  2021-12-23  \\\n",
      "0          0          0          0          0  ...      157841      157878   \n",
      "1          0          0          0          0  ...      206616      206935   \n",
      "2          0          0          0          0  ...      215430      215723   \n",
      "3          0          0          0          0  ...       21372       21571   \n",
      "4          0          0          0          0  ...       67199       68362   \n",
      "\n",
      "   2021-12-24  2021-12-25  2021-12-26  2021-12-27  2021-12-28  2021-12-29  \\\n",
      "0      157887      157895      157951      157967      157998      158037   \n",
      "1      207221      207542      207709      207709      208352      208899   \n",
      "2      216098      216376      216637      216930      217265      217647   \n",
      "3       21730       21730       21730       22332       22540       22823   \n",
      "4       70221       71142       71752       71752       76787       78475   \n",
      "\n",
      "   2021-12-30  2021-12-31  \n",
      "0      158056      158084  \n",
      "1      208899      210224  \n",
      "2      218037      218432  \n",
      "3       23122       23740  \n",
      "4       79871       81593  \n",
      "\n",
      "[5 rows x 714 columns]\n"
     ]
    }
   ],
   "source": [
    "df = pd.read_csv('2020-2021_time_series_covid19_confirmed_global.csv')  # 將csv載入到DataFrame中; usecols=指定載入的行名\n",
    "#df = pd.read_csv('2020-2021_time_series_covid19_confirmed_global.csv', usecols = [\"Lat\",\"Long\"])\n",
    "print(df.head())"
   ]
  },
  {
   "cell_type": "code",
   "execution_count": 3,
   "id": "c1224ff3",
   "metadata": {},
   "outputs": [
    {
     "name": "stdout",
     "output_type": "stream",
     "text": [
      "   2020-1-22  2020-1-23  2020-1-24  2020-1-25  2020-1-26  2020-1-27  \\\n",
      "0          0          0          0          0          0          0   \n",
      "1          0          0          0          0          0          0   \n",
      "2          0          0          0          0          0          0   \n",
      "3          0          0          0          0          0          0   \n",
      "4          0          0          0          0          0          0   \n",
      "\n",
      "   2020-1-28  2020-1-29  2020-1-30  2020-1-31  ...  2021-12-22  2021-12-23  \\\n",
      "0          0          0          0          0  ...      157841      157878   \n",
      "1          0          0          0          0  ...      206616      206935   \n",
      "2          0          0          0          0  ...      215430      215723   \n",
      "3          0          0          0          0  ...       21372       21571   \n",
      "4          0          0          0          0  ...       67199       68362   \n",
      "\n",
      "   2021-12-24  2021-12-25  2021-12-26  2021-12-27  2021-12-28  2021-12-29  \\\n",
      "0      157887      157895      157951      157967      157998      158037   \n",
      "1      207221      207542      207709      207709      208352      208899   \n",
      "2      216098      216376      216637      216930      217265      217647   \n",
      "3       21730       21730       21730       22332       22540       22823   \n",
      "4       70221       71142       71752       71752       76787       78475   \n",
      "\n",
      "   2021-12-30  2021-12-31  \n",
      "0      158056      158084  \n",
      "1      208899      210224  \n",
      "2      218037      218432  \n",
      "3       23122       23740  \n",
      "4       79871       81593  \n",
      "\n",
      "[5 rows x 710 columns]\n"
     ]
    }
   ],
   "source": [
    "df = df.iloc[:,4:]  # 切掉不要的行(column_index)\n",
    "print(df.head())  # 內容值=0,157841... ;  column_index=2020-1-22... ;  row_index=0,1,2,3"
   ]
  },
  {
   "cell_type": "code",
   "execution_count": 4,
   "id": "697fe986",
   "metadata": {},
   "outputs": [
    {
     "name": "stdout",
     "output_type": "stream",
     "text": [
      "0\n"
     ]
    }
   ],
   "source": [
    "isnull = df.isnull().sum().sum()  #檢查缺失值\n",
    "print(isnull)"
   ]
  },
  {
   "cell_type": "code",
   "execution_count": 5,
   "id": "2cfb9e82",
   "metadata": {},
   "outputs": [
    {
     "name": "stdout",
     "output_type": "stream",
     "text": [
      "數據=\n",
      " 2020-1-22     557\n",
      "2020-1-23     657\n",
      "2020-1-24     944\n",
      "2020-1-25    1437\n",
      "2020-1-26    2120\n",
      "dtype: int64\n",
      "日期=\n",
      " Index(['2020-1-22', '2020-1-23', '2020-1-24', '2020-1-25', '2020-1-26',\n",
      "       '2020-1-27', '2020-1-28', '2020-1-29', '2020-1-30', '2020-1-31',\n",
      "       ...\n",
      "       '2021-12-22', '2021-12-23', '2021-12-24', '2021-12-25', '2021-12-26',\n",
      "       '2021-12-27', '2021-12-28', '2021-12-29', '2021-12-30', '2021-12-31'],\n",
      "      dtype='object', length=710)\n",
      "日期(智慧轉換)= DatetimeIndex(['2020-01-22', '2020-01-23', '2020-01-24', '2020-01-25',\n",
      "               '2020-01-26', '2020-01-27', '2020-01-28', '2020-01-29',\n",
      "               '2020-01-30', '2020-01-31',\n",
      "               ...\n",
      "               '2021-12-22', '2021-12-23', '2021-12-24', '2021-12-25',\n",
      "               '2021-12-26', '2021-12-27', '2021-12-28', '2021-12-29',\n",
      "               '2021-12-30', '2021-12-31'],\n",
      "              dtype='datetime64[ns]', length=710, freq=None)\n"
     ]
    }
   ],
   "source": [
    "daily_cases = df.sum(axis=0)  # 0:每一列的內容值互相相加 (列1+...+列n =列sum_下面);  1:每一行的內容值相加 (=行sum_右邊)\n",
    "print(\"數據=\\n\",daily_cases.head())\n",
    "print(\"日期=\\n\",daily_cases.index)\n",
    "\n",
    "daily_cases.index = pd.to_datetime(daily_cases.index)  # column index(時間)的智慧轉換\n",
    "\n",
    "print(\"日期(智慧轉換)=\",daily_cases.index)"
   ]
  },
  {
   "cell_type": "code",
   "execution_count": 6,
   "id": "b7e53f38",
   "metadata": {},
   "outputs": [
    {
     "data": {
      "image/png": "[encoded data removed]",
      "text/plain": [
       "<Figure size 576x432 with 1 Axes>"
      ]
     },
     "metadata": {
      "needs_background": "light"
     },
     "output_type": "display_data"
    }
   ],
   "source": [
    "x = daily_cases.index  # 取column index(2020-01)\n",
    "y = daily_cases.values  # 取DataFrame的內容值\n",
    "\n",
    "plt.figure(figsize=(8,6))\n",
    "plt.title('Cumulative daily cases')\n",
    "plt.plot(x, y)\n",
    "plt.show()"
   ]
  },
  {
   "cell_type": "code",
   "execution_count": 7,
   "id": "ce457e6f",
   "metadata": {},
   "outputs": [
    {
     "name": "stdout",
     "output_type": "stream",
     "text": [
      "原本累加:\n",
      "2020-01-22     557\n",
      "2020-01-23     657\n",
      "2020-01-24     944\n",
      "2020-01-25    1437\n",
      "2020-01-26    2120\n",
      "dtype: int64\n",
      "\n",
      "轉成每日數量:\n",
      "2020-01-22      NaN\n",
      "2020-01-23    100.0\n",
      "2020-01-24    287.0\n",
      "2020-01-25    493.0\n",
      "2020-01-26    683.0\n",
      "dtype: float64\n",
      "\n",
      "填充NaN值後:\n",
      "2020-01-22    557.0\n",
      "2020-01-23    100.0\n",
      "2020-01-24    287.0\n",
      "2020-01-25    493.0\n",
      "2020-01-26    683.0\n",
      "dtype: float64\n",
      "\n",
      "轉int後:\n",
      "2020-01-22    557\n",
      "2020-01-23    100\n",
      "2020-01-24    287\n",
      "2020-01-25    493\n",
      "2020-01-26    683\n",
      "dtype: int64\n",
      "\n",
      "Shape:  (710,)\n"
     ]
    }
   ],
   "source": [
    "print(\"原本累加:\")\n",
    "print(daily_cases.head())\n",
    "\n",
    "print(\"\\n轉成每日數量:\")\n",
    "temp = daily_cases.diff()  #預設是計算每一列做相減\n",
    "print(temp.head())\n",
    "\n",
    "print(\"\\n填充NaN值後:\")\n",
    "daily_cases = temp.fillna(value=daily_cases[0])\n",
    "print(daily_cases.head())\n",
    "\n",
    "print(\"\\n轉int後:\")\n",
    "daily_cases = daily_cases.astype(np.int64)  # 轉成int64\n",
    "print(daily_cases.head())\n",
    "\n",
    "print(\"\\nShape: \",daily_cases.shape)"
   ]
  },
  {
   "cell_type": "code",
   "execution_count": 8,
   "id": "61a9d371",
   "metadata": {},
   "outputs": [
    {
     "data": {
      "image/png": "[encoded data removed]",
      "text/plain": [
       "<Figure size 576x432 with 1 Axes>"
      ]
     },
     "metadata": {
      "needs_background": "light"
     },
     "output_type": "display_data"
    }
   ],
   "source": [
    "x = daily_cases.index  # 取column index(2020-01)\n",
    "y = daily_cases.values  # 取DataFrame的內容值\n",
    "\n",
    "plt.figure(figsize=(8,6))\n",
    "plt.title('Daily cases')\n",
    "plt.plot(x, y)\n",
    "plt.show()"
   ]
  },
  {
   "cell_type": "markdown",
   "id": "cb4b56b3",
   "metadata": {},
   "source": [
    "## 2. 數據預處理"
   ]
  },
  {
   "cell_type": "code",
   "execution_count": 9,
   "id": "b8f35a0f",
   "metadata": {},
   "outputs": [
    {
     "name": "stdout",
     "output_type": "stream",
     "text": [
      "有 710 天的數據\n",
      "\n",
      "訓練集 467 天\n",
      "預測集 243 天\n",
      "\n",
      "train_data=\n",
      " 2020-01-22       557\n",
      "2020-01-23       100\n",
      "2020-01-24       287\n",
      "2020-01-25       493\n",
      "2020-01-26       683\n",
      "               ...  \n",
      "2021-04-28    898624\n",
      "2021-04-29    895026\n",
      "2021-04-30    891776\n",
      "2021-05-01    794957\n",
      "2021-05-02    687177\n",
      "Length: 467, dtype: int64\n",
      "\n",
      "test_data=\n",
      " 2021-05-03     689172\n",
      "2021-05-04     785654\n",
      "2021-05-05     842368\n",
      "2021-05-06     872575\n",
      "2021-05-07     834989\n",
      "               ...   \n",
      "2021-12-27    1268219\n",
      "2021-12-28    1326584\n",
      "2021-12-29    1696421\n",
      "2021-12-30    1942505\n",
      "2021-12-31    1745974\n",
      "Length: 243, dtype: int64\n"
     ]
    }
   ],
   "source": [
    "print(\"有\", daily_cases.size,\"天的數據\")\n",
    "test_data_size = 243\n",
    "train_data = daily_cases[:-test_data_size]  # 取前面\n",
    "test_data = daily_cases[train_data.size:]  # 取後面\n",
    "print(\"\\n訓練集\",train_data.size,\"天\\n預測集\",test_data.size,\"天\")\n",
    "\n",
    "print(\"\\ntrain_data=\\n\",train_data)\n",
    "print(\"\\ntest_data=\\n\",test_data)"
   ]
  },
  {
   "cell_type": "code",
   "execution_count": 10,
   "id": "ec2f594e",
   "metadata": {},
   "outputs": [
    {
     "name": "stdout",
     "output_type": "stream",
     "text": [
      "轉換前:\n",
      "[[557]\n",
      " [100]\n",
      " [287]\n",
      " [493]\n",
      " [683]]\n",
      "\n",
      "轉換後:\n",
      "[[0.00030536]\n",
      " [0.        ]\n",
      " [0.00012495]\n",
      " [0.00026259]\n",
      " [0.00038955]]\n"
     ]
    }
   ],
   "source": [
    "# 提高模型的\"訓練速度\"、\"性能\" ---> 按比例縮放數據(0~1)\n",
    "# 使用scikit-learn的MinMaxScaler(最小最大值標準化)\n",
    "# Reference: https://cloud.tencent.com/developer/article/1770568\n",
    "\n",
    "# 注意: 是用train data進行擬合fit(模型)，然後對 train & test 都用此模型進行 trainsform (因fit兩次會造成在不同標準下做trainsform)\n",
    "## train: fit + transform\n",
    "## test: transform\n",
    "\n",
    "# DataFrame(467行) -> values內容值(467列,1行)\n",
    "train_data = np.expand_dims(train_data, axis=1)  # (467列，1列存放1個數值)\n",
    "test_data = np.expand_dims(test_data, axis=1)    # axis=1: (467) -> (467,1)\n",
    "\n",
    "print(\"轉換前:\")\n",
    "print(train_data[:5])\n",
    "\n",
    "# 1. fit: (做完就包含數據分布情況，但未歸一化)\n",
    "scalar_type = MinMaxScaler()  # 選擇計算類型\n",
    "scalar = scalar_type.fit(train_data)  # 自動算出\"最大值\" \"最小值\"\n",
    "#print(scalar.data_max_)  # 測試: 最大值\n",
    "\n",
    "\n",
    "# 2. transform: (train)\n",
    "train_data = scalar.transform(train_data)  # 歸一化 (意思是，將數據壓縮到0-1之間，對應MinMax規範方法)\n",
    "    # 歸一化可以消除量綱對最終結果的影響，使不同變數具有可比性。\n",
    "    # 例子: 比如兩個人體重差10KG，身高差0.02M，在衡量兩個人的差別時體重的差距會把身高的差距完全掩蓋，歸一化之後就不會有這樣的問題。\n",
    "    \n",
    "print(\"\\n轉換後:\")\n",
    "print(train_data[:5])\n",
    "\n",
    "# 2. transform: (test)\n",
    "test_data = scalar.transform(test_data)"
   ]
  },
  {
   "cell_type": "code",
   "execution_count": 11,
   "id": "0d486d73",
   "metadata": {},
   "outputs": [
    {
     "name": "stdout",
     "output_type": "stream",
     "text": [
      "train data= 467 \n",
      "\n",
      "train x= torch.Size([459, 7, 1])\n",
      "train y= torch.Size([459, 1]) \n",
      "\n",
      "tensor([[0.0003],\n",
      "        [0.0000],\n",
      "        [0.0001],\n",
      "        [0.0003],\n",
      "        [0.0004],\n",
      "        [0.0005],\n",
      "        [0.0017]], dtype=torch.float64) \n",
      "\n",
      "tensor([[0.0003],\n",
      "        [0.0000],\n",
      "        [0.0001],\n",
      "        [0.0003],\n",
      "        [0.0004],\n",
      "        [0.0005],\n",
      "        [0.0017]])\n"
     ]
    }
   ],
   "source": [
    "# 七天一個循環 (x:前7天  y_label:第8天)\n",
    "\n",
    "print(\"train data=\",len(train_data),\"\\n\")\n",
    "data = train_data\n",
    "\n",
    "def create_sequence(data, seq_length):\n",
    "    x_list = []\n",
    "    y_list = []\n",
    "    for i in range(len(data)-seq_length-1):  # 因最後要多一筆label data，所以-1\n",
    "        x = data[i:i+seq_length]  # 0~6\n",
    "        y = data[i+seq_length]  # 7\n",
    "        x_list.append(x)\n",
    "        y_list.append(y)\n",
    "        \n",
    "    return np.array(x_list), np.array(y_list)\n",
    "\n",
    "seq_length = 7  # time_step\n",
    "\n",
    "train_x, train_y = create_sequence(train_data, seq_length)\n",
    "test_x, test_y = create_sequence(test_data, seq_length)\n",
    "\n",
    "train_x = torch.from_numpy(train_x)\n",
    "train_y = torch.from_numpy(train_y).float()\n",
    "test_x = torch.from_numpy(test_x).float()\n",
    "test_y = torch.from_numpy(test_y).float()\n",
    "\n",
    "print(\"train x=\",train_x.shape)\n",
    "print(\"train y=\",train_y.shape,\"\\n\")\n",
    "print(train_x[0],\"\\n\")  # !!!原本數據類型: float64 -> 餵入model數據 要轉成 float32 才能run\n",
    "\n",
    "train_x = train_x.float()  # float64 -> float32\n",
    "print(train_x[0])"
   ]
  },
  {
   "cell_type": "markdown",
   "id": "7c20a20b",
   "metadata": {},
   "source": [
    "## 3. 建立模型-LSTM"
   ]
  },
  {
   "cell_type": "code",
   "execution_count": 12,
   "id": "bb6af7c8",
   "metadata": {},
   "outputs": [],
   "source": [
    "\n",
    "class LSTM(nn.Module):\n",
    "    def __init__(self, input_size, hidden_size, num_layers, dropout, seq_length):  # 這裡加入要傳入的參數，使用時記得要加self.X = X\n",
    "        super(LSTM, self).__init__()\n",
    "        \n",
    "        # 導入參數\n",
    "        self.input_size = input_size\n",
    "        self.hidden_size = hidden_size\n",
    "        self.num_layers = num_layers\n",
    "        self.dropout = dropout\n",
    "        self.seq_length = seq_length\n",
    "        \n",
    "        # model設計\n",
    "        self.rnn = nn.LSTM(\n",
    "            input_size = input_size,  # input shape\n",
    "            hidden_size = hidden_size,  # output shape\n",
    "            num_layers = num_layers,\n",
    "            dropout = dropout\n",
    "            #batch_first = True  # 只是做 原(459,7,1) -> (7,459,1)，這次沒有設batch_size，固batch_size=459 (全部data)\n",
    "                                 # (batch_size, time_step, input_size) batch已經在最前面，不需再batch_first\n",
    "        )\n",
    "        self.out = nn.Linear(hidden_size, 1)  # (in_features, out_features)->(512, 1)\n",
    "        \n",
    "    def reset_hidden_state(self):  # 清空inputs的 h_0, c_0 (state)->讓每個epoch開始訓練 都是空的state\n",
    "        self.h_0 = torch.zeros(self.num_layers, self.seq_length, self.hidden_size)  # 透過self，抓取外界傳入的參數(初始化需先導入)\n",
    "        self.c_0 = torch.zeros(self.num_layers, self.seq_length, self.hidden_size)\n",
    "        \n",
    "    def forward(self, x):\n",
    "        \"\"\"\n",
    "        x: (batch_size, time_step(seq_length), input_size)\n",
    "        h_n = 最後一個time_step的 \"hidden state\" (輸出)   h_n = lstm_out[:,-1,:]\n",
    "        c_n = 最後一個time_step的 \"cell state\" (cell當前狀態)\n",
    "        \"\"\"\n",
    "        \n",
    "        #---x: (459, 7, 1)    \n",
    "        lstm_out, (self.h_n, self.c_n) = self.rnn(x, (self.h_0, self.c_0))  # 1 -> 512 \n",
    "        #---lstm_out: (459, 7, 512)\n",
    "        \n",
    "        # 查看hidden_state (tuple → tensor)\n",
    "        #hidden_state = torch.stack(list((self.h_0,self.c_0)), dim=0)  # h_n, c_n = hidden_state = (2, num_layers, 7, 512)\n",
    "        #print(hidden_state.shape)  # hidden_state: ( (h,c), num_layers, time_step(seq_length), hidden_size)\n",
    "        \n",
    "        #---lstm_out: (459, 7, 512)\n",
    "        last_time_step = lstm_out.view(7, len(x), 512)  # 改變數據shape (取出 7的最後一個 時間步(time_step) 的輸出)\n",
    "        #---last_time_step: (7, 459, 512)\n",
    "        last_time_step = last_time_step[-1]  # 取0~6的最後一列\n",
    "        #---last_time_step: (459, 512)\n",
    "        output = self.out(last_time_step)  # (459, 512) -> (459, 1)\n",
    "        #---output: (459, 1)  # 459列 預測的結果\n",
    "        \n",
    "        return output  # y_predict"
   ]
  },
  {
   "cell_type": "raw",
   "id": "7e26ad7c",
   "metadata": {},
   "source": [
    "# linear分類器-小例子\n",
    "np.random.seed(42)  # 強迫固定亂數，方便研究\n",
    "torch.manual_seed(42)\n",
    "x = torch.randn(4,2,1)\n",
    "print(x.shape)\n",
    "\n",
    "x = x.view(8,-1)  #展平成n列1行\n",
    "print(x.shape)\n",
    "print(x)"
   ]
  },
  {
   "attachments": {
    "image.png": {
     "image/png": "[encoded data removed]"
    }
   },
   "cell_type": "markdown",
   "id": "ff17a3fa",
   "metadata": {},
   "source": [
    "[lstm_out、h_n 和 c_n 之間的關係](https://blog.csdn.net/sdnuwjw/article/details/111221937)\n",
    "![image.png](attachment:image.png)"
   ]
  },
  {
   "cell_type": "markdown",
   "id": "d764bb0f",
   "metadata": {},
   "source": [
    "## 訓練模型"
   ]
  },
  {
   "cell_type": "code",
   "execution_count": 13,
   "id": "776c236b",
   "metadata": {},
   "outputs": [],
   "source": [
    "def train_model(model, epoch, train_data, train_label, test_data, test_label):\n",
    "    # 設定loss模型 + 優化器\n",
    "    loss_fn = torch.nn.MSELoss(reduction='sum')  # 默認'mean'\n",
    "    optim = torch.optim.Adam(params=model.parameters(), lr=1e-3)\n",
    "    \n",
    "    # 保存loss歷史數據，plt看圖用\n",
    "    train_loss_list = np.zeros(epoch)\n",
    "    test_loss_list = np.zeros(epoch)\n",
    "    \n",
    "    for i in range(epoch):\n",
    "        model.train()  # 開啟訓練模式\n",
    "        model.reset_hidden_state()  # 無狀態LSTM\n",
    "        \n",
    "        #---train_data: (459, 7, 1)\n",
    "        y_pred = model(train_data)\n",
    "        #---y_pred: (459, 1)\n",
    "        \n",
    "        # 比較data差異\n",
    "        #print(train_label[5])\n",
    "        #print(y_pred[5])\n",
    "        \n",
    "        # 計算loss\n",
    "        loss = loss_fn(y_pred, train_label)  # (y_predict, y_label)\n",
    "        \n",
    "        # 加入測試集驗證\n",
    "        if test_data is not None:\n",
    "            with torch.no_grad():  # 被該語句包裹起來的程式碼，就不會被追蹤gradient\n",
    "                y_pred_test = model(test_data)\n",
    "                loss_test = loss_fn(y_pred_test, test_label)\n",
    "            test_loss_list[i] = loss_test.item()  # 保存loss_test history\n",
    "            if (i%10 == 0) or (i == epoch-1):  # 最後一個epoch也印出\n",
    "                print(f'Epoch {i}  train loss: {loss.item():.4f}  test loss: {loss_test.item():.4f}')  # :.4f 取小數後四位\n",
    "        elif i%10 == 0:\n",
    "            print(f'Epoch {i}  train loss: {loss.item()}')  # .item(): tensor->內容值(values)\n",
    "        \n",
    "        train_loss_list[i] = loss.item()  # 保存loss history\n",
    "        \n",
    "        # 固定不變\n",
    "        optim.zero_grad()\n",
    "        loss.backward()\n",
    "        optim.step()\n",
    "\n",
    "    return model.eval(), train_loss_list, test_loss_list  # model.eval() 因後面是測試模式"
   ]
  },
  {
   "cell_type": "code",
   "execution_count": 14,
   "id": "83f83c33",
   "metadata": {
    "scrolled": false
   },
   "outputs": [
    {
     "name": "stdout",
     "output_type": "stream",
     "text": [
      "x = torch.Size([459, 7, 1])   (batch_size, time_step, input_size)\n",
      "\n",
      "Epoch 0  train loss: 37.1533  test loss: 36.4869\n",
      "Epoch 10  train loss: 11.4514  test loss: 7.7270\n",
      "Epoch 19  train loss: 6.8971  test loss: 4.5753\n"
     ]
    }
   ],
   "source": [
    "# 設定參數\n",
    "epoch = 20\n",
    "input_size = 1  # 若為圖片，size= W x H，這裡是確診人數，size= 1\n",
    "hidden_size = 512  # 隱藏層神經元數\n",
    "num_layers = 2  # LSTM層數\n",
    "dropout = 0.5\n",
    "seq_length = 7  # 就是time_step; 若要調值，上面 \"2.數據預處理-seq_length\" 也要改\n",
    "\n",
    "\n",
    "model = LSTM(input_size, hidden_size, num_layers, dropout, seq_length)\n",
    "print(\"x =\",train_x.shape, \"  (batch_size, time_step, input_size)\\n\")\n",
    "\n",
    "# 開始訓練\n",
    "model, train_loss_list, test_loss_list = train_model(model, epoch, train_x, train_y, test_x, test_y) # model = .eval()測試模式"
   ]
  },
  {
   "cell_type": "code",
   "execution_count": 15,
   "id": "504579d0",
   "metadata": {},
   "outputs": [
    {
     "data": {
      "text/plain": [
       "<matplotlib.legend.Legend at 0x1700fbfe688>"
      ]
     },
     "execution_count": 15,
     "metadata": {},
     "output_type": "execute_result"
    },
    {
     "data": {
      "image/png": "[encoded data removed]",
      "text/plain": [
       "<Figure size 432x288 with 1 Axes>"
      ]
     },
     "metadata": {
      "needs_background": "light"
     },
     "output_type": "display_data"
    }
   ],
   "source": [
    "plt.plot(train_loss_list, label='Train loss')\n",
    "plt.plot(test_loss_list, label='Test loss')\n",
    "plt.ylim((0, 100))\n",
    "plt.legend()"
   ]
  },
  {
   "cell_type": "raw",
   "id": "b5051eac",
   "metadata": {},
   "source": [
    "待測試:\n",
    "    有無加model.tain()\n",
    "    LSTM layer\n",
    "    hidden_unit\n",
    "    dropout\n",
    "    seq_length"
   ]
  }
 ],
 "metadata": {
  "kernelspec": {
   "display_name": "Python 3 (ipykernel)",
   "language": "python",
   "name": "python3"
  },
  "language_info": {
   "codemirror_mode": {
    "name": "ipython",
    "version": 3
   },
   "file_extension": ".py",
   "mimetype": "text/x-python",
   "name": "python",
   "nbconvert_exporter": "python",
   "pygments_lexer": "ipython3",
   "version": "3.7.13"
  }
 },
 "nbformat": 4,
 "nbformat_minor": 5
}
