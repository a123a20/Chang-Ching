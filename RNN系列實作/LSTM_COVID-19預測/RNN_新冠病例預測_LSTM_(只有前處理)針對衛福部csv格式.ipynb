{
 "cells": [
  {
   "cell_type": "markdown",
   "id": "33ec9728",
   "metadata": {},
   "source": [
    "# 學習日期: 2022/5/21開始\n",
    "## 目標: 透過LSTM模型，針對\"台灣資料集\"，預測COVID-19確診人數\n",
    "- **參考資料1:** https://covid-19.nchc.org.tw/dt_005-covidTable_taiwan.php"
   ]
  },
  {
   "cell_type": "markdown",
   "id": "399832dd",
   "metadata": {},
   "source": [
    "## 1_數據分析"
   ]
  },
  {
   "cell_type": "code",
   "execution_count": 1,
   "id": "79776da8",
   "metadata": {},
   "outputs": [],
   "source": [
    "import torch\n",
    "\n",
    "import os\n",
    "import numpy as np\n",
    "import pandas as pd\n",
    "from tqdm import tqdm\n",
    "#import seaborn as sns\n",
    "from pylab import rcParams\n",
    "import matplotlib.pyplot as plt\n",
    "from matplotlib import rc\n",
    "from sklearn.preprocessing import MinMaxScaler\n",
    "from pandas.plotting import register_matplotlib_converters\n",
    "from torch import nn, optim\n",
    "from sklearn.metrics import r2_score  # R_Score"
   ]
  },
  {
   "cell_type": "code",
   "execution_count": 2,
   "id": "cf9853d8",
   "metadata": {},
   "outputs": [
    {
     "name": "stdout",
     "output_type": "stream",
     "text": [
      "  Taiwan Daily Report by NCHC Unnamed: 1 Unnamed: 2 Unnamed: 3 Unnamed: 4  \\\n",
      "0                          ID   iso_code         洲名         國家         日期   \n",
      "1                         141        TWN         亞洲         台灣   2022-1-1   \n",
      "2                         140        TWN         亞洲         台灣   2022-1-2   \n",
      "3                         139        TWN         亞洲         台灣   2022-1-3   \n",
      "4                         138        TWN         亞洲         台灣   2022-1-4   \n",
      "\n",
      "  Unnamed: 5 Unnamed: 6   Unnamed: 7 Unnamed: 8  Unnamed: 9       Unnamed: 10  \\\n",
      "0       總確診數      新增確診數  七天移動平均新增確診數  總確診數/每百萬人  新增確診數/每百萬人  七天移動平均新增確診數/每百萬人   \n",
      "1      17050         21        22.71     714.74        0.88              0.95   \n",
      "2      17070         20        22.14     715.57        0.84              0.93   \n",
      "3      17095         25        23.43     716.62        1.05              0.98   \n",
      "4      17129         34        25.57     718.05        1.43              1.07   \n",
      "\n",
      "  Unnamed: 11 Unnamed: 12  \n",
      "0        總人口數  新聞稿發佈新增確診數  \n",
      "1  23,855,008          21  \n",
      "2  23,855,008          20  \n",
      "3  23,855,008          25  \n",
      "4  23,855,008          34  \n"
     ]
    }
   ],
   "source": [
    "# dataset -> 數值需為無(千分位,)\n",
    "df = pd.read_csv('owl_world_taiwan_v1.csv')  # 將csv載入到DataFrame中; usecols=指定載入的行名\n",
    "print(df.head())"
   ]
  },
  {
   "cell_type": "code",
   "execution_count": 3,
   "id": "d9fc129e",
   "metadata": {},
   "outputs": [
    {
     "name": "stdout",
     "output_type": "stream",
     "text": [
      "Data=\n",
      "     Unnamed: 4 Unnamed: 5\n",
      "0           日期       總確診數\n",
      "1     2022-1-1      17050\n",
      "2     2022-1-2      17070\n",
      "3     2022-1-3      17095\n",
      "4     2022-1-4      17129\n",
      "..         ...        ...\n",
      "131  2022-5-11     505455\n",
      "132  2022-5-12     570870\n",
      "133  2022-5-13     635870\n",
      "134  2022-5-14     699824\n",
      "135  2022-5-15     768543\n",
      "\n",
      "[136 rows x 2 columns]\n",
      "缺失值(NULL)= 0\n",
      "\n",
      " DatetimeIndex(['2022-01-01', '2022-01-02', '2022-01-03', '2022-01-04'], dtype='datetime64[ns]', freq=None)\n",
      "字串需轉為整數:\n",
      "['17050' '17070' '17095' '17129']\n",
      "[17050, 17070, 17095, 17129]\n"
     ]
    }
   ],
   "source": [
    "# 抓出資料集的\"日期\"+\"累積確診人數\":\n",
    "# \"Date\"+\"string_data\" -> \"datetime格式\"+\"list_data格式\"\n",
    "\n",
    "test = df.iloc[:,4:6 :]  # 切掉不要的行(column_index)\n",
    "print(\"Data=\\n\",test)  # 內容值=0,157841... ;  column_index=2020-1-22... ;  row_index=0,1,2,3\n",
    "#print(\"Data=\\n\",test.values[:,0:2])\n",
    "\n",
    "isnull = test.isnull().sum().sum()  #檢查缺失值\n",
    "print(\"缺失值(NULL)=\",isnull)\n",
    "\n",
    "# dataframe -> np.array\n",
    "x = test.values[1:,0:1].flatten()  \n",
    "x = pd.to_datetime(x)  # 時間的智慧轉換\n",
    "y = test.values[1:,1:2].flatten()\n",
    "\n",
    "# string -> int\n",
    "y_list = []\n",
    "for i in range(len(y)):\n",
    "    y_list.append(int(y[i]))  \n",
    "    \n",
    "\n",
    "print(\"\\n\",x[:4])\n",
    "print(\"字串需轉為整數:\")\n",
    "print(y[:4])\n",
    "print(y_list[:4])"
   ]
  },
  {
   "cell_type": "code",
   "execution_count": 12,
   "id": "b3dba307",
   "metadata": {},
   "outputs": [
    {
     "data": {
      "image/png": "[encoded data removed]",
      "text/plain": [
       "<Figure size 936x432 with 1 Axes>"
      ]
     },
     "metadata": {
      "needs_background": "light"
     },
     "output_type": "display_data"
    }
   ],
   "source": [
    "x = x  # 取column index(2020-01)\n",
    "y = y_list  # 取DataFrame的內容值\n",
    "\n",
    "plt.figure(figsize=(13,6))\n",
    "plt.title('Cumulative daily cases')\n",
    "plt.xlabel(\"Date\")\n",
    "plt.ylabel(\"Cases\")\n",
    "plt.plot(x, y_list)\n",
    "plt.grid()\n",
    "plt.show()"
   ]
  },
  {
   "cell_type": "code",
   "execution_count": 24,
   "id": "e798ee5a",
   "metadata": {},
   "outputs": [
    {
     "name": "stdout",
     "output_type": "stream",
     "text": [
      "累積:\n",
      "          0\n",
      "0     17050\n",
      "1     17070\n",
      "2     17095\n",
      "3     17129\n",
      "4     17155\n",
      "..      ...\n",
      "130  505455\n",
      "131  570870\n",
      "132  635870\n",
      "133  699824\n",
      "134  768543\n",
      "\n",
      "[135 rows x 1 columns]\n",
      "\n",
      "\n",
      "每日:\n",
      "           0\n",
      "0        NaN\n",
      "1       20.0\n",
      "2       25.0\n",
      "3       34.0\n",
      "4       26.0\n",
      "..       ...\n",
      "130  57132.0\n",
      "131  65415.0\n",
      "132  65000.0\n",
      "133  63954.0\n",
      "134  68719.0\n",
      "\n",
      "[135 rows x 1 columns]\n",
      "\n",
      "\n",
      "每日+NULL填充:\n",
      "           0\n",
      "0       21.0\n",
      "1       20.0\n",
      "2       25.0\n",
      "3       34.0\n",
      "4       26.0\n",
      "..       ...\n",
      "130  57132.0\n",
      "131  65415.0\n",
      "132  65000.0\n",
      "133  63954.0\n",
      "134  68719.0\n",
      "\n",
      "[135 rows x 1 columns]\n"
     ]
    }
   ],
   "source": [
    "# 算出\"每日確診人數\"\n",
    "# list -> dataframe \n",
    "y_dataframe = pd.DataFrame(y_list)  # 為了使用它提供的diff而轉換\n",
    "print(\"累積:\")\n",
    "print(y_dataframe)\n",
    "y_dataframe = y_dataframe.diff()  # 預設是計算每一列做相減\n",
    "print(\"\\n\\n每日:\")\n",
    "print(y_dataframe)\n",
    "y_dataframe = y_dataframe.fillna(value=21)  # 填充NAN值\n",
    "print(\"\\n\\n每日+NULL填充:\")\n",
    "print(y_dataframe)"
   ]
  },
  {
   "cell_type": "code",
   "execution_count": 26,
   "id": "9e5b2748",
   "metadata": {},
   "outputs": [
    {
     "data": {
      "image/png": "[encoded data removed]",
      "text/plain": [
       "<Figure size 936x432 with 1 Axes>"
      ]
     },
     "metadata": {
      "needs_background": "light"
     },
     "output_type": "display_data"
    }
   ],
   "source": [
    "x = x  # 取column index(2020-01)\n",
    "y = y_dataframe.values  # 取DataFrame的內容值\n",
    "\n",
    "plt.figure(figsize=(13,6))\n",
    "plt.title('Daily cases')\n",
    "plt.xlabel(\"Date\")\n",
    "plt.ylabel(\"Cases\")\n",
    "plt.plot(x, y)\n",
    "plt.grid()\n",
    "plt.show()"
   ]
  },
  {
   "cell_type": "markdown",
   "id": "6f5cf982",
   "metadata": {},
   "source": [
    "## 2_數據前處理"
   ]
  },
  {
   "cell_type": "code",
   "execution_count": 37,
   "id": "0f040e25",
   "metadata": {},
   "outputs": [
    {
     "name": "stdout",
     "output_type": "stream",
     "text": [
      "有 135 天的數據\n",
      "\n",
      "訓練集 121 天\n",
      "預測集 14 天\n",
      "\n",
      "train_data=\n",
      " [17050, 17070, 17095, 17129, 17155, 17198, 17258, 17302, 17362, 17393, 17463, 17559, 17624, 17692, 17769, 17820, 17885, 17951, 18005, 18041, 18109, 18239, 18325, 18376, 18411, 18503, 18566, 18634, 18681, 18735, 18790, 18850, 18903, 18958, 19029, 19101, 19144, 19192, 19239, 19293, 19376, 19455, 19515, 19567, 19621, 19666, 19732, 19797, 19864, 19937, 19937, 20056, 20100, 20156, 20236, 20304, 20373, 20433, 20489, 20533, 20582, 20653, 20717, 20797, 20840, 20869, 20922, 20999, 21081, 21163, 21225, 21288, 21363, 21402, 21492, 21583, 21658, 21784, 21905, 22003, 22091, 22188, 22327, 22463, 22566, 22769, 22896, 22992, 23155, 23393, 23629, 24033, 24312, 24585, 24866, 25225, 25756, 26263, 26836, 27410, 28040, 28666, 29593, 30574, 31857, 33205, 34507, 35983, 37710, 40186, 43243, 47100, 51298, 56468, 61686, 68022, 76938, 88446, 100753, 115883, 132955]\n",
      "\n",
      "val_data=\n",
      " [150808, 173942, 202418, 232402, 268569, 314983, 357271, 397504, 448323, 505455, 570870, 635870, 699824, 768543]\n"
     ]
    }
   ],
   "source": [
    "daily_cases = y_list\n",
    "print(\"有\", len(y_list),\"天的數據\")\n",
    "val_data_size = 14  # 設定切多少天當驗證集\n",
    "train_data = daily_cases[:-val_data_size]  # 取前面\n",
    "val_data = daily_cases[len(train_data):]  # 取後面\n",
    "print(\"\\n訓練集\",len(train_data),\"天\\n預測集\",len(val_data),\"天\")\n",
    "\n",
    "print(\"\\ntrain_data=\\n\",train_data)\n",
    "print(\"\\nval_data=\\n\",val_data)"
   ]
  },
  {
   "cell_type": "code",
   "execution_count": null,
   "id": "491992cd",
   "metadata": {},
   "outputs": [],
   "source": []
  }
 ],
 "metadata": {
  "kernelspec": {
   "display_name": "Python 3 (ipykernel)",
   "language": "python",
   "name": "python3"
  },
  "language_info": {
   "codemirror_mode": {
    "name": "ipython",
    "version": 3
   },
   "file_extension": ".py",
   "mimetype": "text/x-python",
   "name": "python",
   "nbconvert_exporter": "python",
   "pygments_lexer": "ipython3",
   "version": "3.7.13"
  }
 },
 "nbformat": 4,
 "nbformat_minor": 5
}
