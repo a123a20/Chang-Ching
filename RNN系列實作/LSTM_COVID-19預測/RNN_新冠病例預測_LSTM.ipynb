{
 "cells": [
  {
   "cell_type": "markdown",
   "id": "f2792488",
   "metadata": {},
   "source": [
    "# 學習日期: 2022/5/9\n",
    "## 目標: 透過LSTM模型，預測COVID-19確診人數\n",
    "- **參考資料1:** https://jishuin.proginn.com/p/763bfbd700c2\n",
    "- **參考資料2:** https://github.com/CSSEGISandData/COVID-19\n",
    "- **待研究資料1:** https://blog.csdn.net/helldoger/article/details/107132546"
   ]
  },
  {
   "cell_type": "markdown",
   "id": "a7c84add",
   "metadata": {},
   "source": [
    "## 1. 數據分析"
   ]
  },
  {
   "cell_type": "code",
   "execution_count": 1,
   "id": "af4e1582",
   "metadata": {},
   "outputs": [],
   "source": [
    "import torch\n",
    "\n",
    "import os\n",
    "import numpy as np\n",
    "import pandas as pd\n",
    "from tqdm import tqdm\n",
    "#import seaborn as sns\n",
    "from pylab import rcParams\n",
    "import matplotlib.pyplot as plt\n",
    "from matplotlib import rc\n",
    "from sklearn.preprocessing import MinMaxScaler\n",
    "from pandas.plotting import register_matplotlib_converters\n",
    "from torch import nn, optim\n",
    "from sklearn.metrics import r2_score  # R_Score"
   ]
  },
  {
   "cell_type": "code",
   "execution_count": 2,
   "id": "e9f8b82c",
   "metadata": {
    "scrolled": false
   },
   "outputs": [
    {
     "name": "stdout",
     "output_type": "stream",
     "text": [
      "  Province/State Country/Region       Lat       Long  2020-1-22  2020-1-23  \\\n",
      "0            NaN    Afghanistan  33.93911  67.709953          0          0   \n",
      "1            NaN        Albania  41.15330  20.168300          0          0   \n",
      "2            NaN        Algeria  28.03390   1.659600          0          0   \n",
      "3            NaN        Andorra  42.50630   1.521800          0          0   \n",
      "4            NaN         Angola -11.20270  17.873900          0          0   \n",
      "\n",
      "   2020-1-24  2020-1-25  2020-1-26  2020-1-27  ...  2021-12-22  2021-12-23  \\\n",
      "0          0          0          0          0  ...      157841      157878   \n",
      "1          0          0          0          0  ...      206616      206935   \n",
      "2          0          0          0          0  ...      215430      215723   \n",
      "3          0          0          0          0  ...       21372       21571   \n",
      "4          0          0          0          0  ...       67199       68362   \n",
      "\n",
      "   2021-12-24  2021-12-25  2021-12-26  2021-12-27  2021-12-28  2021-12-29  \\\n",
      "0      157887      157895      157951      157967      157998      158037   \n",
      "1      207221      207542      207709      207709      208352      208899   \n",
      "2      216098      216376      216637      216930      217265      217647   \n",
      "3       21730       21730       21730       22332       22540       22823   \n",
      "4       70221       71142       71752       71752       76787       78475   \n",
      "\n",
      "   2021-12-30  2021-12-31  \n",
      "0      158056      158084  \n",
      "1      208899      210224  \n",
      "2      218037      218432  \n",
      "3       23122       23740  \n",
      "4       79871       81593  \n",
      "\n",
      "[5 rows x 714 columns]\n"
     ]
    }
   ],
   "source": [
    "df = pd.read_csv('2020-2021_time_series_covid19_confirmed_global.csv')  # 將csv載入到DataFrame中; usecols=指定載入的行名\n",
    "#df = pd.read_csv('2020-2021_time_series_covid19_confirmed_global.csv', usecols = [\"Lat\",\"Long\"])\n",
    "print(df.head())"
   ]
  },
  {
   "cell_type": "code",
   "execution_count": 3,
   "id": "c1224ff3",
   "metadata": {},
   "outputs": [
    {
     "name": "stdout",
     "output_type": "stream",
     "text": [
      "   2020-1-22  2020-1-23  2020-1-24  2020-1-25  2020-1-26  2020-1-27  \\\n",
      "0          0          0          0          0          0          0   \n",
      "1          0          0          0          0          0          0   \n",
      "2          0          0          0          0          0          0   \n",
      "3          0          0          0          0          0          0   \n",
      "4          0          0          0          0          0          0   \n",
      "\n",
      "   2020-1-28  2020-1-29  2020-1-30  2020-1-31  ...  2021-12-22  2021-12-23  \\\n",
      "0          0          0          0          0  ...      157841      157878   \n",
      "1          0          0          0          0  ...      206616      206935   \n",
      "2          0          0          0          0  ...      215430      215723   \n",
      "3          0          0          0          0  ...       21372       21571   \n",
      "4          0          0          0          0  ...       67199       68362   \n",
      "\n",
      "   2021-12-24  2021-12-25  2021-12-26  2021-12-27  2021-12-28  2021-12-29  \\\n",
      "0      157887      157895      157951      157967      157998      158037   \n",
      "1      207221      207542      207709      207709      208352      208899   \n",
      "2      216098      216376      216637      216930      217265      217647   \n",
      "3       21730       21730       21730       22332       22540       22823   \n",
      "4       70221       71142       71752       71752       76787       78475   \n",
      "\n",
      "   2021-12-30  2021-12-31  \n",
      "0      158056      158084  \n",
      "1      208899      210224  \n",
      "2      218037      218432  \n",
      "3       23122       23740  \n",
      "4       79871       81593  \n",
      "\n",
      "[5 rows x 710 columns]\n"
     ]
    }
   ],
   "source": [
    "df = df.iloc[:,4:]  # 切掉不要的行(column_index)\n",
    "print(df.head())  # 內容值=0,157841... ;  column_index=2020-1-22... ;  row_index=0,1,2,3"
   ]
  },
  {
   "cell_type": "code",
   "execution_count": 4,
   "id": "697fe986",
   "metadata": {},
   "outputs": [
    {
     "name": "stdout",
     "output_type": "stream",
     "text": [
      "0\n"
     ]
    }
   ],
   "source": [
    "isnull = df.isnull().sum().sum()  #檢查缺失值\n",
    "print(isnull)"
   ]
  },
  {
   "cell_type": "code",
   "execution_count": 5,
   "id": "2cfb9e82",
   "metadata": {},
   "outputs": [
    {
     "name": "stdout",
     "output_type": "stream",
     "text": [
      "數據=\n",
      " 2020-1-22     557\n",
      "2020-1-23     657\n",
      "2020-1-24     944\n",
      "2020-1-25    1437\n",
      "2020-1-26    2120\n",
      "dtype: int64\n",
      "日期=\n",
      " Index(['2020-1-22', '2020-1-23', '2020-1-24', '2020-1-25', '2020-1-26',\n",
      "       '2020-1-27', '2020-1-28', '2020-1-29', '2020-1-30', '2020-1-31',\n",
      "       ...\n",
      "       '2021-12-22', '2021-12-23', '2021-12-24', '2021-12-25', '2021-12-26',\n",
      "       '2021-12-27', '2021-12-28', '2021-12-29', '2021-12-30', '2021-12-31'],\n",
      "      dtype='object', length=710)\n",
      "日期(智慧轉換)= DatetimeIndex(['2020-01-22', '2020-01-23', '2020-01-24', '2020-01-25',\n",
      "               '2020-01-26', '2020-01-27', '2020-01-28', '2020-01-29',\n",
      "               '2020-01-30', '2020-01-31',\n",
      "               ...\n",
      "               '2021-12-22', '2021-12-23', '2021-12-24', '2021-12-25',\n",
      "               '2021-12-26', '2021-12-27', '2021-12-28', '2021-12-29',\n",
      "               '2021-12-30', '2021-12-31'],\n",
      "              dtype='datetime64[ns]', length=710, freq=None)\n"
     ]
    }
   ],
   "source": [
    "daily_cases = df.sum(axis=0)  # 0:每一列的內容值互相相加 (列1+...+列n =列sum_下面);  1:每一行的內容值相加 (=行sum_右邊)\n",
    "print(\"數據=\\n\",daily_cases.head())\n",
    "print(\"日期=\\n\",daily_cases.index)\n",
    "\n",
    "daily_cases.index = pd.to_datetime(daily_cases.index)  # column index(時間)的智慧轉換\n",
    "\n",
    "print(\"日期(智慧轉換)=\",daily_cases.index)"
   ]
  },
  {
   "cell_type": "code",
   "execution_count": 6,
   "id": "b7e53f38",
   "metadata": {},
   "outputs": [
    {
     "data": {
      "image/png": "[encoded data removed]",
      "text/plain": [
       "<Figure size 576x432 with 1 Axes>"
      ]
     },
     "metadata": {
      "needs_background": "light"
     },
     "output_type": "display_data"
    }
   ],
   "source": [
    "x = daily_cases.index  # 取column index(2020-01)\n",
    "y = daily_cases.values  # 取DataFrame的內容值\n",
    "\n",
    "plt.figure(figsize=(8,6))\n",
    "plt.title('Cumulative daily cases')\n",
    "plt.plot(x, y)\n",
    "plt.show()"
   ]
  },
  {
   "cell_type": "code",
   "execution_count": 7,
   "id": "ce457e6f",
   "metadata": {},
   "outputs": [
    {
     "name": "stdout",
     "output_type": "stream",
     "text": [
      "原本累加:\n",
      "2020-01-22     557\n",
      "2020-01-23     657\n",
      "2020-01-24     944\n",
      "2020-01-25    1437\n",
      "2020-01-26    2120\n",
      "dtype: int64\n",
      "\n",
      "轉成每日數量:\n",
      "2020-01-22      NaN\n",
      "2020-01-23    100.0\n",
      "2020-01-24    287.0\n",
      "2020-01-25    493.0\n",
      "2020-01-26    683.0\n",
      "dtype: float64\n",
      "\n",
      "填充NaN值後:\n",
      "2020-01-22    557.0\n",
      "2020-01-23    100.0\n",
      "2020-01-24    287.0\n",
      "2020-01-25    493.0\n",
      "2020-01-26    683.0\n",
      "dtype: float64\n",
      "\n",
      "轉int後:\n",
      "2020-01-22    557\n",
      "2020-01-23    100\n",
      "2020-01-24    287\n",
      "2020-01-25    493\n",
      "2020-01-26    683\n",
      "dtype: int64\n",
      "\n",
      "Shape:  (710,)\n"
     ]
    }
   ],
   "source": [
    "print(\"原本累加:\")\n",
    "print(daily_cases.head())\n",
    "\n",
    "print(\"\\n轉成每日數量:\")\n",
    "temp = daily_cases.diff()  #預設是計算每一列做相減\n",
    "print(temp.head())\n",
    "\n",
    "print(\"\\n填充NaN值後:\")\n",
    "daily_cases = temp.fillna(value=daily_cases[0])\n",
    "print(daily_cases.head())\n",
    "\n",
    "print(\"\\n轉int後:\")\n",
    "daily_cases = daily_cases.astype(np.int64)  # 轉成int64\n",
    "print(daily_cases.head())\n",
    "\n",
    "print(\"\\nShape: \",daily_cases.shape)"
   ]
  },
  {
   "cell_type": "code",
   "execution_count": 8,
   "id": "61a9d371",
   "metadata": {},
   "outputs": [
    {
     "data": {
      "image/png": "[encoded data removed]",
      "text/plain": [
       "<Figure size 576x432 with 1 Axes>"
      ]
     },
     "metadata": {
      "needs_background": "light"
     },
     "output_type": "display_data"
    }
   ],
   "source": [
    "x = daily_cases.index  # 取column index(2020-01)\n",
    "y = daily_cases.values  # 取DataFrame的內容值\n",
    "\n",
    "plt.figure(figsize=(8,6))\n",
    "plt.title('Daily cases')\n",
    "plt.plot(x, y)\n",
    "plt.show()"
   ]
  },
  {
   "cell_type": "markdown",
   "id": "cb4b56b3",
   "metadata": {},
   "source": [
    "## 2. 數據預處理"
   ]
  },
  {
   "cell_type": "code",
   "execution_count": 9,
   "id": "b8f35a0f",
   "metadata": {},
   "outputs": [
    {
     "name": "stdout",
     "output_type": "stream",
     "text": [
      "有 710 天的數據\n",
      "\n",
      "訓練集 467 天\n",
      "預測集 243 天\n",
      "\n",
      "train_data=\n",
      " 2020-01-22       557\n",
      "2020-01-23       100\n",
      "2020-01-24       287\n",
      "2020-01-25       493\n",
      "2020-01-26       683\n",
      "               ...  \n",
      "2021-04-28    898624\n",
      "2021-04-29    895026\n",
      "2021-04-30    891776\n",
      "2021-05-01    794957\n",
      "2021-05-02    687177\n",
      "Length: 467, dtype: int64\n",
      "\n",
      "val_data=\n",
      " 2021-05-03     689172\n",
      "2021-05-04     785654\n",
      "2021-05-05     842368\n",
      "2021-05-06     872575\n",
      "2021-05-07     834989\n",
      "               ...   \n",
      "2021-12-27    1268219\n",
      "2021-12-28    1326584\n",
      "2021-12-29    1696421\n",
      "2021-12-30    1942505\n",
      "2021-12-31    1745974\n",
      "Length: 243, dtype: int64\n"
     ]
    }
   ],
   "source": [
    "print(\"有\", daily_cases.size,\"天的數據\")\n",
    "val_data_size = 243\n",
    "train_data = daily_cases[:-val_data_size]  # 取前面\n",
    "val_data = daily_cases[train_data.size:]  # 取後面\n",
    "print(\"\\n訓練集\",train_data.size,\"天\\n預測集\",val_data.size,\"天\")\n",
    "\n",
    "print(\"\\ntrain_data=\\n\",train_data)\n",
    "print(\"\\nval_data=\\n\",val_data)"
   ]
  },
  {
   "cell_type": "code",
   "execution_count": 10,
   "id": "ec2f594e",
   "metadata": {},
   "outputs": [
    {
     "name": "stdout",
     "output_type": "stream",
     "text": [
      "轉換前:\n",
      "[[557]\n",
      " [100]\n",
      " [287]\n",
      " [493]\n",
      " [683]]\n",
      "train_data shape= (467, 1)\n",
      "\n",
      "轉換後:\n",
      "[[0.00030536]\n",
      " [0.        ]\n",
      " [0.00012495]\n",
      " [0.00026259]\n",
      " [0.00038955]]\n"
     ]
    }
   ],
   "source": [
    "# 提高模型的\"訓練速度\"、\"性能\" ---> 按比例縮放數據(0~1)\n",
    "# 使用scikit-learn的MinMaxScaler(最小最大值標準化)\n",
    "# Reference: https://cloud.tencent.com/developer/article/1770568\n",
    "\n",
    "# 注意: 是用train data進行擬合fit(模型)，然後對 train & val 都用此模型進行 trainsform (因fit兩次會造成在不同標準下做trainsform)\n",
    "## train: fit + transform\n",
    "## val: transform\n",
    "\n",
    "# DataFrame(467行) -> values內容值(467列,1行)\n",
    "train_data = np.expand_dims(train_data, axis=1)  # (467列，1列存放1個數值)\n",
    "val_data = np.expand_dims(val_data, axis=1)    # axis=1: (467) -> (467,1)\n",
    "\n",
    "print(\"轉換前:\")\n",
    "print(train_data[:5])\n",
    "\n",
    "# 1. fit: (做完就包含數據分布情況，但未歸一化)\n",
    "scaler_type = MinMaxScaler()  # 選擇計算類型\n",
    "scaler = scaler_type.fit(train_data)  # 自動算出\"最大值\" \"最小值\"\n",
    "#print(scaler.data_max_)  # 測試: 最大值\n",
    "\n",
    "\n",
    "# 2. transform: (train)\n",
    "print(\"train_data shape=\", train_data.shape)\n",
    "train_data = scaler.transform(train_data)  # 歸一化 (意思是，將數據壓縮到0-1之間，對應MinMax規範方法)\n",
    "    # 歸一化可以消除量綱對最終結果的影響，使不同變數具有可比性。\n",
    "    # 例子: 比如兩個人體重差10KG，身高差0.02M，在衡量兩個人的差別時體重的差距會把身高的差距完全掩蓋，歸一化之後就不會有這樣的問題。\n",
    "    \n",
    "print(\"\\n轉換後:\")\n",
    "print(train_data[:5])\n",
    "\n",
    "# 2. transform: (val)\n",
    "# val_data = (243, 1)\n",
    "val_data = scaler.transform(val_data)"
   ]
  },
  {
   "cell_type": "code",
   "execution_count": 11,
   "id": "0d486d73",
   "metadata": {},
   "outputs": [
    {
     "name": "stdout",
     "output_type": "stream",
     "text": [
      "train data= 467 \n",
      "\n",
      "train x= torch.Size([459, 7, 1])\n",
      "train y= torch.Size([459, 1]) \n",
      "\n",
      "tensor([[0.0003],\n",
      "        [0.0000],\n",
      "        [0.0001],\n",
      "        [0.0003],\n",
      "        [0.0004],\n",
      "        [0.0005],\n",
      "        [0.0017]], dtype=torch.float64) \n",
      "\n",
      "tensor([[0.0003],\n",
      "        [0.0000],\n",
      "        [0.0001],\n",
      "        [0.0003],\n",
      "        [0.0004],\n",
      "        [0.0005],\n",
      "        [0.0017]])\n"
     ]
    }
   ],
   "source": [
    "# 七天一個循環 (x:前7天  y_label:第8天)\n",
    "\n",
    "print(\"train data=\",len(train_data),\"\\n\")\n",
    "data = train_data\n",
    "\n",
    "def create_sequence(data, seq_length):\n",
    "    x_list = []\n",
    "    y_list = []\n",
    "    for i in range(len(data)-seq_length-1):  # 因最後要多一筆label data，所以-1\n",
    "        x = data[i:i+seq_length]  # 0~6\n",
    "        y = data[i+seq_length]  # 7\n",
    "        x_list.append(x)\n",
    "        y_list.append(y)\n",
    "        \n",
    "    return np.array(x_list), np.array(y_list)\n",
    "\n",
    "seq_length = 7  # time_step\n",
    "\n",
    "train_x, train_y = create_sequence(train_data, seq_length)\n",
    "val_x, val_y = create_sequence(val_data, seq_length)\n",
    "\n",
    "train_x = torch.from_numpy(train_x)\n",
    "train_y = torch.from_numpy(train_y).float()\n",
    "val_x = torch.from_numpy(val_x).float()\n",
    "val_y = torch.from_numpy(val_y).float()\n",
    "\n",
    "print(\"train x=\",train_x.shape)\n",
    "print(\"train y=\",train_y.shape,\"\\n\")\n",
    "print(train_x[0],\"\\n\")  # !!!原本數據類型: float64 -> 餵入model數據 要轉成 float32 才能run\n",
    "\n",
    "train_x = train_x.float()  # float64 -> float32\n",
    "print(train_x[0])"
   ]
  },
  {
   "cell_type": "markdown",
   "id": "7c20a20b",
   "metadata": {},
   "source": [
    "## 3. 建立模型-LSTM"
   ]
  },
  {
   "cell_type": "code",
   "execution_count": 12,
   "id": "bb6af7c8",
   "metadata": {},
   "outputs": [],
   "source": [
    "\n",
    "class LSTM(nn.Module):\n",
    "    def __init__(self, input_size, hidden_size, num_layers, dropout, seq_length):  # 這裡加入要傳入的參數，使用時記得要加self.X = X\n",
    "        super(LSTM, self).__init__()\n",
    "        \n",
    "        # 導入參數\n",
    "        self.input_size = input_size\n",
    "        self.hidden_size = hidden_size\n",
    "        self.num_layers = num_layers\n",
    "        self.dropout = dropout\n",
    "        self.seq_length = seq_length\n",
    "        \n",
    "        # model設計\n",
    "        self.rnn = nn.LSTM(\n",
    "            input_size = input_size,  # input shape\n",
    "            hidden_size = hidden_size,  # output shape\n",
    "            num_layers = num_layers,\n",
    "            dropout = dropout\n",
    "            #batch_first = True  # 只是做 原(459,7,1) -> (7,459,1)，這次沒有設batch_size，固batch_size=459 (全部data)\n",
    "                                 # (batch_size, time_step, input_size) batch已經在最前面，不需再batch_first\n",
    "        )\n",
    "        self.out = nn.Linear(hidden_size, 1)  # (in_features, out_features)->(512, 1)\n",
    "        \n",
    "    def reset_hidden_state(self):  # 清空inputs的 h_0, c_0 (state)->讓每個epoch開始訓練 都是空的state\n",
    "        self.h_0 = torch.zeros(self.num_layers, self.seq_length, self.hidden_size)  # 透過self，抓取外界傳入的參數(初始化需先導入)\n",
    "        self.c_0 = torch.zeros(self.num_layers, self.seq_length, self.hidden_size)\n",
    "        \n",
    "    def forward(self, x):\n",
    "        \"\"\"\n",
    "        x: (batch_size, time_step(seq_length), input_size)\n",
    "        h_n = 最後一個time_step的 \"hidden state\" (輸出)   h_n = lstm_out[:,-1,:]\n",
    "        c_n = 最後一個time_step的 \"cell state\" (cell當前狀態)\n",
    "        \"\"\"\n",
    "        \n",
    "        # 若有使用gpu，hidden tensor也需移到gpu\n",
    "        if use_GPU == True and torch.cuda.is_available() == True:\n",
    "            self.h_0, self.c_0 = self.h_0.cuda(), self.c_0.cuda()\n",
    "            \n",
    "        #---x: (459, 7, 1)    \n",
    "        lstm_out, (self.h_n, self.c_n) = self.rnn(x, (self.h_0, self.c_0))  # 1 -> 512 \n",
    "        #---lstm_out: (459, 7, 512)\n",
    "        \n",
    "        # 查看hidden_state (tuple → tensor)\n",
    "        #hidden_state = torch.stack(list((self.h_0,self.c_0)), dim=0)  # h_n, c_n = hidden_state = (2, num_layers, 7, 512)\n",
    "        #print(hidden_state.shape)  # hidden_state: ( (h,c), num_layers, time_step(seq_length), hidden_size)\n",
    "        \n",
    "        #---lstm_out: (459, 7, 512)\n",
    "        last_time_step = lstm_out.view(seq_length, len(x), hidden_size)  # 改變數據shape (取出 7的最後一個 時間步(time_step) 的輸出)\n",
    "        #---last_time_step: (7, 459, 512)\n",
    "        last_time_step = last_time_step[-1]  # 取0~6的最後一列\n",
    "        #---last_time_step: (459, 512)\n",
    "        output = self.out(last_time_step)  # (459, 512) -> (459, 1)\n",
    "        #---output: (459, 1)  # 459列 預測的結果\n",
    "        return output  # y_predict"
   ]
  },
  {
   "cell_type": "raw",
   "id": "7e26ad7c",
   "metadata": {},
   "source": [
    "# linear分類器-小例子\n",
    "np.random.seed(42)  # 強迫固定亂數，方便研究\n",
    "torch.manual_seed(42)\n",
    "x = torch.randn(4,2,1)\n",
    "print(x.shape)\n",
    "\n",
    "x = x.view(8,-1)  #展平成n列1行\n",
    "print(x.shape)\n",
    "print(x)"
   ]
  },
  {
   "attachments": {
    "image.png": {
     "image/png": "[encoded data removed]"
    }
   },
   "cell_type": "markdown",
   "id": "ff17a3fa",
   "metadata": {},
   "source": [
    "[lstm_out、h_n 和 c_n 之間的關係](https://blog.csdn.net/sdnuwjw/article/details/111221937)\n",
    "![image.png](attachment:image.png)"
   ]
  },
  {
   "cell_type": "markdown",
   "id": "d764bb0f",
   "metadata": {},
   "source": [
    "## 訓練模型\n",
    "- 回歸模型評估指標 [[總覽1](https://www.cnblogs.com/HuZihu/p/10300760.html)] [[總覽2](https://blog.csdn.net/lch551218/article/details/113573931)]\n",
    "    - [R squared](https://medium.com/qiubingcheng/%E5%9B%9E%E6%AD%B8%E5%88%86%E6%9E%90-regression-analysis-%E7%9A%84r%E5%B9%B3%E6%96%B9-r-squared-%E8%88%87%E8%AA%BF%E6%95%B4%E5%BE%8Cr%E5%B9%B3%E6%96%B9-adjusted-r-squared-f38ad733bc4e) ([2](https://blog.csdn.net/jpld/article/details/103526882?utm_medium=distribute.pc_relevant.none-task-blog-2~default~baidujs_baidulandingword~default-0-103526882-blog-80061191.pc_relevant_default&spm=1001.2101.3001.4242.1&utm_relevant_index=2)) ([3](https://blog.csdn.net/jpld/article/details/103526882?utm_medium=distribute.pc_relevant.none-task-blog-2~default~baidujs_baidulandingword~default-0-103526882-blog-80061191.pc_relevant_default&spm=1001.2101.3001.4242.1&utm_relevant_index=2)) ([判斷標準](http://amebse.nchu.edu.tw/new_page_535.htm))"
   ]
  },
  {
   "cell_type": "code",
   "execution_count": 13,
   "id": "776c236b",
   "metadata": {},
   "outputs": [],
   "source": [
    "def train_model(model, epoch, lr, train_data, train_label, val_data, val_label, use_GPU, performance_eval):\n",
    "    # 設定loss模型 + 優化器\n",
    "    loss_fn = torch.nn.MSELoss(reduction='sum')  # 默認'mean'\n",
    "    optim = torch.optim.Adam(params=model.parameters(), lr=lr)\n",
    "    # 動態調整學習率\n",
    "    #lr_scheduler = torch.optim.lr_scheduler.ReduceLROnPlateau(optimizer=optim, mode='min', factor=0.1, patience=100, min_lr=0.00001)\n",
    "    \n",
    "    # 回歸模型的表現評價指標（Regression Model Performance Evaluation Metric）\n",
    "    if performance_eval == 'MAE':  # https://pytorch.org/docs/stable/generated/torch.nn.L1Loss.html#torch.nn.L1Loss\n",
    "        evaluation_func = torch.nn.L1Loss(reduction='mean')  # (平均絕對誤差) MAE = sum(|y-x|)的平均\n",
    "        best_evaluation = 1.0  # 初始最高，越低越好\n",
    "    elif performance_eval == 'MSE':  # https://pytorch.org/docs/stable/generated/torch.nn.MSELoss.html#torch.nn.MSELoss\n",
    "        evaluation_func = torch.nn.MSELoss(reduction='mean')  # (均方誤差) MSE = sum((y-x)^2)的平均\n",
    "        best_evaluation = 1.0  # 初始最高，越低越好\n",
    "    elif performance_eval == 'R_square':  # https://scikit-learn.org/stable/modules/generated/sklearn.metrics.r2_score.html\n",
    "        evaluation_func = torch.nn.MSELoss(reduction='sum')\n",
    "        best_evaluation = -10.0  # 初始最低，越高越好\n",
    "    elif performance_eval == 'MAPE':\n",
    "        evaluation_func = None\n",
    "        best_evaluation = 100.0  # 初始最高，越低越好  # https://stats.stackexchange.com/questions/58391/mean-absolute-percentage-error-mape-in-scikit-learn\n",
    "        \n",
    "\n",
    "    # 保存loss歷史數據，plt看圖用\n",
    "    train_loss_list = np.zeros(epoch)\n",
    "    val_loss_list = np.zeros(epoch)\n",
    "\n",
    "    # 數據轉移到GPU運算\n",
    "    if use_GPU == True and torch.cuda.is_available() == True:\n",
    "        model.cuda()  # model參數計算 -> 移到GPU\n",
    "        train_data, train_label = train_data.cuda(), train_label.cuda()\n",
    "        val_data, val_label = val_data.cuda(), val_label.cuda()\n",
    "        \n",
    "\n",
    "    \n",
    "    # 開始訓練epoch\n",
    "    for i in range(epoch):\n",
    "        model.train()  # 開啟訓練模式 (因驗證時會改成eval模式)\n",
    "        model.reset_hidden_state()  # 無狀態LSTM\n",
    "        \n",
    "        #---train_data: (459, 7, 1)\n",
    "        y_pred = model(train_data)\n",
    "        #---y_pred: (459, 1)\n",
    "                \n",
    "        # 比較data差異\n",
    "        #print(train_label[5])\n",
    "        #print(y_pred[5])\n",
    "        \n",
    "        # 計算loss\n",
    "        loss = loss_fn(train_label, y_pred)  # (y_predict, y_label)\n",
    "        \n",
    "        # 加入測試集-驗證+評估最佳模型\n",
    "        if val_data is not None:\n",
    "            with torch.no_grad():  # 被該語句包裹起來的程式碼，就不會被追蹤gradient\n",
    "                y_pred_val = model(val_data)\n",
    "                loss_val = loss_fn(val_label, y_pred_val)\n",
    "                \n",
    "                # 使用val_data評估回歸模型表現的指標----------------------------------\n",
    "                if performance_eval == 'MAE' or performance_eval == 'MSE':\n",
    "                    evaluation = evaluation_func(val_label, y_pred_val)  # 導入模型評估指標\n",
    "                    if best_evaluation > evaluation.item():\n",
    "                        best_evaluation = evaluation.item()  # 最佳模型評估指標\n",
    "                        # 保存模型\n",
    "                        torch.save(model,'best_model.pth')  # 根據評估指標-保存最佳模型\n",
    "                elif performance_eval == 'R_square':\n",
    "                    # 手刻R_square:\n",
    "                    # R_square = 1 - {sum((y-x)^2) / sum((y-y平均)^2)}\n",
    "                    evaluation = evaluation_func(val_label, y_pred_val)\n",
    "                    evaluation = evaluation.item() / np.sum( np.square( val_label.cpu().numpy() - np.mean(val_label.cpu().numpy()) ) )\n",
    "                    evaluation = 1 - evaluation\n",
    "                    #evaluation = r2_score(val_label.cpu(), y_pred_val.cpu())  # 利用sklearn，快速導入R_square評估指標\n",
    "                    if best_evaluation < evaluation:\n",
    "                        best_evaluation = evaluation\n",
    "                        # 保存模型\n",
    "                        torch.save(model,'best_model.pth')\n",
    "                elif performance_eval == 'MAPE':\n",
    "                    # 手刻MAPE:\n",
    "                    evaluation = np.mean(np.abs(val_label.cpu().numpy() - y_pred_val.cpu().numpy()) / np.abs(val_label.cpu().numpy()))*100\n",
    "                    if best_evaluation > evaluation:\n",
    "                        best_evaluation = evaluation\n",
    "                        # 保存模型\n",
    "                        torch.save(model,'best_model.pth')\n",
    "                #-------------------------------------------------------\n",
    "                \n",
    "            val_loss_list[i] = loss_val.item()  # 保存loss_val history\n",
    "            \n",
    "            # 每十回合印出那一個回合的loss值(非最佳)，\"評估最佳指標\"才是每回合的(最佳)\n",
    "            if (i%10 == 0) or (i == epoch-1):  # 最後一個epoch也印出\n",
    "                print(f'Epoch {i}  train loss: {loss.item():.4f}  val loss: {loss_val.item():.4f}    最佳評估指標 {performance_eval}= {best_evaluation:.4f}')  # :.4f 取小數後四位\n",
    "                \n",
    "        elif i%10 == 0:\n",
    "            print(f'Epoch {i}  train loss: {loss.item()}')  # .item(): tensor->內容值(values)\n",
    "        \n",
    "        train_loss_list[i] = loss.item()  # 保存loss history\n",
    "\n",
    "        # 動態調整學習率\n",
    "        #lr_scheduler.step(best_evaluation)\n",
    "        \n",
    "        # 固定不變\n",
    "        optim.zero_grad()\n",
    "        loss.backward()\n",
    "        optim.step()\n",
    "\n",
    "    return model.eval(), train_loss_list, val_loss_list  # model.eval() 因後面是測試模式"
   ]
  },
  {
   "cell_type": "code",
   "execution_count": 14,
   "id": "e5a1714f",
   "metadata": {
    "scrolled": false
   },
   "outputs": [
    {
     "name": "stdout",
     "output_type": "stream",
     "text": [
      "GPU總共有 1 個\n",
      "顯示卡: NVIDIA GeForce RTX 3060 Laptop GPU\n",
      "\n",
      "查看餵入的數據shape是否正確:\n",
      "x = torch.Size([459, 7, 1])   (batch_size, time_step, input_size)\n",
      "\n",
      "Epoch 0  train loss: 31.6185  val loss: 31.8093    最佳評估指標 MAPE= 94.2364\n",
      "Epoch 10  train loss: 11.7834  val loss: 8.7025    最佳評估指標 MAPE= 21.8954\n",
      "Epoch 20  train loss: 8.9955  val loss: 7.3634    最佳評估指標 MAPE= 21.8954\n",
      "Epoch 30  train loss: 11.8142  val loss: 11.7897    最佳評估指標 MAPE= 21.8954\n",
      "Epoch 40  train loss: 9.6038  val loss: 6.5325    最佳評估指標 MAPE= 20.8858\n",
      "Epoch 50  train loss: 7.9979  val loss: 4.8720    最佳評估指標 MAPE= 20.8858\n",
      "Epoch 60  train loss: 5.8161  val loss: 3.7814    最佳評估指標 MAPE= 18.4579\n",
      "Epoch 70  train loss: 3.9863  val loss: 3.6510    最佳評估指標 MAPE= 18.4579\n",
      "Epoch 80  train loss: 3.8469  val loss: 2.9804    最佳評估指標 MAPE= 18.0558\n",
      "Epoch 90  train loss: 3.4363  val loss: 3.3048    最佳評估指標 MAPE= 18.0558\n",
      "Epoch 100  train loss: 32.4547  val loss: 6.0440    最佳評估指標 MAPE= 18.0558\n",
      "Epoch 110  train loss: 14.6025  val loss: 14.7810    最佳評估指標 MAPE= 18.0558\n",
      "Epoch 120  train loss: 14.2792  val loss: 14.3015    最佳評估指標 MAPE= 18.0558\n",
      "Epoch 130  train loss: 11.4603  val loss: 9.1606    最佳評估指標 MAPE= 18.0558\n",
      "Epoch 140  train loss: 11.3301  val loss: 6.7714    最佳評估指標 MAPE= 18.0558\n",
      "Epoch 150  train loss: 11.1010  val loss: 6.5173    最佳評估指標 MAPE= 18.0558\n",
      "Epoch 160  train loss: 10.9368  val loss: 7.1936    最佳評估指標 MAPE= 18.0558\n",
      "Epoch 170  train loss: 10.8720  val loss: 7.4766    最佳評估指標 MAPE= 18.0558\n",
      "Epoch 180  train loss: 10.6821  val loss: 7.1995    最佳評估指標 MAPE= 18.0558\n",
      "Epoch 190  train loss: 10.6077  val loss: 7.0386    最佳評估指標 MAPE= 18.0558\n",
      "Epoch 199  train loss: 10.2623  val loss: 6.9346    最佳評估指標 MAPE= 18.0558\n"
     ]
    }
   ],
   "source": [
    "# 設定參數\n",
    "epoch = 200\n",
    "lr = 1e-3\n",
    "input_size = 1  # 若為圖片，size= W x H，這裡是確診人數，size= 1\n",
    "hidden_size = 512  # 隱藏層神經元數\n",
    "num_layers = 2  # LSTM層數\n",
    "dropout = 0.5\n",
    "seq_length = 7  # 就是time_step; 若要調值，上面 \"2.數據預處理-seq_length\" 也要改\n",
    "use_GPU = True\n",
    "performance_eval = 'MAPE'  # 模型評估指標: MSE、MAE、R_square、MAPE\n",
    "\n",
    "# 強迫固定亂數，方便研究用\n",
    "np.random.seed(1)\n",
    "torch.manual_seed(1)\n",
    "\n",
    "model = LSTM(input_size, hidden_size, num_layers, dropout, seq_length)  # Model: 跑了__init__初始化的東西\n",
    "\n",
    "# 查看GPU訊息\n",
    "if use_GPU == True:\n",
    "    if torch.cuda.is_available() == True:\n",
    "        GPU_num = torch.cuda.device_count()\n",
    "        print(f'GPU總共有 {GPU_num} 個')\n",
    "        print(f'顯示卡: {torch.cuda.get_device_name(0)}\\n')  # 0: 第0張顯示卡\n",
    "        os.environ[\"CUDA_VISIBLE_DEVICES\"] = \"0\"  # 如果GPU0正在運行程序，需要指定其他GPU時使用 (需 import os)\n",
    "    else:\n",
    "        print(f'我沒有GPU')\n",
    "        \n",
    "# 查看餵入的數據shape是否正確\n",
    "print(\"查看餵入的數據shape是否正確:\")\n",
    "print(\"x =\",train_x.shape, \"  (batch_size, time_step, input_size)\\n\")\n",
    "\n",
    "\n",
    "# 開始訓練\n",
    "model, train_loss_list, val_loss_list = train_model(model, epoch, lr, train_x, train_y, val_x, val_y, use_GPU, performance_eval) \n",
    "# Model: 跑了forward的東西\n",
    "# 這裡的model = .eval()測試模式"
   ]
  },
  {
   "cell_type": "code",
   "execution_count": 15,
   "id": "504579d0",
   "metadata": {
    "scrolled": false
   },
   "outputs": [
    {
     "data": {
      "text/plain": [
       "<matplotlib.legend.Legend at 0x23ca37cc388>"
      ]
     },
     "execution_count": 15,
     "metadata": {},
     "output_type": "execute_result"
    },
    {
     "data": {
      "image/png": "[encoded data removed]",
      "text/plain": [
       "<Figure size 432x288 with 1 Axes>"
      ]
     },
     "metadata": {
      "needs_background": "light"
     },
     "output_type": "display_data"
    }
   ],
   "source": [
    "plt.plot(train_loss_list, label='Train loss')\n",
    "plt.plot(val_loss_list, label='Val loss')\n",
    "plt.ylim((0, 30))\n",
    "plt.legend()"
   ]
  },
  {
   "cell_type": "markdown",
   "id": "86ee2c1a",
   "metadata": {},
   "source": [
    "## 預測未來幾天病例"
   ]
  },
  {
   "cell_type": "code",
   "execution_count": 16,
   "id": "7032f3b9",
   "metadata": {},
   "outputs": [],
   "source": [
    "# 加載模型\n",
    "best_model = torch.load('best_model.pth')\n",
    "\n",
    "if use_GPU == True and torch.cuda.is_available() == True:\n",
    "    best_model.cuda()\n",
    "best_model.eval()  # 固定dropout和批次歸一化\n",
    "\n",
    "with torch.no_grad():\n",
    "    val_x = val_x.cuda()  # 轉回gpu\n",
    "    # val_x = (235, 7, 1)\n",
    "    val_seq_input = val_x[:1]\n",
    "    # val_seq_input = (1, 7, 1)\n",
    "    get_preds = []  # 存放model預測結果\"get\"\n",
    "    \n",
    "    # 把input前7天 + 透過模型預測的第8天 \"串接起來\" -> {右移一天} -> 此時input中上次預測的變第7天 + model -> 得到預測的第8天\n",
    "    # -> {迴圈下去} -> 使用預測值作為預測未來幾天的輸入\n",
    "    for _ in range(len(val_x)):\n",
    "        # val_seq_input = (1, 7, 1)\n",
    "        val_seq_pred = best_model(val_seq_input.cuda())\n",
    "        #print(val_seq_pred)\n",
    "        get = torch.flatten(val_seq_pred).item()  # get = 取出model預測的\"內容值\"\n",
    "        get_preds.append(get)  # 預測結果\"串接起來\"\n",
    "        new_seq = val_seq_input.cpu().numpy().flatten()  # shape = (7)\n",
    "        new_seq = np.append(new_seq, [get])  # shape = (8)\n",
    "        new_seq = new_seq[1:]  # 向右移一天\n",
    "        #print(new_seq)\n",
    "        val_seq_input = torch.as_tensor(new_seq).view(1, seq_length, 1).float()  # torch.Size([7]) -> torch.Size([1, 7, 1])\n",
    "        # val_seq_input = (1, 7, 1)"
   ]
  },
  {
   "cell_type": "code",
   "execution_count": 17,
   "id": "0e2432cf",
   "metadata": {},
   "outputs": [
    {
     "name": "stdout",
     "output_type": "stream",
     "text": [
      "(235,)\n",
      "(235,)\n"
     ]
    }
   ],
   "source": [
    "# 1. 撤銷val數據的normalize轉換比例 -> 逆縮放轉換 -> 得到原始數據\"全球確診人數\"\n",
    "# 2. val_y(真實) vs. get_preds(模型預測)\n",
    "\n",
    "#--------------------val_y(真實)---------------------\n",
    "# val_y = (235, 1)\n",
    "temp = np.expand_dims(val_y.flatten().numpy(), axis=0)  # 新增一維度 -> 0=[1, *, *], 1=[*, 1, *]\n",
    "# temp = (1, 235)\n",
    "#-----------------------------------\n",
    "# transform: (len(), 1)\n",
    "# inverse_transform: (1, len())\n",
    "#-----------------------------------\n",
    "# temp = (1, 235)\n",
    "true_cases = scaler.inverse_transform(temp)  # inverse_transform\n",
    "# true_cases = (1, 235)\n",
    "true_cases = true_cases.flatten()\n",
    "# true_case = (235)\n",
    "print(true_cases.shape)\n",
    "\n",
    "#--------------------get_preds(模型預測)---------------------\n",
    "# 做一樣的事\n",
    "pred_cases = scaler.inverse_transform(np.expand_dims(get_preds, axis=0)).flatten()\n",
    "print(pred_cases.shape)"
   ]
  },
  {
   "cell_type": "code",
   "execution_count": 18,
   "id": "774c2962",
   "metadata": {},
   "outputs": [
    {
     "name": "stdout",
     "output_type": "stream",
     "text": [
      "[[0.00030536]\n",
      " [0.        ]\n",
      " [0.00012495]\n",
      " [0.00026259]\n",
      " [0.00038955]]\n",
      "[557. 100. 287. 493. 683.]\n",
      "[557. 100. 287. 493. 683.]\n"
     ]
    }
   ],
   "source": [
    "# 測試下來，不用轉shape，也可以 (對應前面\"轉換前\")\n",
    "print(train_data[:5])\n",
    "a = scaler.inverse_transform(train_data).flatten()\n",
    "b = scaler.inverse_transform(np.expand_dims(train_data.flatten(), axis=0)).flatten()\n",
    "print(a[:5])\n",
    "print(b[:5])"
   ]
  },
  {
   "cell_type": "code",
   "execution_count": 19,
   "id": "2ffc7c80",
   "metadata": {
    "scrolled": true
   },
   "outputs": [
    {
     "data": {
      "text/plain": [
       "<matplotlib.legend.Legend at 0x23ca37dbc88>"
      ]
     },
     "execution_count": 19,
     "metadata": {},
     "output_type": "execute_result"
    },
    {
     "data": {
      "image/png": "[encoded data removed]",
      "text/plain": [
       "<Figure size 432x288 with 1 Axes>"
      ]
     },
     "metadata": {
      "needs_background": "light"
     },
     "output_type": "display_data"
    }
   ],
   "source": [
    "# plt.plot(x, y, label='')  (x=日期, y=全球確診人數) (必須len(x)=len(y)對應)\n",
    "plt.plot(daily_cases.index[:len(train_data)], scaler.inverse_transform(train_data).flatten(), label='Historical Daily Cases')  #已知確診人數\n",
    "plt.plot(daily_cases.index[len(train_data): len(train_data)+len(true_cases)], true_cases, label='Real Daily Cases')  # 預測之label\n",
    "plt.plot(daily_cases.index[len(train_data): len(train_data)+len(pred_cases)], pred_cases, label='Predicted Daily Cases')  # 預測之Output\n",
    "plt.legend()"
   ]
  },
  {
   "cell_type": "code",
   "execution_count": null,
   "id": "c259fc6f",
   "metadata": {},
   "outputs": [],
   "source": []
  }
 ],
 "metadata": {
  "kernelspec": {
   "display_name": "Python 3 (ipykernel)",
   "language": "python",
   "name": "python3"
  },
  "language_info": {
   "codemirror_mode": {
    "name": "ipython",
    "version": 3
   },
   "file_extension": ".py",
   "mimetype": "text/x-python",
   "name": "python",
   "nbconvert_exporter": "python",
   "pygments_lexer": "ipython3",
   "version": "3.7.13"
  }
 },
 "nbformat": 4,
 "nbformat_minor": 5
}
