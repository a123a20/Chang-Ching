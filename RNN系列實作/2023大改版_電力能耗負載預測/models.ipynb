{
 "cells": [
  {
   "cell_type": "markdown",
   "id": "56297631",
   "metadata": {},
   "source": [
    "# [AI模型]"
   ]
  },
  {
   "cell_type": "code",
   "execution_count": 1,
   "id": "99b150f3",
   "metadata": {},
   "outputs": [],
   "source": [
    "from torch import nn\n",
    "import torch\n",
    "\n",
    "device = torch.device(\"cuda\" if torch.cuda.is_available() else \"cpu\")"
   ]
  },
  {
   "cell_type": "markdown",
   "id": "a3122345",
   "metadata": {},
   "source": [
    "## LSTM"
   ]
  },
  {
   "cell_type": "code",
   "execution_count": 2,
   "id": "647bd713",
   "metadata": {},
   "outputs": [],
   "source": [
    "class LSTM(nn.Module):  # LSTM: https://pytorch.org/docs/stable/generated/torch.nn.LSTM.html\n",
    "    def __init__(self, input_size, hidden_size, num_layers, output_size, batch_size):\n",
    "        super().__init__()\n",
    "        self.input_size = input_size\n",
    "        self.hidden_size = hidden_size\n",
    "        self.num_layers = num_layers\n",
    "        self.output_size = output_size\n",
    "        self.num_directions = 1\n",
    "        self.batch_size = batch_size\n",
    "        \n",
    "        self.lstm = nn.LSTM(\n",
    "            self.input_size,  # 餵入的特徵種數 (ex:2個變量, input_szie=2)\n",
    "            self.hidden_size, \n",
    "            self.num_layers, \n",
    "            batch_first=True  # Default:(seq_len, batch_size, hidden_size)； True:(batch_size, seq_len, hidden_size)\n",
    "        )\n",
    "        self.linear = nn.Linear(self.hidden_size, self.output_size)  # 串接:(hidden_size) -> (1)\n",
    "\n",
    "    def forward(self, input_seq):\n",
    "        batch_size, seq_len = input_seq.shape[0], input_seq.shape[1]  # 0:batch_size, 1:seq_len\n",
    "        h_0 = torch.randn(self.num_directions * self.num_layers, batch_size, self.hidden_size).to(device)\n",
    "        c_0 = torch.randn(self.num_directions * self.num_layers, batch_size, self.hidden_size).to(device)\n",
    "        # print(input_seq.size())\n",
    "        # input(batch_size, seq_len, input_size)\n",
    "        # input_seq = input_seq.view(self.batch_size, seq_len, self.input_size)\n",
    "        # output(batch_size, seq_len, num_directions * hidden_size)\n",
    "        output, _ = self.lstm(input_seq, (h_0, c_0))  # model_out:(batch_size, seq_len, hidden_size)\n",
    "        # print('output.size=', output.size())\n",
    "        # print(self.batch_size * seq_len, self.hidden_size)\n",
    "        # output = output.contiguous().view(batch_size * seq_len, self.hidden_size)  # (5 * 30, 64)\n",
    "        pred = self.linear(output)  # pred(batch_size, seq_len, output_size)  # 全連接層\n",
    "        # print('pred=', pred.shape)\n",
    "        # pred = pred.view(batch_size, seq_len, -1)\n",
    "        pred = pred[:, -1, :]\n",
    "\n",
    "        return pred"
   ]
  },
  {
   "cell_type": "markdown",
   "id": "b43489d9",
   "metadata": {},
   "source": [
    "## RNN"
   ]
  },
  {
   "cell_type": "code",
   "execution_count": 3,
   "id": "ebfbc3c9",
   "metadata": {},
   "outputs": [],
   "source": [
    "class Simple_RNN(nn.Module):  # LSTM: https://pytorch.org/docs/stable/generated/torch.nn.LSTM.html\n",
    "    def __init__(self, input_size, hidden_size, num_layers, output_size, batch_size):\n",
    "        super().__init__()\n",
    "        self.input_size = input_size\n",
    "        self.hidden_size = hidden_size\n",
    "        self.num_layers = num_layers\n",
    "        self.output_size = output_size\n",
    "        self.num_directions = 1\n",
    "        self.batch_size = batch_size\n",
    "        \n",
    "        self.rnn = nn.RNN(\n",
    "            self.input_size,  # 餵入的特徵種數 (ex:2個變量, input_szie=2)\n",
    "            self.hidden_size, \n",
    "            self.num_layers, \n",
    "            batch_first=True  # Default:(seq_len, batch_size, hidden_size)； True:(batch_size, seq_len, hidden_size)\n",
    "        )\n",
    "        self.linear = nn.Linear(self.hidden_size, self.output_size)  # 串接:(hidden_size) -> (1)\n",
    "\n",
    "    def forward(self, input_seq):\n",
    "        batch_size, seq_len = input_seq.shape[0], input_seq.shape[1]  # 0:batch_size, 1:seq_len\n",
    "        h_0 = torch.randn(self.num_directions * self.num_layers, batch_size, self.hidden_size).to(device)\n",
    "        # print(input_seq.size())\n",
    "        # input(batch_size, seq_len, input_size)\n",
    "        # input_seq = input_seq.view(self.batch_size, seq_len, self.input_size)\n",
    "        # output(batch_size, seq_len, num_directions * hidden_size)\n",
    "        output, _ = self.rnn(input_seq, (h_0))  # model_out:(batch_size, seq_len, hidden_size)\n",
    "        # print('output.size=', output.size())\n",
    "        # print(self.batch_size * seq_len, self.hidden_size)\n",
    "        # output = output.contiguous().view(batch_size * seq_len, self.hidden_size)  # (5 * 30, 64)\n",
    "        pred = self.linear(output)  # pred(batch_size, seq_len, output_size)  # 全連接層\n",
    "        # print('pred=', pred.shape)\n",
    "        # pred = pred.view(batch_size, seq_len, -1)\n",
    "        pred = pred[:, -1, :]\n",
    "\n",
    "        return pred"
   ]
  },
  {
   "cell_type": "markdown",
   "id": "6bf9f94c",
   "metadata": {},
   "source": [
    "## TCN"
   ]
  },
  {
   "cell_type": "code",
   "execution_count": null,
   "id": "78e605c2",
   "metadata": {},
   "outputs": [],
   "source": [
    "class TCN(nn.Module):\n",
    "    def __init__(self, input_size, output_size, num_channels, kernel_size, dropout):\n",
    "        super(TCN, self).__init__()\n",
    "        self.input_size = input_size\n",
    "        self.output_size = output_size\n",
    "        self.num_channels = num_channels\n",
    "        self.kernel_size = kernel_size\n",
    "        self.dropout = dropout\n",
    "        self.conv_layers = []  # 存儲卷積層的列表\n",
    "        self.num_layers = len(num_channels)  # 卷積層的數量\n",
    "        for i in range(self.num_layers):\n",
    "            dilation_size = 2 ** i  # 膨脹率\n",
    "            in_channels = self.input_size if i == 0 else self.num_channels[i-1]   # 輸入通道數\n",
    "            out_channels = self.num_channels[i]  # 輸出通道數\n",
    "            padding_size = int((self.kernel_size - 1) * dilation_size / 2)  # padding 大小\n",
    "            conv_layer = nn.Conv1d(in_channels, out_channels, self.kernel_size, dilation=dilation_size, padding=padding_size)  # 定義卷積層\n",
    "            self.conv_layers.append(conv_layer)  # 添加到卷積層列表中\n",
    "        self.conv_layers = nn.ModuleList(self.conv_layers)  # 將卷積層列表轉換成ModuleList\n",
    "        self.dropout_layer = nn.Dropout(self.dropout)  # 定義 Dropout層\n",
    "        self.fc_layer = nn.Linear(self.num_channels[-1], self.output_size)  # 定義全連接層\n",
    "\n",
    "    def forward(self, x):\n",
    "        \"\"\"\n",
    "        [需做shape的轉換]\n",
    "        len(x): batch_size\n",
    "        len(x[0]): seq_length\n",
    "        len(x[0][0]): input_size (input_channel)\n",
    "        \"\"\"\n",
    "        # shape: (N, L_in, C_in) \n",
    "        output = x.transpose(1,2)  # 輸入張量-轉置\n",
    "        # shape: (N, C_in, L_in)\n",
    "        \n",
    "        \"\"\"Inputs have to have dimension (N, C_in, L_in)\n",
    "        解釋: N 表示批次大小（batch size），C_in 表示序列長度（number of input channels），L_in 表示序列长度（sequence length）\n",
    "        \"\"\"\n",
    "        for i in range(self.num_layers):\n",
    "            conv_layer = self.conv_layers[i]  # 取出卷積層\n",
    "            output = conv_layer(output)  # 卷積操作\n",
    "            output = nn.functional.relu(output)  # ReLU 激活函數\n",
    "            output = self.dropout_layer(output)  # Dropout 操作\n",
    "        output = output.transpose(1,2)  # 輸出張量-轉置\n",
    "        \n",
    "        output = self.fc_layer(output[:,-1,:])   # 全連接層\n",
    "        return output"
   ]
  },
  {
   "cell_type": "code",
   "execution_count": null,
   "id": "e040755a",
   "metadata": {},
   "outputs": [],
   "source": [
    "import torch\n",
    "import torch.nn as nn\n",
    "\n",
    "class TCN_LSTM(nn.Module):\n",
    "    def __init__(self, input_size, output_size, num_channels, kernel_size, dropout, hidden_size, num_layers):\n",
    "        super(TCN_LSTM, self).__init__()\n",
    "        self.input_size = input_size\n",
    "        self.output_size = output_size\n",
    "        self.num_channels = num_channels\n",
    "        self.kernel_size = kernel_size\n",
    "        self.dropout = dropout\n",
    "        self.conv_layers = []\n",
    "        self.num_layers = len(num_channels)\n",
    "        for i in range(self.num_layers):\n",
    "            dilation_size = 2 ** i\n",
    "            in_channels = self.input_size if i == 0 else self.num_channels[i-1]\n",
    "            out_channels = self.num_channels[i]\n",
    "            padding_size = int((self.kernel_size - 1) * dilation_size / 2)\n",
    "            conv_layer = nn.Conv1d(in_channels, out_channels, self.kernel_size, dilation=dilation_size, padding=padding_size)\n",
    "            self.conv_layers.append(conv_layer)\n",
    "        self.conv_layers = nn.ModuleList(self.conv_layers)\n",
    "        self.dropout_layer = nn.Dropout(self.dropout)\n",
    "        self.lstm_layer = nn.LSTM(self.num_channels[-1], hidden_size, num_layers=num_layers, batch_first=True)\n",
    "        self.fc_layer = nn.Linear(hidden_size, self.output_size)\n",
    "\n",
    "    def forward(self, x):\n",
    "        output = x.transpose(1,2)\n",
    "        for i in range(self.num_layers):\n",
    "            conv_layer = self.conv_layers[i]\n",
    "            output = conv_layer(output)\n",
    "            output = nn.functional.relu(output)\n",
    "            output = self.dropout_layer(output)\n",
    "        output = output.transpose(1,2)\n",
    "        output, _ = self.lstm_layer(output)\n",
    "        output = self.fc_layer(output[:,-1,:])\n",
    "        return output"
   ]
  }
 ],
 "metadata": {
  "kernelspec": {
   "display_name": "Python 3 (ipykernel)",
   "language": "python",
   "name": "python3"
  },
  "language_info": {
   "codemirror_mode": {
    "name": "ipython",
    "version": 3
   },
   "file_extension": ".py",
   "mimetype": "text/x-python",
   "name": "python",
   "nbconvert_exporter": "python",
   "pygments_lexer": "ipython3",
   "version": "3.7.13"
  },
  "toc": {
   "base_numbering": 1,
   "nav_menu": {},
   "number_sections": true,
   "sideBar": true,
   "skip_h1_title": false,
   "title_cell": "Table of Contents",
   "title_sidebar": "Contents",
   "toc_cell": false,
   "toc_position": {
    "height": "calc(100% - 180px)",
    "left": "10px",
    "top": "150px",
    "width": "384px"
   },
   "toc_section_display": true,
   "toc_window_display": true
  },
  "varInspector": {
   "cols": {
    "lenName": 16,
    "lenType": 16,
    "lenVar": 40
   },
   "kernels_config": {
    "python": {
     "delete_cmd_postfix": "",
     "delete_cmd_prefix": "del ",
     "library": "var_list.py",
     "varRefreshCmd": "print(var_dic_list())"
    },
    "r": {
     "delete_cmd_postfix": ") ",
     "delete_cmd_prefix": "rm(",
     "library": "var_list.r",
     "varRefreshCmd": "cat(var_dic_list()) "
    }
   },
   "types_to_exclude": [
    "module",
    "function",
    "builtin_function_or_method",
    "instance",
    "_Feature"
   ],
   "window_display": false
  }
 },
 "nbformat": 4,
 "nbformat_minor": 5
}
