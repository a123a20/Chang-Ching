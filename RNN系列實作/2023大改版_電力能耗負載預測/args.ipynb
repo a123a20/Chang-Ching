{
 "cells": [
  {
   "cell_type": "markdown",
   "id": "da1869e9",
   "metadata": {},
   "source": [
    "# <所有參數調整>"
   ]
  },
  {
   "cell_type": "code",
   "execution_count": 1,
   "id": "342e5bf3",
   "metadata": {},
   "outputs": [],
   "source": [
    "import argparse"
   ]
  },
  {
   "cell_type": "markdown",
   "id": "b4a54a8a",
   "metadata": {},
   "source": [
    "## 單變量_單步 (Univar_SingleStep_args)"
   ]
  },
  {
   "cell_type": "code",
   "execution_count": 2,
   "id": "135b601f",
   "metadata": {},
   "outputs": [],
   "source": [
    "def Univar_SingleStep_args():\n",
    "    parser = argparse.ArgumentParser()  # 創立parser物件\n",
    "    parser.add_argument('--epochs', type=int, default=12, help='訓練回合數')\n",
    "    parser.add_argument('--batch_size', type=int, default=30, help='批次大小') \n",
    "    parser.add_argument('--seq_len', type=int, default=7, help='時序長度')\n",
    "    \n",
    "    # 調整-優化器\n",
    "    parser.add_argument('--optimizer', type=str, default='adam', help='優化器種類') \n",
    "    parser.add_argument('--lr', type=float, default=0.001, help='學習率') \n",
    "    parser.add_argument('--weight_decay', type=float, default=1e-4, help='權值衰減(防止過擬合)')  # 參考: https://www.cnblogs.com/jfdwd/p/11239564.html\n",
    "    \n",
    "    # 優化-學習率 (StepLR)\n",
    "    parser.add_argument('--step_size', type=int, default=10, help='學習率下降間隔數') \n",
    "    parser.add_argument('--gamma', type=float, default=0.5, help='調整倍數(lr*gamma)')\n",
    "    \n",
    "    # 調整-模型參數 (LSTM)\n",
    "    parser.add_argument('--input_size', type=int, default=1, help='input_size')  # 輸入_單變量=1\n",
    "    parser.add_argument('--hidden_size', type=int, default=32, help='hidden_size') \n",
    "    parser.add_argument('--num_layers', type=int, default=2, help='num_layers') \n",
    "    parser.add_argument('--output_size', type=int, default=1, help='output_size')  # 輸出_單變量=1\n",
    "    \n",
    "    \n",
    "    args = parser.parse_known_args()[0]  # 取得引數(add_argument)傳來的data\n",
    "    return args\n",
    "\n",
    "# 呼叫方法:\n",
    "\"\"\"\n",
    "args = Univar_SingleStep_args()\n",
    "print(f\"\\n傳送所有變數: {args}\")\n",
    "print(f\"\\n從外面呼叫指定變數: {args.epochs}\")\n",
    "\n",
    "參考: https://zhuanlan.zhihu.com/p/56922793\n",
    "\"\"\""
   ]
  },
  {
   "cell_type": "markdown",
   "id": "de310156",
   "metadata": {},
   "source": [
    "## 多變量_單步 (Multivariate_SingleStep_args)"
   ]
  },
  {
   "cell_type": "code",
   "execution_count": null,
   "id": "d66604d3",
   "metadata": {},
   "outputs": [],
   "source": [
    "def Multivariate_SingleStep_args():\n",
    "    parser = argparse.ArgumentParser()  # 創立parser物件\n",
    "    parser.add_argument('--epochs', type=int, default=12, help='訓練回合數') \n",
    "    parser.add_argument('--batch_size', type=int, default=30, help='批次大小') \n",
    "    parser.add_argument('--seq_len', type=int, default=7, help='時序長度')\n",
    "    \n",
    "    # 調整-優化器\n",
    "    parser.add_argument('--optimizer', type=str, default='adam', help='優化器種類')\n",
    "    parser.add_argument('--lr', type=float, default=0.001, help='學習率')\n",
    "    parser.add_argument('--weight_decay', type=float, default=1e-4, help='權值衰減(防止過擬合)')  # 參考: https://www.cnblogs.com/jfdwd/p/11239564.html\n",
    "    \n",
    "    # 優化-學習率 (StepLR)\n",
    "    parser.add_argument('--step_size', type=int, default=10, help='學習率下降間隔數')\n",
    "    parser.add_argument('--gamma', type=float, default=0.5, help='調整倍數(lr*gamma)')\n",
    "    \n",
    "    # 調整-模型參數 (LSTM)\n",
    "    parser.add_argument('--input_size', type=int, default=7, help='input_size')  # 輸入_多變量=N (主變量放最左，其餘副變量放右)\n",
    "    parser.add_argument('--hidden_size', type=int, default=32, help='hidden_size')\n",
    "    parser.add_argument('--num_layers', type=int, default=2, help='num_layers')\n",
    "    parser.add_argument('--output_size', type=int, default=1, help='output_size')\n",
    "    \n",
    "    \n",
    "    args = parser.parse_known_args()[0]  # 取得引數(add_argument)傳來的data\n",
    "    return args"
   ]
  },
  {
   "cell_type": "markdown",
   "id": "7980c917",
   "metadata": {},
   "source": [
    "## 多變量_多步 (Multivariate_MultiStep_args)"
   ]
  },
  {
   "cell_type": "code",
   "execution_count": null,
   "id": "715da140",
   "metadata": {},
   "outputs": [],
   "source": [
    "def Multivariate_MultiStep_args():\n",
    "    parser = argparse.ArgumentParser()  # 創立parser物件\n",
    "    parser.add_argument('--epochs', type=int, default=12, help='訓練回合數') \n",
    "    parser.add_argument('--batch_size', type=int, default=30, help='批次大小')\n",
    "    parser.add_argument('--seq_len', type=int, default=7, help='時序長度')\n",
    "    \n",
    "    # 調整-優化器\n",
    "    parser.add_argument('--optimizer', type=str, default='adam', help='優化器種類')\n",
    "    parser.add_argument('--lr', type=float, default=0.001, help='學習率')\n",
    "    parser.add_argument('--weight_decay', type=float, default=1e-4, help='權值衰減(防止過擬合)')  # 參考: https://www.cnblogs.com/jfdwd/p/11239564.html\n",
    "    \n",
    "    # 優化-學習率 (StepLR)\n",
    "    parser.add_argument('--step_size', type=int, default=10, help='學習率下降間隔數')\n",
    "    parser.add_argument('--gamma', type=float, default=0.5, help='調整倍數(lr*gamma)')\n",
    "    \n",
    "    # 調整-模型參數 (LSTM)\n",
    "    parser.add_argument('--input_size', type=int, default=7, help='input_size')  # 輸入_多變量=N\n",
    "    parser.add_argument('--hidden_size', type=int, default=32, help='hidden_size')\n",
    "    parser.add_argument('--num_layers', type=int, default=2, help='num_layers')\n",
    "    parser.add_argument('--output_size', type=int, default=2, help='output_size')  # 輸出_多天預測=N\n",
    "    \n",
    "    \n",
    "    args = parser.parse_known_args()[0]  # 取得引數(add_argument)傳來的data\n",
    "    return args"
   ]
  }
 ],
 "metadata": {
  "kernelspec": {
   "display_name": "Python 3 (ipykernel)",
   "language": "python",
   "name": "python3"
  },
  "language_info": {
   "codemirror_mode": {
    "name": "ipython",
    "version": 3
   },
   "file_extension": ".py",
   "mimetype": "text/x-python",
   "name": "python",
   "nbconvert_exporter": "python",
   "pygments_lexer": "ipython3",
   "version": "3.7.13"
  },
  "toc": {
   "base_numbering": 1,
   "nav_menu": {},
   "number_sections": true,
   "sideBar": true,
   "skip_h1_title": false,
   "title_cell": "Table of Contents",
   "title_sidebar": "Contents",
   "toc_cell": false,
   "toc_position": {
    "height": "calc(100% - 180px)",
    "left": "10px",
    "top": "150px",
    "width": "384px"
   },
   "toc_section_display": true,
   "toc_window_display": true
  },
  "varInspector": {
   "cols": {
    "lenName": 16,
    "lenType": 16,
    "lenVar": 40
   },
   "kernels_config": {
    "python": {
     "delete_cmd_postfix": "",
     "delete_cmd_prefix": "del ",
     "library": "var_list.py",
     "varRefreshCmd": "print(var_dic_list())"
    },
    "r": {
     "delete_cmd_postfix": ") ",
     "delete_cmd_prefix": "rm(",
     "library": "var_list.r",
     "varRefreshCmd": "cat(var_dic_list()) "
    }
   },
   "types_to_exclude": [
    "module",
    "function",
    "builtin_function_or_method",
    "instance",
    "_Feature"
   ],
   "window_display": false
  }
 },
 "nbformat": 4,
 "nbformat_minor": 5
}
