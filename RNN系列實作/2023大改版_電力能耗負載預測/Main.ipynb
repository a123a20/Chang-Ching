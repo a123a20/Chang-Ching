{
 "cells": [
  {
   "cell_type": "markdown",
   "id": "d74df4eb",
   "metadata": {},
   "source": [
    "# [Main]"
   ]
  },
  {
   "cell_type": "code",
   "execution_count": 1,
   "id": "99b150f3",
   "metadata": {},
   "outputs": [
    {
     "name": "stdout",
     "output_type": "stream",
     "text": [
      "importing Jupyter notebook from utils.ipynb\n",
      "importing Jupyter notebook from data_process.ipynb\n",
      "importing Jupyter notebook from args.ipynb\n",
      "importing Jupyter notebook from models.ipynb\n"
     ]
    }
   ],
   "source": [
    "import Ipynb_importer  # 支援ipynb呼叫方式\n",
    "\n",
    "from utils import load_data, train, test\n",
    "from args import Univar_SingleStep_args, Multivariate_SingleStep_args, Multivariate_MultiStep_args"
   ]
  },
  {
   "cell_type": "markdown",
   "id": "55033964",
   "metadata": {},
   "source": [
    "# 選擇模型、序列方式"
   ]
  },
  {
   "cell_type": "markdown",
   "id": "c6382bac",
   "metadata": {},
   "source": [
    "- 前處理選擇:\n",
    "    - us: Univar_SingleStep (單變量序列)\n",
    "    - ms: Multivariate_SingleStep (多變量序列)\n",
    "    - mm: Multivariate_MultiStep (多變量+多天序列)\n",
    "---\n",
    "- 模型方式:\n",
    "    - LSTM: 長短期記憶模型  (Long Short-Term Memory)\n",
    "    - TCN: 時間卷積網絡模型  (Temporal Convolution Network)"
   ]
  },
  {
   "cell_type": "code",
   "execution_count": 2,
   "id": "6ec0131f",
   "metadata": {},
   "outputs": [],
   "source": [
    "seq_method = 'us'\n",
    "model_method = 'TCN'"
   ]
  },
  {
   "cell_type": "markdown",
   "id": "61322603",
   "metadata": {},
   "source": [
    "# 訓練"
   ]
  },
  {
   "cell_type": "code",
   "execution_count": 3,
   "id": "566f8007",
   "metadata": {
    "scrolled": false
   },
   "outputs": [
    {
     "name": "stdout",
     "output_type": "stream",
     "text": [
      "seq_len: 7\n",
      "總列數: (3000, 8)\n",
      "序列化_seq_data: (2993, 2)\n",
      "\n",
      "示範:\n",
      "seq: tensor([[0.6209],\n",
      "        [0.5890],\n",
      "        [0.6001],\n",
      "        [0.6056],\n",
      "        [0.6782],\n",
      "        [0.6538],\n",
      "        [0.7577]])\n",
      "label: tensor([0.7906]) \n",
      "----------------------------\n",
      "\n",
      "seq_len: 7\n",
      "總列數: (1000, 8)\n",
      "序列化_seq_data: (993, 2)\n",
      "\n",
      "示範:\n",
      "seq: tensor([[0.4345],\n",
      "        [0.4440],\n",
      "        [0.4058],\n",
      "        [0.4105],\n",
      "        [0.3603],\n",
      "        [0.3877],\n",
      "        [0.5956]])\n",
      "label: tensor([0.6223]) \n",
      "----------------------------\n",
      "\n",
      "seq_len: 7\n",
      "總列數: (1000, 8)\n",
      "序列化_seq_data: (993, 2)\n",
      "\n",
      "示範:\n",
      "seq: tensor([[0.6854],\n",
      "        [0.6605],\n",
      "        [0.6447],\n",
      "        [0.6572],\n",
      "        [0.6823],\n",
      "        [0.5961],\n",
      "        [0.4972]])\n",
      "label: tensor([0.4261]) \n",
      "----------------------------\n",
      "\n",
      "查看模型結構:\n",
      " TCN(\n",
      "  (conv_layers): ModuleList(\n",
      "    (0): Conv1d(1, 8, kernel_size=(6,), stride=(1,), padding=(2,))\n",
      "    (1): Conv1d(8, 25, kernel_size=(6,), stride=(1,), padding=(5,), dilation=(2,))\n",
      "  )\n",
      "  (dropout_layer): Dropout(p=0.1, inplace=False)\n",
      "  (fc_layer): Linear(in_features=25, out_features=1, bias=True)\n",
      ")\n",
      "\n",
      "查看網路參數:\n",
      "conv_layers.0.weight : torch.Size([8, 1, 6])\n",
      "conv_layers.0.bias : torch.Size([8])\n",
      "conv_layers.1.weight : torch.Size([25, 8, 6])\n",
      "conv_layers.1.bias : torch.Size([25])\n",
      "fc_layer.weight : torch.Size([1, 25])\n",
      "fc_layer.bias : torch.Size([1])\n",
      "--------------------------------\n"
     ]
    },
    {
     "name": "stderr",
     "output_type": "stream",
     "text": [
      "  8%|██████▉                                                                            | 1/12 [00:05<01:03,  5.78s/it]"
     ]
    },
    {
     "name": "stdout",
     "output_type": "stream",
     "text": [
      "epoch 000 train_loss 0.12577182 val_loss0.01188239\n"
     ]
    },
    {
     "name": "stderr",
     "output_type": "stream",
     "text": [
      "\r",
      " 17%|█████████████▊                                                                     | 2/12 [00:09<00:48,  4.81s/it]"
     ]
    },
    {
     "name": "stdout",
     "output_type": "stream",
     "text": [
      "epoch 001 train_loss 0.02427964 val_loss0.01068151\n"
     ]
    },
    {
     "name": "stderr",
     "output_type": "stream",
     "text": [
      "\r",
      " 25%|████████████████████▊                                                              | 3/12 [00:15<00:45,  5.01s/it]"
     ]
    },
    {
     "name": "stdout",
     "output_type": "stream",
     "text": [
      "epoch 002 train_loss 0.02142741 val_loss0.01097284\n"
     ]
    },
    {
     "name": "stderr",
     "output_type": "stream",
     "text": [
      "\r",
      " 33%|███████████████████████████▋                                                       | 4/12 [00:20<00:40,  5.01s/it]"
     ]
    },
    {
     "name": "stdout",
     "output_type": "stream",
     "text": [
      "epoch 003 train_loss 0.01876441 val_loss0.01146011\n"
     ]
    },
    {
     "name": "stderr",
     "output_type": "stream",
     "text": [
      "\r",
      " 42%|██████████████████████████████████▌                                                | 5/12 [00:25<00:34,  5.00s/it]"
     ]
    },
    {
     "name": "stdout",
     "output_type": "stream",
     "text": [
      "epoch 004 train_loss 0.01623226 val_loss0.01069537\n"
     ]
    },
    {
     "name": "stderr",
     "output_type": "stream",
     "text": [
      "\r",
      " 50%|█████████████████████████████████████████▌                                         | 6/12 [00:30<00:29,  4.98s/it]"
     ]
    },
    {
     "name": "stdout",
     "output_type": "stream",
     "text": [
      "epoch 005 train_loss 0.01442905 val_loss0.00976629\n"
     ]
    },
    {
     "name": "stderr",
     "output_type": "stream",
     "text": [
      "\r",
      " 58%|████████████████████████████████████████████████▍                                  | 7/12 [00:35<00:24,  4.97s/it]"
     ]
    },
    {
     "name": "stdout",
     "output_type": "stream",
     "text": [
      "epoch 006 train_loss 0.01331536 val_loss0.00957024\n"
     ]
    },
    {
     "name": "stderr",
     "output_type": "stream",
     "text": [
      "\r",
      " 67%|███████████████████████████████████████████████████████▎                           | 8/12 [00:40<00:19,  4.99s/it]"
     ]
    },
    {
     "name": "stdout",
     "output_type": "stream",
     "text": [
      "epoch 007 train_loss 0.01162117 val_loss0.00890035\n"
     ]
    },
    {
     "name": "stderr",
     "output_type": "stream",
     "text": [
      "\r",
      " 75%|██████████████████████████████████████████████████████████████▎                    | 9/12 [00:45<00:15,  5.06s/it]"
     ]
    },
    {
     "name": "stdout",
     "output_type": "stream",
     "text": [
      "epoch 008 train_loss 0.01140442 val_loss0.00772216\n"
     ]
    },
    {
     "name": "stderr",
     "output_type": "stream",
     "text": [
      "\r",
      " 83%|████████████████████████████████████████████████████████████████████▎             | 10/12 [00:50<00:10,  5.18s/it]"
     ]
    },
    {
     "name": "stdout",
     "output_type": "stream",
     "text": [
      "epoch 009 train_loss 0.01075092 val_loss0.00680532\n"
     ]
    },
    {
     "name": "stderr",
     "output_type": "stream",
     "text": [
      "\r",
      " 92%|███████████████████████████████████████████████████████████████████████████▏      | 11/12 [00:56<00:05,  5.25s/it]"
     ]
    },
    {
     "name": "stdout",
     "output_type": "stream",
     "text": [
      "epoch 010 train_loss 0.01003068 val_loss0.00688099\n"
     ]
    },
    {
     "name": "stderr",
     "output_type": "stream",
     "text": [
      "100%|██████████████████████████████████████████████████████████████████████████████████| 12/12 [01:01<00:00,  5.12s/it]"
     ]
    },
    {
     "name": "stdout",
     "output_type": "stream",
     "text": [
      "epoch 011 train_loss 0.00928770 val_loss0.00687961\n"
     ]
    },
    {
     "name": "stderr",
     "output_type": "stream",
     "text": [
      "\n"
     ]
    }
   ],
   "source": [
    "# Train\n",
    "if __name__ == '__main__': \n",
    "    # 設定路徑\n",
    "    if seq_method == 'us':\n",
    "        model_path = './save_models/' + model_method + '_Univar_SingleStep.pkl'\n",
    "        args = Univar_SingleStep_args()\n",
    "    elif seq_method == 'ms':\n",
    "        model_path = './save_models/' + model_method + '_Multivariate_SingleStep.pkl'\n",
    "        args = Multivariate_SingleStep_args()\n",
    "    elif seq_method == 'mm':\n",
    "        model_path = './save_models/' + model_method + '_Multivariate_MultiStep.pkl'\n",
    "        args = Multivariate_MultiStep_args()\n",
    "        \n",
    "    # 進行訓練\n",
    "    Train_seq, Val_seq, Test_seq, m, n = load_data(args, seq_method)  # ~load_data\n",
    "    train(args, Train_seq, Val_seq, model_path, model_method)  # ~train"
   ]
  },
  {
   "cell_type": "markdown",
   "id": "3cbe078a",
   "metadata": {},
   "source": [
    "# 測試"
   ]
  },
  {
   "cell_type": "code",
   "execution_count": 4,
   "id": "ad65dcc9",
   "metadata": {},
   "outputs": [
    {
     "name": "stdout",
     "output_type": "stream",
     "text": [
      "seq_len: 7\n",
      "總列數: (3000, 8)\n",
      "序列化_seq_data: (2993, 2)\n",
      "\n",
      "示範:\n",
      "seq: tensor([[0.6209],\n",
      "        [0.5890],\n",
      "        [0.6001],\n",
      "        [0.6056],\n",
      "        [0.6782],\n",
      "        [0.6538],\n",
      "        [0.7577]])\n",
      "label: tensor([0.7906]) \n",
      "----------------------------\n",
      "\n",
      "seq_len: 7\n",
      "總列數: (1000, 8)\n",
      "序列化_seq_data: (993, 2)\n",
      "\n",
      "示範:\n",
      "seq: tensor([[0.4345],\n",
      "        [0.4440],\n",
      "        [0.4058],\n",
      "        [0.4105],\n",
      "        [0.3603],\n",
      "        [0.3877],\n",
      "        [0.5956]])\n",
      "label: tensor([0.6223]) \n",
      "----------------------------\n",
      "\n",
      "seq_len: 7\n",
      "總列數: (1000, 8)\n",
      "序列化_seq_data: (993, 2)\n",
      "\n",
      "示範:\n",
      "seq: tensor([[0.6854],\n",
      "        [0.6605],\n",
      "        [0.6447],\n",
      "        [0.6572],\n",
      "        [0.6823],\n",
      "        [0.5961],\n",
      "        [0.4972]])\n",
      "label: tensor([0.4261]) \n",
      "----------------------------\n",
      "\n",
      "Loading Model...\n",
      "Start predicting...\n"
     ]
    },
    {
     "name": "stderr",
     "output_type": "stream",
     "text": [
      "100%|██████████████████████████████████████████████████████████████████████████████████| 34/34 [00:01<00:00, 27.88it/s]\n"
     ]
    },
    {
     "name": "stdout",
     "output_type": "stream",
     "text": [
      "y_shape:  (993,)\n",
      "pred_shape:  (993,)\n",
      "\n",
      "y_value:  [151.98400237 173.6020009  162.9830001  155.55300168 150.53499978\n",
      " 145.28300086 169.58800299 210.18899651 199.06700076 213.14899557]\n",
      "pred_value:  [179.0877462  168.68646308 168.71349462 169.30321417 165.16048544\n",
      " 161.79045013 152.48105886 161.53001926 183.29489818 192.18650234] \n",
      "\n",
      "mape: 0.09356331280513225\n"
     ]
    },
    {
     "data": {
      "image/png": "[encoded data removed]",
      "text/plain": [
       "<Figure size 640x480 with 1 Axes>"
      ]
     },
     "metadata": {},
     "output_type": "display_data"
    }
   ],
   "source": [
    "# Test\n",
    "if __name__ == '__main__': \n",
    "    # 設定路徑\n",
    "    if seq_method == 'us':\n",
    "        model_path = './save_models/' + model_method + '_Univar_SingleStep.pkl'\n",
    "        args = Univar_SingleStep_args()\n",
    "    elif seq_method == 'ms':\n",
    "        model_path = './save_models/' + model_method + '_Multivariate_SingleStep.pkl'\n",
    "        args = Multivariate_SingleStep_args()\n",
    "    elif seq_method == 'mm':\n",
    "        model_path = './save_models/' + model_method + '_Multivariate_MultiStep.pkl'\n",
    "        args = Multivariate_MultiStep_args()\n",
    "    # 進行測試\n",
    "    Train_seq, Val_seq, Test_seq, m, n = load_data(args, seq_method)  # ~load_data\n",
    "    test(args, Test_seq, m, n, model_path, model_method)  # ~test"
   ]
  }
 ],
 "metadata": {
  "kernelspec": {
   "display_name": "Python 3 (ipykernel)",
   "language": "python",
   "name": "python3"
  },
  "language_info": {
   "codemirror_mode": {
    "name": "ipython",
    "version": 3
   },
   "file_extension": ".py",
   "mimetype": "text/x-python",
   "name": "python",
   "nbconvert_exporter": "python",
   "pygments_lexer": "ipython3",
   "version": "3.7.13"
  },
  "toc": {
   "base_numbering": 1,
   "nav_menu": {},
   "number_sections": true,
   "sideBar": true,
   "skip_h1_title": false,
   "title_cell": "Table of Contents",
   "title_sidebar": "Contents",
   "toc_cell": false,
   "toc_position": {},
   "toc_section_display": true,
   "toc_window_display": true
  },
  "varInspector": {
   "cols": {
    "lenName": 16,
    "lenType": 16,
    "lenVar": 40
   },
   "kernels_config": {
    "python": {
     "delete_cmd_postfix": "",
     "delete_cmd_prefix": "del ",
     "library": "var_list.py",
     "varRefreshCmd": "print(var_dic_list())"
    },
    "r": {
     "delete_cmd_postfix": ") ",
     "delete_cmd_prefix": "rm(",
     "library": "var_list.r",
     "varRefreshCmd": "cat(var_dic_list()) "
    }
   },
   "types_to_exclude": [
    "module",
    "function",
    "builtin_function_or_method",
    "instance",
    "_Feature"
   ],
   "window_display": false
  }
 },
 "nbformat": 4,
 "nbformat_minor": 5
}
